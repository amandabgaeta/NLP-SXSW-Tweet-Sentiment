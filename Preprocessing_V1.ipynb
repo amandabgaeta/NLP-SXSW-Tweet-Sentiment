{
 "cells": [
  {
   "cell_type": "markdown",
   "metadata": {},
   "source": [
    "# Introduction\n",
    "\n",
    "This notebook documents the first approach to preprocessing utilizing a tweet specific processing package along with nltk to create the dataset input for modeling.\n",
    "\n",
    "Additionally this notebook has iterations upon the dataset where feature engineering was applied to denote brand (Apple versus Google) and type of tweet subject (product, service, app, none) that was appended to the sparse matrix for the vocabulary utilized in each tweet.\n",
    "\n",
    "Note: this is a scratch notebook, but necessary to understand the full scope of iterations done in the modeling process"
   ]
  },
  {
   "cell_type": "markdown",
   "metadata": {},
   "source": [
    "## Summary\n",
    "\n",
    "### Business Case\n",
    "\n",
    "#### Background\n",
    "A marketing agency specializing in brand representation at large scale events/festivals (like SXSW) is building an internal tool to help manage social presence of major brands.\n",
    "\n",
    "This project is the first step in building a base model to fuel auto-responses and amplification of positive tweets for their clients that will aid in social presence and positive interactions with the brand.\n",
    "\n",
    "The agency invested in manually labelling these tweets positive/negative/neutral to support building the first model with the intention to build this dataset and predictiveness over time.\n",
    "\n",
    "#### Metrics\n",
    "Beyond the foundational goal of building a model with accuracy above a random guess, **the main goal in mind is to accurately label _positive tweets_; thus the model iteration focuses on maximizing precision scores**. This minimizes False Positives where a negative or neutral tweet is classified as positive and company amplifies promoting something that attendees view negatively about a brand. A False Positive would be more harmful than a False Negative where a positive tweet is classified as negative, and company misses opportunity to amplify messaging around something that customers view positively.\n",
    "\n",
    "### Base Dataset Visualizations\n",
    "- [Brand Tweet Count](#DV_1)\n",
    "- [Sentiment Tweet Count](#DV_2)\n",
    "- [Brand Tweet Count by Sentiment](#DV_3)\n",
    "- [Sentiment Tweet Count by Brand](#DV_4)\n",
    "\n",
    "\n",
    "\n",
    "### Models\n",
    "\n",
    "**Phase 1: Data Version 1 and Baseline Testing**\n",
    "- [Model 1 - Naive Bayes + CountVec](#Model_1)\n",
    "- [Model 2 - Naive Bayes + TF-IDF](#Model_2)\n",
    "- [Model 3 - Random Forest + TF-IDF](#Model_3)\n",
    "\n",
    "**Phase 2: Data Version 2 + 3 and Model Retesting**\n",
    "- [Model 4 - Data Version 2 Naive Bayes + TF-IDF](#Model_4)\n",
    "- [Model 5 - Data Version 3 Naive Bayes + TF-IDF](#Model_5)\n",
    "- [Model 6 - Data Version 3 Random Forest + TF-IDF](#Model_6)"
   ]
  },
  {
   "cell_type": "markdown",
   "metadata": {},
   "source": [
    "## Conclusion and Next Steps\n",
    "\n",
    "There was limited ability to get movement in model score results beyond the baseline in regards to accuracy and precision metrics.\n",
    "\n",
    "I recognized that preprocessing decisions may have played a part in this. Thus Preprocessing_V2 notebook in this repository, the most updated approach, was created. This V2 notebook applies the SpaCy package in the preprocessing step and leads to improvement in the goal metric of precision using SVC."
   ]
  },
  {
   "cell_type": "markdown",
   "metadata": {},
   "source": [
    "### Imports"
   ]
  },
  {
   "cell_type": "code",
   "execution_count": 1,
   "metadata": {},
   "outputs": [],
   "source": [
    "# Basics\n",
    "import pandas as pd\n",
    "import numpy as np\n",
    "import matplotlib.pyplot as plt\n",
    "\n",
    "# Preprocessing tweets\n",
    "import re\n",
    "import nltk\n",
    "import string\n",
    "from nltk.corpus import stopwords\n",
    "from nltk import word_tokenize\n",
    "from nltk.stem import WordNetLemmatizer\n",
    "\n",
    "# Modeling\n",
    "from sklearn.model_selection import train_test_split\n",
    "from sklearn.naive_bayes import MultinomialNB\n",
    "from sklearn.ensemble import RandomForestClassifier\n",
    "from sklearn.metrics import accuracy_score, plot_confusion_matrix, precision_score, f1_score\n",
    "\n",
    "# Vectorizers\n",
    "from sklearn.feature_extraction.text import CountVectorizer\n",
    "from sklearn.feature_extraction.text import TfidfVectorizer"
   ]
  },
  {
   "cell_type": "code",
   "execution_count": 2,
   "metadata": {},
   "outputs": [],
   "source": [
    "# import file\n",
    "df = pd.read_csv('data/judge-1377884607_tweet_product_company.csv', encoding= 'unicode_escape')"
   ]
  },
  {
   "cell_type": "code",
   "execution_count": 3,
   "metadata": {
    "scrolled": true
   },
   "outputs": [
    {
     "data": {
      "text/html": [
       "<div>\n",
       "<style scoped>\n",
       "    .dataframe tbody tr th:only-of-type {\n",
       "        vertical-align: middle;\n",
       "    }\n",
       "\n",
       "    .dataframe tbody tr th {\n",
       "        vertical-align: top;\n",
       "    }\n",
       "\n",
       "    .dataframe thead th {\n",
       "        text-align: right;\n",
       "    }\n",
       "</style>\n",
       "<table border=\"1\" class=\"dataframe\">\n",
       "  <thead>\n",
       "    <tr style=\"text-align: right;\">\n",
       "      <th></th>\n",
       "      <th>tweet_text</th>\n",
       "      <th>emotion_in_tweet_is_directed_at</th>\n",
       "      <th>is_there_an_emotion_directed_at_a_brand_or_product</th>\n",
       "    </tr>\n",
       "  </thead>\n",
       "  <tbody>\n",
       "    <tr>\n",
       "      <th>0</th>\n",
       "      <td>.@wesley83 I have a 3G iPhone. After 3 hrs twe...</td>\n",
       "      <td>iPhone</td>\n",
       "      <td>Negative emotion</td>\n",
       "    </tr>\n",
       "    <tr>\n",
       "      <th>1</th>\n",
       "      <td>@jessedee Know about @fludapp ? Awesome iPad/i...</td>\n",
       "      <td>iPad or iPhone App</td>\n",
       "      <td>Positive emotion</td>\n",
       "    </tr>\n",
       "    <tr>\n",
       "      <th>2</th>\n",
       "      <td>@swonderlin Can not wait for #iPad 2 also. The...</td>\n",
       "      <td>iPad</td>\n",
       "      <td>Positive emotion</td>\n",
       "    </tr>\n",
       "    <tr>\n",
       "      <th>3</th>\n",
       "      <td>@sxsw I hope this year's festival isn't as cra...</td>\n",
       "      <td>iPad or iPhone App</td>\n",
       "      <td>Negative emotion</td>\n",
       "    </tr>\n",
       "    <tr>\n",
       "      <th>4</th>\n",
       "      <td>@sxtxstate great stuff on Fri #SXSW: Marissa M...</td>\n",
       "      <td>Google</td>\n",
       "      <td>Positive emotion</td>\n",
       "    </tr>\n",
       "    <tr>\n",
       "      <th>5</th>\n",
       "      <td>@teachntech00 New iPad Apps For #SpeechTherapy...</td>\n",
       "      <td>NaN</td>\n",
       "      <td>No emotion toward brand or product</td>\n",
       "    </tr>\n",
       "    <tr>\n",
       "      <th>6</th>\n",
       "      <td>NaN</td>\n",
       "      <td>NaN</td>\n",
       "      <td>No emotion toward brand or product</td>\n",
       "    </tr>\n",
       "    <tr>\n",
       "      <th>7</th>\n",
       "      <td>#SXSW is just starting, #CTIA is around the co...</td>\n",
       "      <td>Android</td>\n",
       "      <td>Positive emotion</td>\n",
       "    </tr>\n",
       "    <tr>\n",
       "      <th>8</th>\n",
       "      <td>Beautifully smart and simple idea RT @madebyma...</td>\n",
       "      <td>iPad or iPhone App</td>\n",
       "      <td>Positive emotion</td>\n",
       "    </tr>\n",
       "    <tr>\n",
       "      <th>9</th>\n",
       "      <td>Counting down the days to #sxsw plus strong Ca...</td>\n",
       "      <td>Apple</td>\n",
       "      <td>Positive emotion</td>\n",
       "    </tr>\n",
       "  </tbody>\n",
       "</table>\n",
       "</div>"
      ],
      "text/plain": [
       "                                          tweet_text  \\\n",
       "0  .@wesley83 I have a 3G iPhone. After 3 hrs twe...   \n",
       "1  @jessedee Know about @fludapp ? Awesome iPad/i...   \n",
       "2  @swonderlin Can not wait for #iPad 2 also. The...   \n",
       "3  @sxsw I hope this year's festival isn't as cra...   \n",
       "4  @sxtxstate great stuff on Fri #SXSW: Marissa M...   \n",
       "5  @teachntech00 New iPad Apps For #SpeechTherapy...   \n",
       "6                                                NaN   \n",
       "7  #SXSW is just starting, #CTIA is around the co...   \n",
       "8  Beautifully smart and simple idea RT @madebyma...   \n",
       "9  Counting down the days to #sxsw plus strong Ca...   \n",
       "\n",
       "  emotion_in_tweet_is_directed_at  \\\n",
       "0                          iPhone   \n",
       "1              iPad or iPhone App   \n",
       "2                            iPad   \n",
       "3              iPad or iPhone App   \n",
       "4                          Google   \n",
       "5                             NaN   \n",
       "6                             NaN   \n",
       "7                         Android   \n",
       "8              iPad or iPhone App   \n",
       "9                           Apple   \n",
       "\n",
       "  is_there_an_emotion_directed_at_a_brand_or_product  \n",
       "0                                   Negative emotion  \n",
       "1                                   Positive emotion  \n",
       "2                                   Positive emotion  \n",
       "3                                   Negative emotion  \n",
       "4                                   Positive emotion  \n",
       "5                 No emotion toward brand or product  \n",
       "6                 No emotion toward brand or product  \n",
       "7                                   Positive emotion  \n",
       "8                                   Positive emotion  \n",
       "9                                   Positive emotion  "
      ]
     },
     "execution_count": 3,
     "metadata": {},
     "output_type": "execute_result"
    }
   ],
   "source": [
    "# Preview file \n",
    "df.head(10)"
   ]
  },
  {
   "cell_type": "code",
   "execution_count": 4,
   "metadata": {},
   "outputs": [
    {
     "name": "stdout",
     "output_type": "stream",
     "text": [
      "<class 'pandas.core.frame.DataFrame'>\n",
      "RangeIndex: 9093 entries, 0 to 9092\n",
      "Data columns (total 3 columns):\n",
      "tweet_text                                            9092 non-null object\n",
      "emotion_in_tweet_is_directed_at                       3291 non-null object\n",
      "is_there_an_emotion_directed_at_a_brand_or_product    9093 non-null object\n",
      "dtypes: object(3)\n",
      "memory usage: 213.2+ KB\n"
     ]
    }
   ],
   "source": [
    "# Overview file\n",
    "df.info()"
   ]
  },
  {
   "cell_type": "markdown",
   "metadata": {},
   "source": [
    "### Functions"
   ]
  },
  {
   "cell_type": "code",
   "execution_count": 5,
   "metadata": {},
   "outputs": [],
   "source": [
    "# Thanks to my Flatiron DS teacher, Lindsey Berlin!\n",
    "def classify_vectorized_text(vectorizer, classifier, X_train, X_test, y_train, y_test):\n",
    "    '''\n",
    "    Fit and transform text data using the provided vectorizer, then fit and \n",
    "    predict with the provided classifier, in order to see the resulting\n",
    "    accuracy score and confusion matrix\n",
    "    For the Xtrain, Xtest, ytrain, ytest, expect the output of an\n",
    "    sklearn train/test split\n",
    "    -\n",
    "    Inputs:\n",
    "    vectorizer: an instantiated sklearn vectorizer\n",
    "    classifier: an instantiated sklearn classifier\n",
    "    X_train: training input data\n",
    "    X_test: testing input data\n",
    "    y_train: training true result\n",
    "    y_test: testing true result\n",
    "    -\n",
    "    Outputs: \n",
    "    train_preds: predicted results for the train set\n",
    "    test_preds: predicted results for the test set\n",
    "    '''\n",
    "\n",
    "    X_train_transformed = vectorizer.fit_transform(X_train) #learning corpus of training data (holistic)\n",
    "    X_test_transformed = vectorizer.transform(X_test) # new words only in test set won't impact\n",
    "\n",
    "    classifier.fit(X_train_transformed, y_train)\n",
    "\n",
    "    train_preds = classifier.predict(X_train_transformed)\n",
    "    test_preds = classifier.predict(X_test_transformed)\n",
    "\n",
    "    print(f'Accuracy:{accuracy_score(y_test, test_preds)}')\n",
    "    print(f'Precision:{precision_score(y_test, test_preds)}')\n",
    "    print(f'F1 Score:{f1_score(y_test, test_preds)}')\n",
    "    plot_confusion_matrix(classifier, X_test_transformed, y_test,\n",
    "                          values_format=\".4g\")  # to make numbers readable\n",
    "    plt.show()\n",
    "\n",
    "    return(train_preds, test_preds)"
   ]
  },
  {
   "cell_type": "markdown",
   "metadata": {},
   "source": [
    "### Data Exploration and Early Feature Engineering\n",
    "\n",
    "Checked:\n",
    "- value counts\n",
    "- nulls\n",
    "- class balance\n",
    "\n",
    "Created:\n",
    "- brand_directed_at\n",
    "- num_brand_directed_at\n",
    "- type_directed_at\n",
    "- num_type_directed_at"
   ]
  },
  {
   "cell_type": "code",
   "execution_count": 6,
   "metadata": {},
   "outputs": [
    {
     "data": {
      "text/plain": [
       "iPad                               946\n",
       "Apple                              661\n",
       "iPad or iPhone App                 470\n",
       "Google                             430\n",
       "iPhone                             297\n",
       "Other Google product or service    293\n",
       "Android App                         81\n",
       "Android                             78\n",
       "Other Apple product or service      35\n",
       "Name: emotion_in_tweet_is_directed_at, dtype: int64"
      ]
     },
     "execution_count": 6,
     "metadata": {},
     "output_type": "execute_result"
    }
   ],
   "source": [
    "# Value counts exploration\n",
    "df['emotion_in_tweet_is_directed_at'].value_counts()"
   ]
  },
  {
   "cell_type": "code",
   "execution_count": 7,
   "metadata": {},
   "outputs": [],
   "source": [
    "# Fill nulls\n",
    "df['emotion_in_tweet_is_directed_at'].fillna('None', inplace=True)"
   ]
  },
  {
   "cell_type": "code",
   "execution_count": 8,
   "metadata": {},
   "outputs": [
    {
     "data": {
      "text/plain": [
       "None                               5802\n",
       "iPad                                946\n",
       "Apple                               661\n",
       "iPad or iPhone App                  470\n",
       "Google                              430\n",
       "iPhone                              297\n",
       "Other Google product or service     293\n",
       "Android App                          81\n",
       "Android                              78\n",
       "Other Apple product or service       35\n",
       "Name: emotion_in_tweet_is_directed_at, dtype: int64"
      ]
     },
     "execution_count": 8,
     "metadata": {},
     "output_type": "execute_result"
    }
   ],
   "source": [
    "# Recheck\n",
    "df['emotion_in_tweet_is_directed_at'].value_counts()"
   ]
  },
  {
   "cell_type": "code",
   "execution_count": 9,
   "metadata": {},
   "outputs": [],
   "source": [
    "# Create feature to simplify 'emotion' data to brand level (Apple, Google, or None)\n",
    "df['brand_directed_at'] = df['emotion_in_tweet_is_directed_at'].map({'iPad': 'Apple',\n",
    "                                                                    'Apple':'Apple',\n",
    "                                                                    'iPad or iPhone App': 'Apple',\n",
    "                                                                    'Google': 'Google', \n",
    "                                                                    'iPhone':'Apple',\n",
    "                                                                    'Other Google product or service': 'Google',\n",
    "                                                                    'Android App': 'Google', \n",
    "                                                                    'Android': 'Google',\n",
    "                                                                    'Other Apple product or service':'Apple',\n",
    "                                                                    'None':'None'})"
   ]
  },
  {
   "cell_type": "code",
   "execution_count": 10,
   "metadata": {
    "scrolled": true
   },
   "outputs": [
    {
     "data": {
      "text/plain": [
       "None      5802\n",
       "Apple     2409\n",
       "Google     882\n",
       "Name: brand_directed_at, dtype: int64"
      ]
     },
     "execution_count": 10,
     "metadata": {},
     "output_type": "execute_result"
    }
   ],
   "source": [
    "df['brand_directed_at'].value_counts()"
   ]
  },
  {
   "cell_type": "code",
   "execution_count": 11,
   "metadata": {},
   "outputs": [],
   "source": [
    "# Create numerical version for model testing\n",
    "df['num_brand_directed_at'] = df['brand_directed_at'].map({'None': 0,\n",
    "                                                           'Apple': 1,\n",
    "                                                           'Google': 2})"
   ]
  },
  {
   "cell_type": "code",
   "execution_count": 12,
   "metadata": {},
   "outputs": [],
   "source": [
    "# Create feature to translate 'emotion' data to type level (Product, Brand, App, Service, None)\n",
    "df['type_directed_at'] = df['emotion_in_tweet_is_directed_at'].map({'iPad': 'Product',\n",
    "                                                                    'Apple':'Brand',\n",
    "                                                                    'iPad or iPhone App': 'App',\n",
    "                                                                    'Google': 'Brand', \n",
    "                                                                    'iPhone':'Product',\n",
    "                                                                    'Other Google product or service': 'Service',\n",
    "                                                                    'Android App': 'App', \n",
    "                                                                    'Android': 'Product',\n",
    "                                                                    'Other Apple product or service':'Service',\n",
    "                                                                    'None':'None'})"
   ]
  },
  {
   "cell_type": "code",
   "execution_count": 13,
   "metadata": {},
   "outputs": [],
   "source": [
    "# Create numerical version for model testing\n",
    "df['num_type_directed_at'] = df['type_directed_at'].map({'None': 0,\n",
    "                                                         'Product': 1,\n",
    "                                                         'Brand': 2,\n",
    "                                                         'App': 3,\n",
    "                                                         'Service': 4})"
   ]
  },
  {
   "cell_type": "code",
   "execution_count": 14,
   "metadata": {},
   "outputs": [
    {
     "data": {
      "text/plain": [
       "No emotion toward brand or product    5389\n",
       "Positive emotion                      2978\n",
       "Negative emotion                       570\n",
       "I can't tell                           156\n",
       "Name: is_there_an_emotion_directed_at_a_brand_or_product, dtype: int64"
      ]
     },
     "execution_count": 14,
     "metadata": {},
     "output_type": "execute_result"
    }
   ],
   "source": [
    "# Value counts exploration\n",
    "df['is_there_an_emotion_directed_at_a_brand_or_product'].value_counts()"
   ]
  },
  {
   "cell_type": "code",
   "execution_count": 15,
   "metadata": {},
   "outputs": [],
   "source": [
    "# Filter down emotions to Neutral\n",
    "df['is_there_an_emotion_directed_at_a_brand_or_product'] = df['is_there_an_emotion_directed_at_a_brand_or_product'].map({\"No emotion toward brand or product\" : \"Neutral\",\n",
    "                                                                                                                         \"Positive emotion\": \"Positive\",\n",
    "                                                                                                                         \"Negative emotion\": \"Negative\",\n",
    "                                                                                                                         \"I can't tell\": \"Neutral\"})"
   ]
  },
  {
   "cell_type": "code",
   "execution_count": 16,
   "metadata": {
    "scrolled": true
   },
   "outputs": [
    {
     "data": {
      "text/plain": [
       "Neutral     5545\n",
       "Positive    2978\n",
       "Negative     570\n",
       "Name: is_there_an_emotion_directed_at_a_brand_or_product, dtype: int64"
      ]
     },
     "execution_count": 16,
     "metadata": {},
     "output_type": "execute_result"
    }
   ],
   "source": [
    "# 67/33 split (33% positive), class imbalance\n",
    "df['is_there_an_emotion_directed_at_a_brand_or_product'].value_counts()"
   ]
  },
  {
   "cell_type": "code",
   "execution_count": 17,
   "metadata": {},
   "outputs": [],
   "source": [
    "# Create target; Positive only - 32%\n",
    "df['target'] = df['is_there_an_emotion_directed_at_a_brand_or_product'].map({\"Positive\": 1,\n",
    "                                                                             \"Neutral\": 0,\n",
    "                                                                             \"Negative\": 0})"
   ]
  },
  {
   "cell_type": "code",
   "execution_count": 18,
   "metadata": {},
   "outputs": [
    {
     "data": {
      "text/html": [
       "<div>\n",
       "<style scoped>\n",
       "    .dataframe tbody tr th:only-of-type {\n",
       "        vertical-align: middle;\n",
       "    }\n",
       "\n",
       "    .dataframe tbody tr th {\n",
       "        vertical-align: top;\n",
       "    }\n",
       "\n",
       "    .dataframe thead th {\n",
       "        text-align: right;\n",
       "    }\n",
       "</style>\n",
       "<table border=\"1\" class=\"dataframe\">\n",
       "  <thead>\n",
       "    <tr style=\"text-align: right;\">\n",
       "      <th></th>\n",
       "      <th>tweet_text</th>\n",
       "      <th>emotion_in_tweet_is_directed_at</th>\n",
       "      <th>is_there_an_emotion_directed_at_a_brand_or_product</th>\n",
       "      <th>brand_directed_at</th>\n",
       "      <th>num_brand_directed_at</th>\n",
       "      <th>type_directed_at</th>\n",
       "      <th>num_type_directed_at</th>\n",
       "      <th>target</th>\n",
       "    </tr>\n",
       "  </thead>\n",
       "  <tbody>\n",
       "    <tr>\n",
       "      <th>0</th>\n",
       "      <td>.@wesley83 I have a 3G iPhone. After 3 hrs twe...</td>\n",
       "      <td>iPhone</td>\n",
       "      <td>Negative</td>\n",
       "      <td>Apple</td>\n",
       "      <td>1</td>\n",
       "      <td>Product</td>\n",
       "      <td>1</td>\n",
       "      <td>0</td>\n",
       "    </tr>\n",
       "    <tr>\n",
       "      <th>1</th>\n",
       "      <td>@jessedee Know about @fludapp ? Awesome iPad/i...</td>\n",
       "      <td>iPad or iPhone App</td>\n",
       "      <td>Positive</td>\n",
       "      <td>Apple</td>\n",
       "      <td>1</td>\n",
       "      <td>App</td>\n",
       "      <td>3</td>\n",
       "      <td>1</td>\n",
       "    </tr>\n",
       "    <tr>\n",
       "      <th>2</th>\n",
       "      <td>@swonderlin Can not wait for #iPad 2 also. The...</td>\n",
       "      <td>iPad</td>\n",
       "      <td>Positive</td>\n",
       "      <td>Apple</td>\n",
       "      <td>1</td>\n",
       "      <td>Product</td>\n",
       "      <td>1</td>\n",
       "      <td>1</td>\n",
       "    </tr>\n",
       "    <tr>\n",
       "      <th>3</th>\n",
       "      <td>@sxsw I hope this year's festival isn't as cra...</td>\n",
       "      <td>iPad or iPhone App</td>\n",
       "      <td>Negative</td>\n",
       "      <td>Apple</td>\n",
       "      <td>1</td>\n",
       "      <td>App</td>\n",
       "      <td>3</td>\n",
       "      <td>0</td>\n",
       "    </tr>\n",
       "    <tr>\n",
       "      <th>4</th>\n",
       "      <td>@sxtxstate great stuff on Fri #SXSW: Marissa M...</td>\n",
       "      <td>Google</td>\n",
       "      <td>Positive</td>\n",
       "      <td>Google</td>\n",
       "      <td>2</td>\n",
       "      <td>Brand</td>\n",
       "      <td>2</td>\n",
       "      <td>1</td>\n",
       "    </tr>\n",
       "  </tbody>\n",
       "</table>\n",
       "</div>"
      ],
      "text/plain": [
       "                                          tweet_text  \\\n",
       "0  .@wesley83 I have a 3G iPhone. After 3 hrs twe...   \n",
       "1  @jessedee Know about @fludapp ? Awesome iPad/i...   \n",
       "2  @swonderlin Can not wait for #iPad 2 also. The...   \n",
       "3  @sxsw I hope this year's festival isn't as cra...   \n",
       "4  @sxtxstate great stuff on Fri #SXSW: Marissa M...   \n",
       "\n",
       "  emotion_in_tweet_is_directed_at  \\\n",
       "0                          iPhone   \n",
       "1              iPad or iPhone App   \n",
       "2                            iPad   \n",
       "3              iPad or iPhone App   \n",
       "4                          Google   \n",
       "\n",
       "  is_there_an_emotion_directed_at_a_brand_or_product brand_directed_at  \\\n",
       "0                                           Negative             Apple   \n",
       "1                                           Positive             Apple   \n",
       "2                                           Positive             Apple   \n",
       "3                                           Negative             Apple   \n",
       "4                                           Positive            Google   \n",
       "\n",
       "   num_brand_directed_at type_directed_at  num_type_directed_at  target  \n",
       "0                      1          Product                     1       0  \n",
       "1                      1              App                     3       1  \n",
       "2                      1          Product                     1       1  \n",
       "3                      1              App                     3       0  \n",
       "4                      2            Brand                     2       1  "
      ]
     },
     "execution_count": 18,
     "metadata": {},
     "output_type": "execute_result"
    }
   ],
   "source": [
    "# Check work\n",
    "df.head()"
   ]
  },
  {
   "cell_type": "code",
   "execution_count": 19,
   "metadata": {},
   "outputs": [
    {
     "data": {
      "text/plain": [
       "tweet_text                                            1\n",
       "emotion_in_tweet_is_directed_at                       0\n",
       "is_there_an_emotion_directed_at_a_brand_or_product    0\n",
       "brand_directed_at                                     0\n",
       "num_brand_directed_at                                 0\n",
       "type_directed_at                                      0\n",
       "num_type_directed_at                                  0\n",
       "target                                                0\n",
       "dtype: int64"
      ]
     },
     "execution_count": 19,
     "metadata": {},
     "output_type": "execute_result"
    }
   ],
   "source": [
    "# Check for nulls\n",
    "df.isnull().sum()"
   ]
  },
  {
   "cell_type": "code",
   "execution_count": 20,
   "metadata": {},
   "outputs": [
    {
     "data": {
      "text/html": [
       "<div>\n",
       "<style scoped>\n",
       "    .dataframe tbody tr th:only-of-type {\n",
       "        vertical-align: middle;\n",
       "    }\n",
       "\n",
       "    .dataframe tbody tr th {\n",
       "        vertical-align: top;\n",
       "    }\n",
       "\n",
       "    .dataframe thead th {\n",
       "        text-align: right;\n",
       "    }\n",
       "</style>\n",
       "<table border=\"1\" class=\"dataframe\">\n",
       "  <thead>\n",
       "    <tr style=\"text-align: right;\">\n",
       "      <th></th>\n",
       "      <th>tweet_text</th>\n",
       "      <th>emotion_in_tweet_is_directed_at</th>\n",
       "      <th>is_there_an_emotion_directed_at_a_brand_or_product</th>\n",
       "      <th>brand_directed_at</th>\n",
       "      <th>num_brand_directed_at</th>\n",
       "      <th>type_directed_at</th>\n",
       "      <th>num_type_directed_at</th>\n",
       "      <th>target</th>\n",
       "    </tr>\n",
       "  </thead>\n",
       "  <tbody>\n",
       "    <tr>\n",
       "      <th>6</th>\n",
       "      <td>NaN</td>\n",
       "      <td>None</td>\n",
       "      <td>Neutral</td>\n",
       "      <td>None</td>\n",
       "      <td>0</td>\n",
       "      <td>None</td>\n",
       "      <td>0</td>\n",
       "      <td>0</td>\n",
       "    </tr>\n",
       "  </tbody>\n",
       "</table>\n",
       "</div>"
      ],
      "text/plain": [
       "  tweet_text emotion_in_tweet_is_directed_at  \\\n",
       "6        NaN                            None   \n",
       "\n",
       "  is_there_an_emotion_directed_at_a_brand_or_product brand_directed_at  \\\n",
       "6                                            Neutral              None   \n",
       "\n",
       "   num_brand_directed_at type_directed_at  num_type_directed_at  target  \n",
       "6                      0             None                     0       0  "
      ]
     },
     "execution_count": 20,
     "metadata": {},
     "output_type": "execute_result"
    }
   ],
   "source": [
    "# Dropping null code was not performing, tracked down the individual row\n",
    "df[df['tweet_text'].isnull()]"
   ]
  },
  {
   "cell_type": "code",
   "execution_count": 21,
   "metadata": {},
   "outputs": [],
   "source": [
    "# Dropped row 6\n",
    "df.drop(labels=6, axis=0, inplace=True)"
   ]
  },
  {
   "cell_type": "code",
   "execution_count": 22,
   "metadata": {},
   "outputs": [],
   "source": [
    "# reset index post drop\n",
    "df = df.reset_index(drop=True)"
   ]
  },
  {
   "cell_type": "code",
   "execution_count": 23,
   "metadata": {
    "scrolled": true
   },
   "outputs": [
    {
     "name": "stdout",
     "output_type": "stream",
     "text": [
      "<class 'pandas.core.frame.DataFrame'>\n",
      "RangeIndex: 9092 entries, 0 to 9091\n",
      "Data columns (total 8 columns):\n",
      "tweet_text                                            9092 non-null object\n",
      "emotion_in_tweet_is_directed_at                       9092 non-null object\n",
      "is_there_an_emotion_directed_at_a_brand_or_product    9092 non-null object\n",
      "brand_directed_at                                     9092 non-null object\n",
      "num_brand_directed_at                                 9092 non-null int64\n",
      "type_directed_at                                      9092 non-null object\n",
      "num_type_directed_at                                  9092 non-null int64\n",
      "target                                                9092 non-null int64\n",
      "dtypes: int64(3), object(5)\n",
      "memory usage: 568.4+ KB\n"
     ]
    }
   ],
   "source": [
    "# Check current df\n",
    "df.info()"
   ]
  },
  {
   "cell_type": "markdown",
   "metadata": {},
   "source": [
    "### Base Dataset Visualization"
   ]
  },
  {
   "cell_type": "markdown",
   "metadata": {},
   "source": [
    "<a id=\"DV_1\"></a>"
   ]
  },
  {
   "cell_type": "code",
   "execution_count": 24,
   "metadata": {
    "scrolled": true
   },
   "outputs": [
    {
     "data": {
      "image/png": "[encoded data removed]",
      "text/plain": [
       "<Figure size 1440x720 with 1 Axes>"
      ]
     },
     "metadata": {
      "needs_background": "light"
     },
     "output_type": "display_data"
    }
   ],
   "source": [
    "# Plot tweet count by Brand directed at\n",
    "ax = df['brand_directed_at'].value_counts().plot(kind='bar',\n",
    "                                                 figsize=(20,10))\n",
    "ax.set_title(\"Brand Tweet Count\", fontsize=20, fontweight=\"bold\")\n",
    "ax.set_xlabel(\"Brands\", fontsize=14)\n",
    "ax.set_ylabel(\"Count\", fontsize=14)\n",
    "plt.savefig(\"images/1_brand_tweet_count\")\n",
    "plt.show()\n",
    "# Many tweets shown to not be directed at a brand"
   ]
  },
  {
   "cell_type": "markdown",
   "metadata": {},
   "source": [
    "<a id=\"DV_2\"></a>"
   ]
  },
  {
   "cell_type": "code",
   "execution_count": 25,
   "metadata": {},
   "outputs": [
    {
     "data": {
      "image/png": "[encoded data removed]",
      "text/plain": [
       "<Figure size 1440x720 with 1 Axes>"
      ]
     },
     "metadata": {
      "needs_background": "light"
     },
     "output_type": "display_data"
    }
   ],
   "source": [
    "# Plot tweet count by emotion\n",
    "ax = df['is_there_an_emotion_directed_at_a_brand_or_product'].value_counts().plot(kind='bar',\n",
    "                                                 figsize=(20,10))\n",
    "ax.set_title(\"Sentiment Tweet Count\", fontsize=20, fontweight=\"bold\")\n",
    "ax.set_xlabel(\"Sentiment\", fontsize=14)\n",
    "ax.set_ylabel(\"Count\", fontsize=14)\n",
    "plt.savefig(\"images/2_sentiment_tweet_count\")\n",
    "plt.show()\n",
    "# Many tweets are neutral\n",
    "# In modeling focus on classifying positive tweets"
   ]
  },
  {
   "cell_type": "markdown",
   "metadata": {},
   "source": [
    "#### Explore Sentiment Counts"
   ]
  },
  {
   "cell_type": "code",
   "execution_count": 26,
   "metadata": {},
   "outputs": [],
   "source": [
    "apple_sent_counts = df[df['brand_directed_at'] == 'Apple']['is_there_an_emotion_directed_at_a_brand_or_product'].value_counts()\n",
    "google_sent_counts = df[df['brand_directed_at'] == 'Google']['is_there_an_emotion_directed_at_a_brand_or_product'].value_counts()"
   ]
  },
  {
   "cell_type": "code",
   "execution_count": 27,
   "metadata": {},
   "outputs": [
    {
     "data": {
      "text/plain": [
       "Positive    1949\n",
       "Negative     388\n",
       "Neutral       72\n",
       "Name: is_there_an_emotion_directed_at_a_brand_or_product, dtype: int64"
      ]
     },
     "execution_count": 27,
     "metadata": {},
     "output_type": "execute_result"
    }
   ],
   "source": [
    "apple_sent_counts"
   ]
  },
  {
   "cell_type": "code",
   "execution_count": 28,
   "metadata": {},
   "outputs": [
    {
     "data": {
      "text/plain": [
       "Positive    723\n",
       "Negative    131\n",
       "Neutral      28\n",
       "Name: is_there_an_emotion_directed_at_a_brand_or_product, dtype: int64"
      ]
     },
     "execution_count": 28,
     "metadata": {},
     "output_type": "execute_result"
    }
   ],
   "source": [
    "google_sent_counts"
   ]
  },
  {
   "cell_type": "markdown",
   "metadata": {},
   "source": [
    "<a id=\"DV_3\"></a>"
   ]
  },
  {
   "cell_type": "code",
   "execution_count": 29,
   "metadata": {},
   "outputs": [
    {
     "data": {
      "image/png": "[encoded data removed]",
      "text/plain": [
       "<Figure size 1440x720 with 1 Axes>"
      ]
     },
     "metadata": {
      "needs_background": "light"
     },
     "output_type": "display_data"
    }
   ],
   "source": [
    "# Plot counts by Sentiment by Brand\n",
    "plt.figure(figsize=(20, 10))\n",
    "\n",
    "# set width of bars\n",
    "barWidth = 0.25\n",
    "\n",
    "# set heights of bars\n",
    "bars1 = list(apple_sent_counts)\n",
    "bars2 = list(google_sent_counts)\n",
    " \n",
    "# Set position of bar on X axis\n",
    "r1 = np.arange(len(bars1))\n",
    "r2 = [x + barWidth for x in r1]\n",
    " \n",
    "# Make the plot\n",
    "plt.bar(r1, bars1, color='#5ac8fa', width=barWidth, edgecolor='white', label='Apple')\n",
    "plt.bar(r2, bars2, color='#a4c639', width=barWidth, edgecolor='white', label='Google')\n",
    " \n",
    "# Add xticks on the middle of the group bars\n",
    "plt.xlabel('Sentiment', fontsize=14)\n",
    "plt.xticks([r + (barWidth/2) for r in range(len(bars1))], ['Positive', 'Negative', 'Neutral'])\n",
    "plt.ylabel('Count', fontsize=14)\n",
    "\n",
    "# Title\n",
    "plt.title('Brand Tweet Count by Sentiment', fontsize=20, fontweight=\"bold\")\n",
    "\n",
    "# Create legend, Save, & Show graphic\n",
    "plt.legend()\n",
    "plt.savefig(\"images/3_brand_tweet_by_sentiment_count\")\n",
    "plt.show()"
   ]
  },
  {
   "cell_type": "code",
   "execution_count": 30,
   "metadata": {},
   "outputs": [
    {
     "data": {
      "text/plain": [
       "Index(['tweet_text', 'emotion_in_tweet_is_directed_at',\n",
       "       'is_there_an_emotion_directed_at_a_brand_or_product',\n",
       "       'brand_directed_at', 'num_brand_directed_at', 'type_directed_at',\n",
       "       'num_type_directed_at', 'target'],\n",
       "      dtype='object')"
      ]
     },
     "execution_count": 30,
     "metadata": {},
     "output_type": "execute_result"
    }
   ],
   "source": [
    "df.columns"
   ]
  },
  {
   "cell_type": "code",
   "execution_count": 31,
   "metadata": {},
   "outputs": [],
   "source": [
    "pos_sent_counts = df[df['is_there_an_emotion_directed_at_a_brand_or_product'] == 'Positive']['brand_directed_at'].value_counts()\n",
    "neu_sent_counts = df[df['is_there_an_emotion_directed_at_a_brand_or_product'] == 'Negative']['brand_directed_at'].value_counts()\n",
    "neg_sent_counts = df[df['is_there_an_emotion_directed_at_a_brand_or_product'] == 'Neutral']['brand_directed_at'].value_counts()"
   ]
  },
  {
   "cell_type": "code",
   "execution_count": 32,
   "metadata": {},
   "outputs": [
    {
     "data": {
      "text/plain": [
       "Apple     1949\n",
       "Google     723\n",
       "None       306\n",
       "Name: brand_directed_at, dtype: int64"
      ]
     },
     "execution_count": 32,
     "metadata": {},
     "output_type": "execute_result"
    }
   ],
   "source": [
    "pos_sent_counts"
   ]
  },
  {
   "cell_type": "code",
   "execution_count": 33,
   "metadata": {},
   "outputs": [
    {
     "data": {
      "text/plain": [
       "Apple     388\n",
       "Google    131\n",
       "None       51\n",
       "Name: brand_directed_at, dtype: int64"
      ]
     },
     "execution_count": 33,
     "metadata": {},
     "output_type": "execute_result"
    }
   ],
   "source": [
    "neu_sent_counts"
   ]
  },
  {
   "cell_type": "code",
   "execution_count": 34,
   "metadata": {
    "scrolled": true
   },
   "outputs": [
    {
     "data": {
      "text/plain": [
       "Apple       72\n",
       "Google      28\n",
       "None      5444\n",
       "Name: brand_directed_at, dtype: int64"
      ]
     },
     "execution_count": 34,
     "metadata": {},
     "output_type": "execute_result"
    }
   ],
   "source": [
    "neg_sent_counts = neg_sent_counts.sort_index()\n",
    "neg_sent_counts"
   ]
  },
  {
   "cell_type": "markdown",
   "metadata": {},
   "source": [
    "<a id=\"DV_4\"></a>"
   ]
  },
  {
   "cell_type": "code",
   "execution_count": 35,
   "metadata": {
    "scrolled": true
   },
   "outputs": [
    {
     "data": {
      "image/png": "[encoded data removed]",
      "text/plain": [
       "<Figure size 1440x720 with 1 Axes>"
      ]
     },
     "metadata": {
      "needs_background": "light"
     },
     "output_type": "display_data"
    }
   ],
   "source": [
    "# Plot counts by Brand by Sentiment (remove tweets not directed at Brand)\n",
    "plt.figure(figsize=(20, 10))\n",
    "\n",
    "# set width of bars\n",
    "barWidth = 0.25\n",
    "\n",
    "# set heights of bars - Bars are sentiment\n",
    "bars1 = list(pos_sent_counts[:2])\n",
    "bars2 = list(neu_sent_counts[:2])\n",
    "bars3 = list(neg_sent_counts[:2])\n",
    " \n",
    "# Set position of bar on X axis\n",
    "r1 = np.arange(len(bars1))\n",
    "r2 = [x + barWidth for x in r1]\n",
    "r3 = [x + barWidth for x in r2]\n",
    " \n",
    "# Make the plot\n",
    "plt.bar(r1, bars1, color='#4cd964', width=barWidth, edgecolor='white', label='Positive')\n",
    "plt.bar(r2, bars2, color='#808080', width=barWidth, edgecolor='white', label='Neutral')\n",
    "plt.bar(r3, bars3, color='#ff3b30', width=barWidth, edgecolor='white', label='Negative')\n",
    " \n",
    "# Add xticks on the middle of the group bars\n",
    "plt.xlabel('Brand', fontsize=14)\n",
    "plt.xticks([r + barWidth for r in range(len(bars1))], ['Apple', 'Google', 'None'])\n",
    "plt.ylabel('Tweet Count', fontsize=14)\n",
    "\n",
    "# Title\n",
    "plt.title('Tweet Sentiment by Brand Count', fontsize=20, fontweight=\"bold\")\n",
    "\n",
    "# Create legend & Show graphic\n",
    "plt.legend()\n",
    "plt.savefig(\"images/4_tweet_sentiment_by_brand_count\")\n",
    "plt.show()"
   ]
  },
  {
   "cell_type": "markdown",
   "metadata": {},
   "source": [
    "#### Create Target\n",
    "- target (positive tweets versus netural/negative tweets) for classification model"
   ]
  },
  {
   "cell_type": "code",
   "execution_count": 36,
   "metadata": {
    "scrolled": true
   },
   "outputs": [
    {
     "data": {
      "text/plain": [
       "Neutral     5544\n",
       "Positive    2978\n",
       "Negative     570\n",
       "Name: is_there_an_emotion_directed_at_a_brand_or_product, dtype: int64"
      ]
     },
     "execution_count": 36,
     "metadata": {},
     "output_type": "execute_result"
    }
   ],
   "source": [
    "# 67/33 split (33% positive), class imbalance\n",
    "df['is_there_an_emotion_directed_at_a_brand_or_product'].value_counts()"
   ]
  },
  {
   "cell_type": "code",
   "execution_count": 37,
   "metadata": {},
   "outputs": [],
   "source": [
    "# Create target; Positive only - 32%\n",
    "df['target'] = df['is_there_an_emotion_directed_at_a_brand_or_product'].map({\"Positive\": 1,\n",
    "                                                                             \"Neutral\": 0,\n",
    "                                                                             \"Negative\": 0})"
   ]
  },
  {
   "cell_type": "markdown",
   "metadata": {},
   "source": [
    "### Preprocessing\n",
    "\n",
    "Using preprocessor package (tweet specific) and nltk:\n",
    "- remove URLs, mentions, HTML, punctuation\n",
    "- remove stop words (including twitter operational lingo 'mention', 'rt', 'link', 'via')\n",
    "- lower case\n",
    "- tokenize tweets\n",
    "- lemmatize tweets\n",
    "\n",
    "Created 'clean_text' column for tweet text that has undergone the above preprocessing for use in modeling while preserving original 'tweet_text'"
   ]
  },
  {
   "cell_type": "code",
   "execution_count": 38,
   "metadata": {},
   "outputs": [],
   "source": [
    "# Tweet preprocessor test\n",
    "# Source: https://towardsdatascience.com/basic-tweet-preprocessing-in-python-efd8360d529e\n",
    "import preprocessor as p"
   ]
  },
  {
   "cell_type": "code",
   "execution_count": 39,
   "metadata": {},
   "outputs": [
    {
     "data": {
      "text/plain": [
       "'. I have a G iPhone. After hrs tweeting at , it was dead! I need to upgrade. Plugin stations at .'"
      ]
     },
     "execution_count": 39,
     "metadata": {},
     "output_type": "execute_result"
    }
   ],
   "source": [
    "p.clean(df['tweet_text'][0])"
   ]
  },
  {
   "cell_type": "code",
   "execution_count": 40,
   "metadata": {},
   "outputs": [],
   "source": [
    "# Create new column for cleaned text - remove URLs, Mentions\n",
    "df['clean_text'] = df['tweet_text'].apply(lambda x: p.clean(x))\n",
    "\n",
    "# Lower case\n",
    "df['clean_text'] = df['clean_text'].str.lower()"
   ]
  },
  {
   "cell_type": "code",
   "execution_count": 41,
   "metadata": {
    "scrolled": true
   },
   "outputs": [
    {
     "data": {
      "text/html": [
       "<div>\n",
       "<style scoped>\n",
       "    .dataframe tbody tr th:only-of-type {\n",
       "        vertical-align: middle;\n",
       "    }\n",
       "\n",
       "    .dataframe tbody tr th {\n",
       "        vertical-align: top;\n",
       "    }\n",
       "\n",
       "    .dataframe thead th {\n",
       "        text-align: right;\n",
       "    }\n",
       "</style>\n",
       "<table border=\"1\" class=\"dataframe\">\n",
       "  <thead>\n",
       "    <tr style=\"text-align: right;\">\n",
       "      <th></th>\n",
       "      <th>tweet_text</th>\n",
       "      <th>emotion_in_tweet_is_directed_at</th>\n",
       "      <th>is_there_an_emotion_directed_at_a_brand_or_product</th>\n",
       "      <th>brand_directed_at</th>\n",
       "      <th>num_brand_directed_at</th>\n",
       "      <th>type_directed_at</th>\n",
       "      <th>num_type_directed_at</th>\n",
       "      <th>target</th>\n",
       "      <th>clean_text</th>\n",
       "    </tr>\n",
       "  </thead>\n",
       "  <tbody>\n",
       "    <tr>\n",
       "      <th>0</th>\n",
       "      <td>.@wesley83 I have a 3G iPhone. After 3 hrs twe...</td>\n",
       "      <td>iPhone</td>\n",
       "      <td>Negative</td>\n",
       "      <td>Apple</td>\n",
       "      <td>1</td>\n",
       "      <td>Product</td>\n",
       "      <td>1</td>\n",
       "      <td>0</td>\n",
       "      <td>. i have a g iphone. after hrs tweeting at , i...</td>\n",
       "    </tr>\n",
       "    <tr>\n",
       "      <th>1</th>\n",
       "      <td>@jessedee Know about @fludapp ? Awesome iPad/i...</td>\n",
       "      <td>iPad or iPhone App</td>\n",
       "      <td>Positive</td>\n",
       "      <td>Apple</td>\n",
       "      <td>1</td>\n",
       "      <td>App</td>\n",
       "      <td>3</td>\n",
       "      <td>1</td>\n",
       "      <td>know about ? awesome ipad/iphone app that you'...</td>\n",
       "    </tr>\n",
       "    <tr>\n",
       "      <th>2</th>\n",
       "      <td>@swonderlin Can not wait for #iPad 2 also. The...</td>\n",
       "      <td>iPad</td>\n",
       "      <td>Positive</td>\n",
       "      <td>Apple</td>\n",
       "      <td>1</td>\n",
       "      <td>Product</td>\n",
       "      <td>1</td>\n",
       "      <td>1</td>\n",
       "      <td>can not wait for also. they should sale them d...</td>\n",
       "    </tr>\n",
       "    <tr>\n",
       "      <th>3</th>\n",
       "      <td>@sxsw I hope this year's festival isn't as cra...</td>\n",
       "      <td>iPad or iPhone App</td>\n",
       "      <td>Negative</td>\n",
       "      <td>Apple</td>\n",
       "      <td>1</td>\n",
       "      <td>App</td>\n",
       "      <td>3</td>\n",
       "      <td>0</td>\n",
       "      <td>i hope this year's festival isn't as crashy as...</td>\n",
       "    </tr>\n",
       "    <tr>\n",
       "      <th>4</th>\n",
       "      <td>@sxtxstate great stuff on Fri #SXSW: Marissa M...</td>\n",
       "      <td>Google</td>\n",
       "      <td>Positive</td>\n",
       "      <td>Google</td>\n",
       "      <td>2</td>\n",
       "      <td>Brand</td>\n",
       "      <td>2</td>\n",
       "      <td>1</td>\n",
       "      <td>great stuff on fri : marissa mayer (google), t...</td>\n",
       "    </tr>\n",
       "  </tbody>\n",
       "</table>\n",
       "</div>"
      ],
      "text/plain": [
       "                                          tweet_text  \\\n",
       "0  .@wesley83 I have a 3G iPhone. After 3 hrs twe...   \n",
       "1  @jessedee Know about @fludapp ? Awesome iPad/i...   \n",
       "2  @swonderlin Can not wait for #iPad 2 also. The...   \n",
       "3  @sxsw I hope this year's festival isn't as cra...   \n",
       "4  @sxtxstate great stuff on Fri #SXSW: Marissa M...   \n",
       "\n",
       "  emotion_in_tweet_is_directed_at  \\\n",
       "0                          iPhone   \n",
       "1              iPad or iPhone App   \n",
       "2                            iPad   \n",
       "3              iPad or iPhone App   \n",
       "4                          Google   \n",
       "\n",
       "  is_there_an_emotion_directed_at_a_brand_or_product brand_directed_at  \\\n",
       "0                                           Negative             Apple   \n",
       "1                                           Positive             Apple   \n",
       "2                                           Positive             Apple   \n",
       "3                                           Negative             Apple   \n",
       "4                                           Positive            Google   \n",
       "\n",
       "   num_brand_directed_at type_directed_at  num_type_directed_at  target  \\\n",
       "0                      1          Product                     1       0   \n",
       "1                      1              App                     3       1   \n",
       "2                      1          Product                     1       1   \n",
       "3                      1              App                     3       0   \n",
       "4                      2            Brand                     2       1   \n",
       "\n",
       "                                          clean_text  \n",
       "0  . i have a g iphone. after hrs tweeting at , i...  \n",
       "1  know about ? awesome ipad/iphone app that you'...  \n",
       "2  can not wait for also. they should sale them d...  \n",
       "3  i hope this year's festival isn't as crashy as...  \n",
       "4  great stuff on fri : marissa mayer (google), t...  "
      ]
     },
     "execution_count": 41,
     "metadata": {},
     "output_type": "execute_result"
    }
   ],
   "source": [
    "# Preview new \n",
    "df.head()"
   ]
  },
  {
   "cell_type": "code",
   "execution_count": 42,
   "metadata": {},
   "outputs": [
    {
     "data": {
      "text/plain": [
       "'Some Verizon iPhone customers complained their time fell back an hour this weekend.  Of course they were the New Yorkers who attended #SXSW.'"
      ]
     },
     "execution_count": 42,
     "metadata": {},
     "output_type": "execute_result"
    }
   ],
   "source": [
    "# Pull tweet with HTML &quot;\n",
    "df['tweet_text'][9090]"
   ]
  },
  {
   "cell_type": "code",
   "execution_count": 43,
   "metadata": {},
   "outputs": [
    {
     "data": {
      "text/plain": [
       "'some verizon iphone customers complained their time fell back an hour this weekend. of course they were the new yorkers who attended .'"
      ]
     },
     "execution_count": 43,
     "metadata": {},
     "output_type": "execute_result"
    }
   ],
   "source": [
    "# Test cleaning\n",
    "html_ent_clean = re.compile('&.*?;')\n",
    "re.sub(html_ent_clean, '', df['clean_text'][9090])"
   ]
  },
  {
   "cell_type": "code",
   "execution_count": 44,
   "metadata": {},
   "outputs": [],
   "source": [
    "# Clean 'clean_text' column of HTML\n",
    "df['clean_text'] = df['clean_text'].apply(lambda x: re.sub(html_ent_clean, '',x))"
   ]
  },
  {
   "cell_type": "code",
   "execution_count": 45,
   "metadata": {},
   "outputs": [
    {
     "data": {
      "text/plain": [
       "0"
      ]
     },
     "execution_count": 45,
     "metadata": {},
     "output_type": "execute_result"
    }
   ],
   "source": [
    "# Check work\n",
    "len(df[df['clean_text'].str.contains(html_ent_clean) == True])"
   ]
  },
  {
   "cell_type": "code",
   "execution_count": 46,
   "metadata": {},
   "outputs": [],
   "source": [
    "# Remove punctuation\n",
    "df['clean_text'] = df['clean_text'].apply(lambda x: re.sub(r'[^\\w\\s]', '', (x)))"
   ]
  },
  {
   "cell_type": "code",
   "execution_count": 47,
   "metadata": {},
   "outputs": [
    {
     "data": {
      "text/plain": [
       "'some verizon iphone customers complained their time fell back an hour this weekend of course they were the new yorkers who attended '"
      ]
     },
     "execution_count": 47,
     "metadata": {},
     "output_type": "execute_result"
    }
   ],
   "source": [
    "# Check work \n",
    "df['clean_text'][9090]"
   ]
  },
  {
   "cell_type": "markdown",
   "metadata": {},
   "source": [
    "#### Remove stopwords"
   ]
  },
  {
   "cell_type": "code",
   "execution_count": 48,
   "metadata": {},
   "outputs": [],
   "source": [
    "# Create stopwords list\n",
    "twitter_ops = ['mention', 'rt', 'link', 'via'] # Twitter operational words not valueable, remove\n",
    "stop_words = stopwords.words('english') + list(string.punctuation) + twitter_ops"
   ]
  },
  {
   "cell_type": "code",
   "execution_count": 49,
   "metadata": {},
   "outputs": [],
   "source": [
    "# Remove stopwords in 'clean_text'\n",
    "df['clean_text'] = df['clean_text'].apply(lambda x: ' '.join(\n",
    "    [word for word in x.split() if word.lower() not in (stop_words)]))"
   ]
  },
  {
   "cell_type": "code",
   "execution_count": 50,
   "metadata": {},
   "outputs": [
    {
     "data": {
      "text/plain": [
       "0       g iphone hrs tweeting dead need upgrade plugin...\n",
       "1       know awesome ipadiphone app youll likely appre...\n",
       "2                                          wait also sale\n",
       "3        hope years festival isnt crashy years iphone app\n",
       "4       great stuff fri marissa mayer google tim oreil...\n",
       "                              ...                        \n",
       "9087                                      ipad everywhere\n",
       "9088    wave buzz interrupt regularly scheduled geek p...\n",
       "9089    googles zeiger physician never reported potent...\n",
       "9090    verizon iphone customers complained time fell ...\n",
       "9091                    ___rt google tests checkin offers\n",
       "Name: clean_text, Length: 9092, dtype: object"
      ]
     },
     "execution_count": 50,
     "metadata": {},
     "output_type": "execute_result"
    }
   ],
   "source": [
    "# Review clean_text\n",
    "df['clean_text']"
   ]
  },
  {
   "cell_type": "markdown",
   "metadata": {},
   "source": [
    "#### Tokenize"
   ]
  },
  {
   "cell_type": "code",
   "execution_count": 51,
   "metadata": {},
   "outputs": [],
   "source": [
    "# Tokenize\n",
    "pattern = \"([a-zA-Z]+(?:'[a-z]+)?)\"\n",
    "\n",
    "df['clean_text'] = df['clean_text'].apply(lambda x: nltk.regexp_tokenize(x, pattern))"
   ]
  },
  {
   "cell_type": "code",
   "execution_count": 52,
   "metadata": {
    "scrolled": false
   },
   "outputs": [
    {
     "data": {
      "text/plain": [
       "0       [g, iphone, hrs, tweeting, dead, need, upgrade...\n",
       "1       [know, awesome, ipadiphone, app, youll, likely...\n",
       "2                                      [wait, also, sale]\n",
       "3       [hope, years, festival, isnt, crashy, years, i...\n",
       "4       [great, stuff, fri, marissa, mayer, google, ti...\n",
       "                              ...                        \n",
       "9087                                   [ipad, everywhere]\n",
       "9088    [wave, buzz, interrupt, regularly, scheduled, ...\n",
       "9089    [googles, zeiger, physician, never, reported, ...\n",
       "9090    [verizon, iphone, customers, complained, time,...\n",
       "9091                 [rt, google, tests, checkin, offers]\n",
       "Name: clean_text, Length: 9092, dtype: object"
      ]
     },
     "execution_count": 52,
     "metadata": {},
     "output_type": "execute_result"
    }
   ],
   "source": [
    "# Preview\n",
    "df['clean_text']"
   ]
  },
  {
   "cell_type": "markdown",
   "metadata": {},
   "source": [
    "#### Lemmatization\n",
    "\n",
    "Chose lemmatization over stemming as stemming dropped e's from words like iphone"
   ]
  },
  {
   "cell_type": "code",
   "execution_count": 53,
   "metadata": {},
   "outputs": [],
   "source": [
    "def lemmatize_text(text):\n",
    "    lemmatizer = WordNetLemmatizer()\n",
    "    return [lemmatizer.lemmatize(w) for w in text]\n",
    "\n",
    "df['clean_text'] = df['clean_text'].apply(lemmatize_text)\n",
    "# Source: https://stackoverflow.com/questions/59567357/lemmatize-tokenised-column-in-pandas"
   ]
  },
  {
   "cell_type": "code",
   "execution_count": 54,
   "metadata": {},
   "outputs": [
    {
     "data": {
      "text/plain": [
       "0       [g, iphone, hr, tweeting, dead, need, upgrade,...\n",
       "1       [know, awesome, ipadiphone, app, youll, likely...\n",
       "2                                      [wait, also, sale]\n",
       "3       [hope, year, festival, isnt, crashy, year, iph...\n",
       "4       [great, stuff, fri, marissa, mayer, google, ti...\n",
       "                              ...                        \n",
       "9087                                   [ipad, everywhere]\n",
       "9088    [wave, buzz, interrupt, regularly, scheduled, ...\n",
       "9089    [google, zeiger, physician, never, reported, p...\n",
       "9090    [verizon, iphone, customer, complained, time, ...\n",
       "9091                   [rt, google, test, checkin, offer]\n",
       "Name: clean_text, Length: 9092, dtype: object"
      ]
     },
     "execution_count": 54,
     "metadata": {},
     "output_type": "execute_result"
    }
   ],
   "source": [
    "df['clean_text']"
   ]
  },
  {
   "cell_type": "code",
   "execution_count": 55,
   "metadata": {},
   "outputs": [],
   "source": [
    "# Rejoin\n",
    "df['clean_text'] = df['clean_text'].map(lambda x: ' '.join(x))"
   ]
  },
  {
   "cell_type": "code",
   "execution_count": 56,
   "metadata": {
    "scrolled": true
   },
   "outputs": [
    {
     "name": "stdout",
     "output_type": "stream",
     "text": [
      "<class 'pandas.core.frame.DataFrame'>\n",
      "RangeIndex: 9092 entries, 0 to 9091\n",
      "Data columns (total 9 columns):\n",
      "tweet_text                                            9092 non-null object\n",
      "emotion_in_tweet_is_directed_at                       9092 non-null object\n",
      "is_there_an_emotion_directed_at_a_brand_or_product    9092 non-null object\n",
      "brand_directed_at                                     9092 non-null object\n",
      "num_brand_directed_at                                 9092 non-null int64\n",
      "type_directed_at                                      9092 non-null object\n",
      "num_type_directed_at                                  9092 non-null int64\n",
      "target                                                9092 non-null int64\n",
      "clean_text                                            9092 non-null object\n",
      "dtypes: int64(3), object(6)\n",
      "memory usage: 639.4+ KB\n"
     ]
    }
   ],
   "source": [
    "df.info()"
   ]
  },
  {
   "cell_type": "code",
   "execution_count": 57,
   "metadata": {},
   "outputs": [
    {
     "data": {
      "text/plain": [
       "8.519247690277167"
      ]
     },
     "execution_count": 57,
     "metadata": {},
     "output_type": "execute_result"
    }
   ],
   "source": [
    "# Average number of words in clean_text\n",
    "num_words = df.clean_text.apply(lambda x: len(x.split()))\n",
    "num_words.mean()"
   ]
  },
  {
   "cell_type": "markdown",
   "metadata": {},
   "source": [
    "### Phase 1 Modeling"
   ]
  },
  {
   "cell_type": "code",
   "execution_count": 58,
   "metadata": {},
   "outputs": [],
   "source": [
    "# Grabbing our inputs and target\n",
    "X = df['clean_text']\n",
    "y = df['target']\n",
    "\n",
    "# Train test split\n",
    "X_train, X_test, y_train, y_test = train_test_split(X, y, random_state=42)"
   ]
  },
  {
   "cell_type": "markdown",
   "metadata": {},
   "source": [
    "#### Model 1: Naive Bayes + CountVec<a id=\"Model_1\"></a>"
   ]
  },
  {
   "cell_type": "code",
   "execution_count": 59,
   "metadata": {},
   "outputs": [],
   "source": [
    "# Instantiating a count vectorizer\n",
    "countvec = CountVectorizer()"
   ]
  },
  {
   "cell_type": "code",
   "execution_count": 60,
   "metadata": {
    "scrolled": true
   },
   "outputs": [
    {
     "name": "stdout",
     "output_type": "stream",
     "text": [
      "Accuracy:0.7069951605807303\n",
      "Precision:0.5766192733017378\n",
      "F1 Score:0.5229226361031519\n"
     ]
    },
    {
     "data": {
      "image/png": "[encoded data removed]",
      "text/plain": [
       "<Figure size 432x288 with 2 Axes>"
      ]
     },
     "metadata": {
      "needs_background": "light"
     },
     "output_type": "display_data"
    },
    {
     "data": {
      "text/plain": [
       "(array([0, 1, 1, ..., 1, 1, 0]), array([0, 0, 1, ..., 1, 0, 0]))"
      ]
     },
     "execution_count": 60,
     "metadata": {},
     "output_type": "execute_result"
    }
   ],
   "source": [
    "# Trying Naive Bayes\n",
    "nb = MultinomialNB()\n",
    "\n",
    "classify_vectorized_text(countvec, nb, X_train, X_test, y_train, y_test)\n",
    "#0.58 precision score"
   ]
  },
  {
   "cell_type": "markdown",
   "metadata": {},
   "source": [
    "#### Model 2: Naive Bayes + TF-IDF<a id=\"Model_2\"></a>"
   ]
  },
  {
   "cell_type": "code",
   "execution_count": 61,
   "metadata": {},
   "outputs": [],
   "source": [
    "# Instantiating the TF-IDF vectorizer\n",
    "tfidf = TfidfVectorizer(max_df = .95, # removes words that appear in more than 95% of docs\n",
    "                        min_df = 2, # removes words that appear 2 or fewer times\n",
    "                        use_idf=True)\n",
    "\n",
    "# Training on the train set, then transforming the train set\n",
    "tfidf_train = tfidf.fit_transform(X_train)\n",
    "# Transforming the test set\n",
    "tfidf_test = tfidf.transform(X_test)"
   ]
  },
  {
   "cell_type": "code",
   "execution_count": 62,
   "metadata": {},
   "outputs": [
    {
     "name": "stdout",
     "output_type": "stream",
     "text": [
      "Accuracy:0.7109546854377474\n",
      "Precision:0.6977611940298507\n",
      "F1 Score:0.3627546071774976\n"
     ]
    },
    {
     "data": {
      "image/png": "[encoded data removed]",
      "text/plain": [
       "<Figure size 432x288 with 2 Axes>"
      ]
     },
     "metadata": {
      "needs_background": "light"
     },
     "output_type": "display_data"
    },
    {
     "data": {
      "text/plain": [
       "(array([0, 0, 0, ..., 0, 1, 0]), array([0, 0, 1, ..., 0, 0, 0]))"
      ]
     },
     "execution_count": 62,
     "metadata": {},
     "output_type": "execute_result"
    }
   ],
   "source": [
    "# More Naive Bayes, but with tfidf\n",
    "nb_tfidf = MultinomialNB()\n",
    "\n",
    "classify_vectorized_text(tfidf, nb_tfidf, X_train, X_test, y_train, y_test)\n",
    "# Precision up by 0.12 - significant\n",
    "# Accuracy also higher\n",
    "# F1 down by .2 meaning recall is meaningfully lower\n",
    "# Stick with TF-IDF"
   ]
  },
  {
   "cell_type": "markdown",
   "metadata": {},
   "source": [
    "#### Model 3: Random Forest + TF-IDF<a id=\"Model_3\"></a>"
   ]
  },
  {
   "cell_type": "code",
   "execution_count": 63,
   "metadata": {
    "scrolled": true
   },
   "outputs": [
    {
     "name": "stdout",
     "output_type": "stream",
     "text": [
      "Accuracy:0.722833260008799\n",
      "Precision:0.6095551894563427\n",
      "F1 Score:0.5401459854014599\n"
     ]
    },
    {
     "data": {
      "image/png": "[encoded data removed]",
      "text/plain": [
       "<Figure size 432x288 with 2 Axes>"
      ]
     },
     "metadata": {
      "needs_background": "light"
     },
     "output_type": "display_data"
    },
    {
     "data": {
      "text/plain": [
       "(array([0, 0, 1, ..., 1, 1, 0]), array([0, 0, 0, ..., 1, 0, 0]))"
      ]
     },
     "execution_count": 63,
     "metadata": {},
     "output_type": "execute_result"
    }
   ],
   "source": [
    "# Try RandomForest with class balance (not used in previous models)\n",
    "rfc = RandomForestClassifier(class_weight='balanced')\n",
    "\n",
    "classify_vectorized_text(tfidf, rfc, X_train, X_test, y_train, y_test)\n",
    "# Precision lower"
   ]
  },
  {
   "cell_type": "markdown",
   "metadata": {},
   "source": [
    "## Phase 2: Modeling with additional features\n",
    "\n",
    "Bring in features engineered earlier in the notebook regarding brand and type"
   ]
  },
  {
   "cell_type": "markdown",
   "metadata": {},
   "source": [
    "### Dataset creation \n",
    "TF-IDF + appending num_brand and num_type fields"
   ]
  },
  {
   "cell_type": "code",
   "execution_count": 64,
   "metadata": {},
   "outputs": [],
   "source": [
    "# Grabbing our inputs and target\n",
    "X = df[['clean_text', 'num_brand_directed_at', 'num_type_directed_at']]\n",
    "y = df['target']\n",
    "\n",
    "# Train test split\n",
    "X_train, X_test, y_train, y_test = train_test_split(X, y, random_state=42)"
   ]
  },
  {
   "cell_type": "markdown",
   "metadata": {},
   "source": [
    "#### TF-IDF application"
   ]
  },
  {
   "cell_type": "code",
   "execution_count": 65,
   "metadata": {},
   "outputs": [],
   "source": [
    "# Instantiating the TF-IDF vectorizer; labeled as 2 to differentiate instance\n",
    "tfidf2 = TfidfVectorizer(max_df = .95, # removes words that appear in more than 95% of docs\n",
    "                        min_df = 2, # removes words that appear 2 or fewer times\n",
    "                        use_idf=True)"
   ]
  },
  {
   "cell_type": "code",
   "execution_count": 66,
   "metadata": {},
   "outputs": [],
   "source": [
    "X_train_transformed = tfidf2.fit_transform(X_train['clean_text'])\n",
    "X_test_transformed = tfidf2.transform(X_test['clean_text'])"
   ]
  },
  {
   "cell_type": "code",
   "execution_count": 67,
   "metadata": {},
   "outputs": [],
   "source": [
    "# Create X_train with appended columns\n",
    "# X_train text vectorizing\n",
    "X_train_tfidfvect_text_df = pd.DataFrame(X_train_transformed.toarray(), columns=tfidf2.get_feature_names())"
   ]
  },
  {
   "cell_type": "code",
   "execution_count": 68,
   "metadata": {},
   "outputs": [
    {
     "data": {
      "text/html": [
       "<div>\n",
       "<style scoped>\n",
       "    .dataframe tbody tr th:only-of-type {\n",
       "        vertical-align: middle;\n",
       "    }\n",
       "\n",
       "    .dataframe tbody tr th {\n",
       "        vertical-align: top;\n",
       "    }\n",
       "\n",
       "    .dataframe thead th {\n",
       "        text-align: right;\n",
       "    }\n",
       "</style>\n",
       "<table border=\"1\" class=\"dataframe\">\n",
       "  <thead>\n",
       "    <tr style=\"text-align: right;\">\n",
       "      <th></th>\n",
       "      <th>aapl</th>\n",
       "      <th>ab</th>\n",
       "      <th>abc</th>\n",
       "      <th>ability</th>\n",
       "      <th>able</th>\n",
       "      <th>absolutely</th>\n",
       "      <th>absolutley</th>\n",
       "      <th>abt</th>\n",
       "      <th>academy</th>\n",
       "      <th>acc</th>\n",
       "      <th>...</th>\n",
       "      <th>zazzle</th>\n",
       "      <th>zinio</th>\n",
       "      <th>zip</th>\n",
       "      <th>zms</th>\n",
       "      <th>zombie</th>\n",
       "      <th>zomg</th>\n",
       "      <th>zone</th>\n",
       "      <th>zoom</th>\n",
       "      <th>zuckerberg</th>\n",
       "      <th>zynga</th>\n",
       "    </tr>\n",
       "  </thead>\n",
       "  <tbody>\n",
       "    <tr>\n",
       "      <th>0</th>\n",
       "      <td>0.0</td>\n",
       "      <td>0.0</td>\n",
       "      <td>0.0</td>\n",
       "      <td>0.0</td>\n",
       "      <td>0.0</td>\n",
       "      <td>0.0</td>\n",
       "      <td>0.0</td>\n",
       "      <td>0.0</td>\n",
       "      <td>0.0</td>\n",
       "      <td>0.0</td>\n",
       "      <td>...</td>\n",
       "      <td>0.0</td>\n",
       "      <td>0.0</td>\n",
       "      <td>0.0</td>\n",
       "      <td>0.0</td>\n",
       "      <td>0.0</td>\n",
       "      <td>0.0</td>\n",
       "      <td>0.0</td>\n",
       "      <td>0.0</td>\n",
       "      <td>0.0</td>\n",
       "      <td>0.0</td>\n",
       "    </tr>\n",
       "    <tr>\n",
       "      <th>1</th>\n",
       "      <td>0.0</td>\n",
       "      <td>0.0</td>\n",
       "      <td>0.0</td>\n",
       "      <td>0.0</td>\n",
       "      <td>0.0</td>\n",
       "      <td>0.0</td>\n",
       "      <td>0.0</td>\n",
       "      <td>0.0</td>\n",
       "      <td>0.0</td>\n",
       "      <td>0.0</td>\n",
       "      <td>...</td>\n",
       "      <td>0.0</td>\n",
       "      <td>0.0</td>\n",
       "      <td>0.0</td>\n",
       "      <td>0.0</td>\n",
       "      <td>0.0</td>\n",
       "      <td>0.0</td>\n",
       "      <td>0.0</td>\n",
       "      <td>0.0</td>\n",
       "      <td>0.0</td>\n",
       "      <td>0.0</td>\n",
       "    </tr>\n",
       "    <tr>\n",
       "      <th>2</th>\n",
       "      <td>0.0</td>\n",
       "      <td>0.0</td>\n",
       "      <td>0.0</td>\n",
       "      <td>0.0</td>\n",
       "      <td>0.0</td>\n",
       "      <td>0.0</td>\n",
       "      <td>0.0</td>\n",
       "      <td>0.0</td>\n",
       "      <td>0.0</td>\n",
       "      <td>0.0</td>\n",
       "      <td>...</td>\n",
       "      <td>0.0</td>\n",
       "      <td>0.0</td>\n",
       "      <td>0.0</td>\n",
       "      <td>0.0</td>\n",
       "      <td>0.0</td>\n",
       "      <td>0.0</td>\n",
       "      <td>0.0</td>\n",
       "      <td>0.0</td>\n",
       "      <td>0.0</td>\n",
       "      <td>0.0</td>\n",
       "    </tr>\n",
       "    <tr>\n",
       "      <th>3</th>\n",
       "      <td>0.0</td>\n",
       "      <td>0.0</td>\n",
       "      <td>0.0</td>\n",
       "      <td>0.0</td>\n",
       "      <td>0.0</td>\n",
       "      <td>0.0</td>\n",
       "      <td>0.0</td>\n",
       "      <td>0.0</td>\n",
       "      <td>0.0</td>\n",
       "      <td>0.0</td>\n",
       "      <td>...</td>\n",
       "      <td>0.0</td>\n",
       "      <td>0.0</td>\n",
       "      <td>0.0</td>\n",
       "      <td>0.0</td>\n",
       "      <td>0.0</td>\n",
       "      <td>0.0</td>\n",
       "      <td>0.0</td>\n",
       "      <td>0.0</td>\n",
       "      <td>0.0</td>\n",
       "      <td>0.0</td>\n",
       "    </tr>\n",
       "    <tr>\n",
       "      <th>4</th>\n",
       "      <td>0.0</td>\n",
       "      <td>0.0</td>\n",
       "      <td>0.0</td>\n",
       "      <td>0.0</td>\n",
       "      <td>0.0</td>\n",
       "      <td>0.0</td>\n",
       "      <td>0.0</td>\n",
       "      <td>0.0</td>\n",
       "      <td>0.0</td>\n",
       "      <td>0.0</td>\n",
       "      <td>...</td>\n",
       "      <td>0.0</td>\n",
       "      <td>0.0</td>\n",
       "      <td>0.0</td>\n",
       "      <td>0.0</td>\n",
       "      <td>0.0</td>\n",
       "      <td>0.0</td>\n",
       "      <td>0.0</td>\n",
       "      <td>0.0</td>\n",
       "      <td>0.0</td>\n",
       "      <td>0.0</td>\n",
       "    </tr>\n",
       "  </tbody>\n",
       "</table>\n",
       "<p>5 rows × 3709 columns</p>\n",
       "</div>"
      ],
      "text/plain": [
       "   aapl   ab  abc  ability  able  absolutely  absolutley  abt  academy  acc  \\\n",
       "0   0.0  0.0  0.0      0.0   0.0         0.0         0.0  0.0      0.0  0.0   \n",
       "1   0.0  0.0  0.0      0.0   0.0         0.0         0.0  0.0      0.0  0.0   \n",
       "2   0.0  0.0  0.0      0.0   0.0         0.0         0.0  0.0      0.0  0.0   \n",
       "3   0.0  0.0  0.0      0.0   0.0         0.0         0.0  0.0      0.0  0.0   \n",
       "4   0.0  0.0  0.0      0.0   0.0         0.0         0.0  0.0      0.0  0.0   \n",
       "\n",
       "   ...  zazzle  zinio  zip  zms  zombie  zomg  zone  zoom  zuckerberg  zynga  \n",
       "0  ...     0.0    0.0  0.0  0.0     0.0   0.0   0.0   0.0         0.0    0.0  \n",
       "1  ...     0.0    0.0  0.0  0.0     0.0   0.0   0.0   0.0         0.0    0.0  \n",
       "2  ...     0.0    0.0  0.0  0.0     0.0   0.0   0.0   0.0         0.0    0.0  \n",
       "3  ...     0.0    0.0  0.0  0.0     0.0   0.0   0.0   0.0         0.0    0.0  \n",
       "4  ...     0.0    0.0  0.0  0.0     0.0   0.0   0.0   0.0         0.0    0.0  \n",
       "\n",
       "[5 rows x 3709 columns]"
      ]
     },
     "execution_count": 68,
     "metadata": {},
     "output_type": "execute_result"
    }
   ],
   "source": [
    "# Preview\n",
    "X_train_tfidfvect_text_df.head()"
   ]
  },
  {
   "cell_type": "code",
   "execution_count": 69,
   "metadata": {},
   "outputs": [],
   "source": [
    "# Append emotion in tweet directed at to vectorized X_train clean text\n",
    "X_train_full = pd.merge(left=X_train_tfidfvect_text_df, right=X[['num_brand_directed_at', 'num_type_directed_at']],\n",
    "                        how='left', left_index=True, right_index=True)"
   ]
  },
  {
   "cell_type": "code",
   "execution_count": 70,
   "metadata": {},
   "outputs": [
    {
     "data": {
      "text/plain": [
       "(6819, 3711)"
      ]
     },
     "execution_count": 70,
     "metadata": {},
     "output_type": "execute_result"
    }
   ],
   "source": [
    "# Shape check X_train\n",
    "X_train_full.shape"
   ]
  },
  {
   "cell_type": "code",
   "execution_count": 71,
   "metadata": {},
   "outputs": [
    {
     "data": {
      "text/plain": [
       "(6819,)"
      ]
     },
     "execution_count": 71,
     "metadata": {},
     "output_type": "execute_result"
    }
   ],
   "source": [
    "# Shape check y_train\n",
    "y_train.shape"
   ]
  },
  {
   "cell_type": "code",
   "execution_count": 72,
   "metadata": {},
   "outputs": [],
   "source": [
    "# Create X_test with appended columns\n",
    "X_test_tfidfvect_text_df = pd.DataFrame(X_test_transformed.toarray(), columns=tfidf2.get_feature_names())"
   ]
  },
  {
   "cell_type": "code",
   "execution_count": 73,
   "metadata": {},
   "outputs": [],
   "source": [
    "# Append emotion in tweet directed at to X_test\n",
    "X_test_full = pd.concat([X[['num_brand_directed_at', 'num_type_directed_at']], \n",
    "                        X_test_tfidfvect_text_df], axis=1, join='inner')"
   ]
  },
  {
   "cell_type": "code",
   "execution_count": 74,
   "metadata": {},
   "outputs": [
    {
     "data": {
      "text/plain": [
       "(2273, 3711)"
      ]
     },
     "execution_count": 74,
     "metadata": {},
     "output_type": "execute_result"
    }
   ],
   "source": [
    "# Shape check\n",
    "X_test_full.shape"
   ]
  },
  {
   "cell_type": "code",
   "execution_count": 75,
   "metadata": {},
   "outputs": [
    {
     "data": {
      "text/html": [
       "<div>\n",
       "<style scoped>\n",
       "    .dataframe tbody tr th:only-of-type {\n",
       "        vertical-align: middle;\n",
       "    }\n",
       "\n",
       "    .dataframe tbody tr th {\n",
       "        vertical-align: top;\n",
       "    }\n",
       "\n",
       "    .dataframe thead th {\n",
       "        text-align: right;\n",
       "    }\n",
       "</style>\n",
       "<table border=\"1\" class=\"dataframe\">\n",
       "  <thead>\n",
       "    <tr style=\"text-align: right;\">\n",
       "      <th></th>\n",
       "      <th>num_brand_directed_at</th>\n",
       "      <th>num_type_directed_at</th>\n",
       "      <th>aapl</th>\n",
       "      <th>ab</th>\n",
       "      <th>abc</th>\n",
       "      <th>ability</th>\n",
       "      <th>able</th>\n",
       "      <th>absolutely</th>\n",
       "      <th>absolutley</th>\n",
       "      <th>abt</th>\n",
       "      <th>...</th>\n",
       "      <th>zazzle</th>\n",
       "      <th>zinio</th>\n",
       "      <th>zip</th>\n",
       "      <th>zms</th>\n",
       "      <th>zombie</th>\n",
       "      <th>zomg</th>\n",
       "      <th>zone</th>\n",
       "      <th>zoom</th>\n",
       "      <th>zuckerberg</th>\n",
       "      <th>zynga</th>\n",
       "    </tr>\n",
       "  </thead>\n",
       "  <tbody>\n",
       "    <tr>\n",
       "      <th>0</th>\n",
       "      <td>1</td>\n",
       "      <td>1</td>\n",
       "      <td>0.0</td>\n",
       "      <td>0.0</td>\n",
       "      <td>0.0</td>\n",
       "      <td>0.0</td>\n",
       "      <td>0.0</td>\n",
       "      <td>0.0</td>\n",
       "      <td>0.0</td>\n",
       "      <td>0.0</td>\n",
       "      <td>...</td>\n",
       "      <td>0.0</td>\n",
       "      <td>0.0</td>\n",
       "      <td>0.0</td>\n",
       "      <td>0.0</td>\n",
       "      <td>0.0</td>\n",
       "      <td>0.0</td>\n",
       "      <td>0.0</td>\n",
       "      <td>0.0</td>\n",
       "      <td>0.0</td>\n",
       "      <td>0.0</td>\n",
       "    </tr>\n",
       "    <tr>\n",
       "      <th>1</th>\n",
       "      <td>1</td>\n",
       "      <td>3</td>\n",
       "      <td>0.0</td>\n",
       "      <td>0.0</td>\n",
       "      <td>0.0</td>\n",
       "      <td>0.0</td>\n",
       "      <td>0.0</td>\n",
       "      <td>0.0</td>\n",
       "      <td>0.0</td>\n",
       "      <td>0.0</td>\n",
       "      <td>...</td>\n",
       "      <td>0.0</td>\n",
       "      <td>0.0</td>\n",
       "      <td>0.0</td>\n",
       "      <td>0.0</td>\n",
       "      <td>0.0</td>\n",
       "      <td>0.0</td>\n",
       "      <td>0.0</td>\n",
       "      <td>0.0</td>\n",
       "      <td>0.0</td>\n",
       "      <td>0.0</td>\n",
       "    </tr>\n",
       "    <tr>\n",
       "      <th>2</th>\n",
       "      <td>1</td>\n",
       "      <td>1</td>\n",
       "      <td>0.0</td>\n",
       "      <td>0.0</td>\n",
       "      <td>0.0</td>\n",
       "      <td>0.0</td>\n",
       "      <td>0.0</td>\n",
       "      <td>0.0</td>\n",
       "      <td>0.0</td>\n",
       "      <td>0.0</td>\n",
       "      <td>...</td>\n",
       "      <td>0.0</td>\n",
       "      <td>0.0</td>\n",
       "      <td>0.0</td>\n",
       "      <td>0.0</td>\n",
       "      <td>0.0</td>\n",
       "      <td>0.0</td>\n",
       "      <td>0.0</td>\n",
       "      <td>0.0</td>\n",
       "      <td>0.0</td>\n",
       "      <td>0.0</td>\n",
       "    </tr>\n",
       "    <tr>\n",
       "      <th>3</th>\n",
       "      <td>1</td>\n",
       "      <td>3</td>\n",
       "      <td>0.0</td>\n",
       "      <td>0.0</td>\n",
       "      <td>0.0</td>\n",
       "      <td>0.0</td>\n",
       "      <td>0.0</td>\n",
       "      <td>0.0</td>\n",
       "      <td>0.0</td>\n",
       "      <td>0.0</td>\n",
       "      <td>...</td>\n",
       "      <td>0.0</td>\n",
       "      <td>0.0</td>\n",
       "      <td>0.0</td>\n",
       "      <td>0.0</td>\n",
       "      <td>0.0</td>\n",
       "      <td>0.0</td>\n",
       "      <td>0.0</td>\n",
       "      <td>0.0</td>\n",
       "      <td>0.0</td>\n",
       "      <td>0.0</td>\n",
       "    </tr>\n",
       "    <tr>\n",
       "      <th>4</th>\n",
       "      <td>2</td>\n",
       "      <td>2</td>\n",
       "      <td>0.0</td>\n",
       "      <td>0.0</td>\n",
       "      <td>0.0</td>\n",
       "      <td>0.0</td>\n",
       "      <td>0.0</td>\n",
       "      <td>0.0</td>\n",
       "      <td>0.0</td>\n",
       "      <td>0.0</td>\n",
       "      <td>...</td>\n",
       "      <td>0.0</td>\n",
       "      <td>0.0</td>\n",
       "      <td>0.0</td>\n",
       "      <td>0.0</td>\n",
       "      <td>0.0</td>\n",
       "      <td>0.0</td>\n",
       "      <td>0.0</td>\n",
       "      <td>0.0</td>\n",
       "      <td>0.0</td>\n",
       "      <td>0.0</td>\n",
       "    </tr>\n",
       "  </tbody>\n",
       "</table>\n",
       "<p>5 rows × 3711 columns</p>\n",
       "</div>"
      ],
      "text/plain": [
       "   num_brand_directed_at  num_type_directed_at  aapl   ab  abc  ability  able  \\\n",
       "0                      1                     1   0.0  0.0  0.0      0.0   0.0   \n",
       "1                      1                     3   0.0  0.0  0.0      0.0   0.0   \n",
       "2                      1                     1   0.0  0.0  0.0      0.0   0.0   \n",
       "3                      1                     3   0.0  0.0  0.0      0.0   0.0   \n",
       "4                      2                     2   0.0  0.0  0.0      0.0   0.0   \n",
       "\n",
       "   absolutely  absolutley  abt  ...  zazzle  zinio  zip  zms  zombie  zomg  \\\n",
       "0         0.0         0.0  0.0  ...     0.0    0.0  0.0  0.0     0.0   0.0   \n",
       "1         0.0         0.0  0.0  ...     0.0    0.0  0.0  0.0     0.0   0.0   \n",
       "2         0.0         0.0  0.0  ...     0.0    0.0  0.0  0.0     0.0   0.0   \n",
       "3         0.0         0.0  0.0  ...     0.0    0.0  0.0  0.0     0.0   0.0   \n",
       "4         0.0         0.0  0.0  ...     0.0    0.0  0.0  0.0     0.0   0.0   \n",
       "\n",
       "   zone  zoom  zuckerberg  zynga  \n",
       "0   0.0   0.0         0.0    0.0  \n",
       "1   0.0   0.0         0.0    0.0  \n",
       "2   0.0   0.0         0.0    0.0  \n",
       "3   0.0   0.0         0.0    0.0  \n",
       "4   0.0   0.0         0.0    0.0  \n",
       "\n",
       "[5 rows x 3711 columns]"
      ]
     },
     "execution_count": 75,
     "metadata": {},
     "output_type": "execute_result"
    }
   ],
   "source": [
    "# Preview\n",
    "X_test_full.head()"
   ]
  },
  {
   "cell_type": "markdown",
   "metadata": {},
   "source": [
    "#### Model 4: Naive Bayes + TF-IDF<a id=\"Model_4\"></a>\n",
    "Try again with additional features on X"
   ]
  },
  {
   "cell_type": "code",
   "execution_count": 76,
   "metadata": {},
   "outputs": [
    {
     "data": {
      "text/plain": [
       "MultinomialNB(alpha=1.0, class_prior=None, fit_prior=True)"
      ]
     },
     "execution_count": 76,
     "metadata": {},
     "output_type": "execute_result"
    }
   ],
   "source": [
    "nb = MultinomialNB()\n",
    "nb.fit(X_train_full, y_train)"
   ]
  },
  {
   "cell_type": "code",
   "execution_count": 77,
   "metadata": {
    "scrolled": false
   },
   "outputs": [
    {
     "name": "stdout",
     "output_type": "stream",
     "text": [
      "Accuracy:0.6106467223933129\n",
      "Precision:0.387037037037037\n",
      "F1 Score:0.3207981580966999\n"
     ]
    },
    {
     "data": {
      "image/png": "[encoded data removed]",
      "text/plain": [
       "<Figure size 432x288 with 2 Axes>"
      ]
     },
     "metadata": {
      "needs_background": "light"
     },
     "output_type": "display_data"
    }
   ],
   "source": [
    "train_preds = nb.predict(X_train_full)\n",
    "test_preds = nb.predict(X_test_full)\n",
    "\n",
    "print(f'Accuracy:{accuracy_score(y_test, test_preds)}')\n",
    "print(f'Precision:{precision_score(y_test, test_preds)}')\n",
    "print(f'F1 Score:{f1_score(y_test, test_preds)}')\n",
    "plot_confusion_matrix(nb, X_test_full, y_test,\n",
    "                      values_format=\".4g\")  # to make numbers readable\n",
    "plt.show()\n",
    "# Accuracy down .1\n",
    "# Precision down .2\n",
    "# Big negative impact with additional features"
   ]
  },
  {
   "cell_type": "markdown",
   "metadata": {},
   "source": [
    "### Data Reformat\n",
    "- Convert brand and type columns to 0-1 columns to see if model reads better"
   ]
  },
  {
   "cell_type": "code",
   "execution_count": 78,
   "metadata": {},
   "outputs": [
    {
     "data": {
      "text/plain": [
       "Index(['tweet_text', 'emotion_in_tweet_is_directed_at',\n",
       "       'is_there_an_emotion_directed_at_a_brand_or_product',\n",
       "       'brand_directed_at', 'num_brand_directed_at', 'type_directed_at',\n",
       "       'num_type_directed_at', 'target', 'clean_text'],\n",
       "      dtype='object')"
      ]
     },
     "execution_count": 78,
     "metadata": {},
     "output_type": "execute_result"
    }
   ],
   "source": [
    "df.columns"
   ]
  },
  {
   "cell_type": "code",
   "execution_count": 79,
   "metadata": {
    "scrolled": true
   },
   "outputs": [
    {
     "name": "stderr",
     "output_type": "stream",
     "text": [
      "/opt/anaconda3/envs/learn-env/lib/python3.6/site-packages/ipykernel_launcher.py:8: SettingWithCopyWarning: \n",
      "A value is trying to be set on a copy of a slice from a DataFrame\n",
      "\n",
      "See the caveats in the documentation: http://pandas.pydata.org/pandas-docs/stable/user_guide/indexing.html#returning-a-view-versus-a-copy\n",
      "  \n",
      "/opt/anaconda3/envs/learn-env/lib/python3.6/site-packages/ipykernel_launcher.py:10: SettingWithCopyWarning: \n",
      "A value is trying to be set on a copy of a slice from a DataFrame\n",
      "\n",
      "See the caveats in the documentation: http://pandas.pydata.org/pandas-docs/stable/user_guide/indexing.html#returning-a-view-versus-a-copy\n",
      "  # Remove the CWD from sys.path while we load stuff.\n"
     ]
    }
   ],
   "source": [
    "# Create new columns for brands\n",
    "df['tweet_brand_Apple'] = 0\n",
    "df['tweet_brand_Google'] = 0\n",
    "\n",
    "# Assign 1 in respective column based on brand_directed_at\n",
    "for row in df['brand_directed_at'].index:\n",
    "    if df['brand_directed_at'][row] == 'Apple':\n",
    "        df['tweet_brand_Apple'][row] = 1\n",
    "    elif df['brand_directed_at'][row] == 'Google':\n",
    "        df['tweet_brand_Google'][row] = 1"
   ]
  },
  {
   "cell_type": "code",
   "execution_count": 80,
   "metadata": {},
   "outputs": [
    {
     "name": "stderr",
     "output_type": "stream",
     "text": [
      "/opt/anaconda3/envs/learn-env/lib/python3.6/site-packages/ipykernel_launcher.py:9: SettingWithCopyWarning: \n",
      "A value is trying to be set on a copy of a slice from a DataFrame\n",
      "\n",
      "See the caveats in the documentation: http://pandas.pydata.org/pandas-docs/stable/user_guide/indexing.html#returning-a-view-versus-a-copy\n",
      "  if __name__ == '__main__':\n",
      "/opt/anaconda3/envs/learn-env/lib/python3.6/site-packages/ipykernel_launcher.py:11: SettingWithCopyWarning: \n",
      "A value is trying to be set on a copy of a slice from a DataFrame\n",
      "\n",
      "See the caveats in the documentation: http://pandas.pydata.org/pandas-docs/stable/user_guide/indexing.html#returning-a-view-versus-a-copy\n",
      "  # This is added back by InteractiveShellApp.init_path()\n",
      "/opt/anaconda3/envs/learn-env/lib/python3.6/site-packages/ipykernel_launcher.py:13: SettingWithCopyWarning: \n",
      "A value is trying to be set on a copy of a slice from a DataFrame\n",
      "\n",
      "See the caveats in the documentation: http://pandas.pydata.org/pandas-docs/stable/user_guide/indexing.html#returning-a-view-versus-a-copy\n",
      "  del sys.path[0]\n",
      "/opt/anaconda3/envs/learn-env/lib/python3.6/site-packages/ipykernel_launcher.py:15: SettingWithCopyWarning: \n",
      "A value is trying to be set on a copy of a slice from a DataFrame\n",
      "\n",
      "See the caveats in the documentation: http://pandas.pydata.org/pandas-docs/stable/user_guide/indexing.html#returning-a-view-versus-a-copy\n",
      "  from ipykernel import kernelapp as app\n"
     ]
    }
   ],
   "source": [
    "# Do same for type_directed_at\n",
    "df['tweet_type_product'] = 0\n",
    "df['tweet_type_app'] = 0\n",
    "df['tweet_type_brand'] = 0\n",
    "df['tweet_type_service'] = 0\n",
    "\n",
    "for row in df['type_directed_at'].index:\n",
    "    if df['type_directed_at'][row] == 'Product':\n",
    "        df['tweet_type_product'][row] = 1\n",
    "    if df['type_directed_at'][row] == 'App':\n",
    "        df['tweet_type_app'][row] = 1\n",
    "    if df['type_directed_at'][row] == 'Brand':\n",
    "        df['tweet_type_brand'][row] = 1\n",
    "    elif df['type_directed_at'][row] == 'Service':\n",
    "        df['tweet_type_service'][row] = 1"
   ]
  },
  {
   "cell_type": "code",
   "execution_count": 81,
   "metadata": {},
   "outputs": [
    {
     "name": "stdout",
     "output_type": "stream",
     "text": [
      "<class 'pandas.core.frame.DataFrame'>\n",
      "RangeIndex: 9092 entries, 0 to 9091\n",
      "Data columns (total 15 columns):\n",
      "tweet_text                                            9092 non-null object\n",
      "emotion_in_tweet_is_directed_at                       9092 non-null object\n",
      "is_there_an_emotion_directed_at_a_brand_or_product    9092 non-null object\n",
      "brand_directed_at                                     9092 non-null object\n",
      "num_brand_directed_at                                 9092 non-null int64\n",
      "type_directed_at                                      9092 non-null object\n",
      "num_type_directed_at                                  9092 non-null int64\n",
      "target                                                9092 non-null int64\n",
      "clean_text                                            9092 non-null object\n",
      "tweet_brand_Apple                                     9092 non-null int64\n",
      "tweet_brand_Google                                    9092 non-null int64\n",
      "tweet_type_product                                    9092 non-null int64\n",
      "tweet_type_app                                        9092 non-null int64\n",
      "tweet_type_brand                                      9092 non-null int64\n",
      "tweet_type_service                                    9092 non-null int64\n",
      "dtypes: int64(9), object(6)\n",
      "memory usage: 1.0+ MB\n"
     ]
    }
   ],
   "source": [
    "# Review df\n",
    "df.info()"
   ]
  },
  {
   "cell_type": "code",
   "execution_count": 82,
   "metadata": {},
   "outputs": [],
   "source": [
    "# Create new df with subset of columns for ease\n",
    "NB_df = df.drop(columns=['tweet_text', 'emotion_in_tweet_is_directed_at',\n",
    "               'is_there_an_emotion_directed_at_a_brand_or_product',\n",
    "                'brand_directed_at', 'num_brand_directed_at',\n",
    "                'type_directed_at', 'num_type_directed_at'], axis=1)"
   ]
  },
  {
   "cell_type": "code",
   "execution_count": 83,
   "metadata": {
    "scrolled": true
   },
   "outputs": [
    {
     "data": {
      "text/html": [
       "<div>\n",
       "<style scoped>\n",
       "    .dataframe tbody tr th:only-of-type {\n",
       "        vertical-align: middle;\n",
       "    }\n",
       "\n",
       "    .dataframe tbody tr th {\n",
       "        vertical-align: top;\n",
       "    }\n",
       "\n",
       "    .dataframe thead th {\n",
       "        text-align: right;\n",
       "    }\n",
       "</style>\n",
       "<table border=\"1\" class=\"dataframe\">\n",
       "  <thead>\n",
       "    <tr style=\"text-align: right;\">\n",
       "      <th></th>\n",
       "      <th>target</th>\n",
       "      <th>clean_text</th>\n",
       "      <th>tweet_brand_Apple</th>\n",
       "      <th>tweet_brand_Google</th>\n",
       "      <th>tweet_type_product</th>\n",
       "      <th>tweet_type_app</th>\n",
       "      <th>tweet_type_brand</th>\n",
       "      <th>tweet_type_service</th>\n",
       "    </tr>\n",
       "  </thead>\n",
       "  <tbody>\n",
       "    <tr>\n",
       "      <th>0</th>\n",
       "      <td>0</td>\n",
       "      <td>g iphone hr tweeting dead need upgrade plugin ...</td>\n",
       "      <td>1</td>\n",
       "      <td>0</td>\n",
       "      <td>1</td>\n",
       "      <td>0</td>\n",
       "      <td>0</td>\n",
       "      <td>0</td>\n",
       "    </tr>\n",
       "    <tr>\n",
       "      <th>1</th>\n",
       "      <td>1</td>\n",
       "      <td>know awesome ipadiphone app youll likely appre...</td>\n",
       "      <td>1</td>\n",
       "      <td>0</td>\n",
       "      <td>0</td>\n",
       "      <td>1</td>\n",
       "      <td>0</td>\n",
       "      <td>0</td>\n",
       "    </tr>\n",
       "    <tr>\n",
       "      <th>2</th>\n",
       "      <td>1</td>\n",
       "      <td>wait also sale</td>\n",
       "      <td>1</td>\n",
       "      <td>0</td>\n",
       "      <td>1</td>\n",
       "      <td>0</td>\n",
       "      <td>0</td>\n",
       "      <td>0</td>\n",
       "    </tr>\n",
       "    <tr>\n",
       "      <th>3</th>\n",
       "      <td>0</td>\n",
       "      <td>hope year festival isnt crashy year iphone app</td>\n",
       "      <td>1</td>\n",
       "      <td>0</td>\n",
       "      <td>0</td>\n",
       "      <td>1</td>\n",
       "      <td>0</td>\n",
       "      <td>0</td>\n",
       "    </tr>\n",
       "    <tr>\n",
       "      <th>4</th>\n",
       "      <td>1</td>\n",
       "      <td>great stuff fri marissa mayer google tim oreil...</td>\n",
       "      <td>0</td>\n",
       "      <td>1</td>\n",
       "      <td>0</td>\n",
       "      <td>0</td>\n",
       "      <td>1</td>\n",
       "      <td>0</td>\n",
       "    </tr>\n",
       "  </tbody>\n",
       "</table>\n",
       "</div>"
      ],
      "text/plain": [
       "   target                                         clean_text  \\\n",
       "0       0  g iphone hr tweeting dead need upgrade plugin ...   \n",
       "1       1  know awesome ipadiphone app youll likely appre...   \n",
       "2       1                                     wait also sale   \n",
       "3       0     hope year festival isnt crashy year iphone app   \n",
       "4       1  great stuff fri marissa mayer google tim oreil...   \n",
       "\n",
       "   tweet_brand_Apple  tweet_brand_Google  tweet_type_product  tweet_type_app  \\\n",
       "0                  1                   0                   1               0   \n",
       "1                  1                   0                   0               1   \n",
       "2                  1                   0                   1               0   \n",
       "3                  1                   0                   0               1   \n",
       "4                  0                   1                   0               0   \n",
       "\n",
       "   tweet_type_brand  tweet_type_service  \n",
       "0                 0                   0  \n",
       "1                 0                   0  \n",
       "2                 0                   0  \n",
       "3                 0                   0  \n",
       "4                 1                   0  "
      ]
     },
     "execution_count": 83,
     "metadata": {},
     "output_type": "execute_result"
    }
   ],
   "source": [
    "# Preview\n",
    "NB_df.head()"
   ]
  },
  {
   "cell_type": "markdown",
   "metadata": {},
   "source": [
    "### Dataset creation \n",
    "TF-IDF + appending boolean brand and type fields"
   ]
  },
  {
   "cell_type": "code",
   "execution_count": 84,
   "metadata": {},
   "outputs": [],
   "source": [
    "# Grabbing our inputs and target\n",
    "X = NB_df.drop(columns='target', axis=1)\n",
    "y = NB_df['target']\n",
    "\n",
    "# Train test split\n",
    "X_train, X_test, y_train, y_test = train_test_split(X, y, random_state=42)"
   ]
  },
  {
   "cell_type": "markdown",
   "metadata": {},
   "source": [
    "#### TF-IDF application"
   ]
  },
  {
   "cell_type": "code",
   "execution_count": 85,
   "metadata": {},
   "outputs": [],
   "source": [
    "# Instantiating the TF-IDF vectorizer\n",
    "tfidf3 = TfidfVectorizer(max_df = .95, # removes words that appear in more than 95% of docs\n",
    "                        min_df = 2, # removes words that appear 2 or fewer times\n",
    "                        use_idf=True)"
   ]
  },
  {
   "cell_type": "code",
   "execution_count": 86,
   "metadata": {},
   "outputs": [],
   "source": [
    "X_train_transformed = tfidf3.fit_transform(X_train['clean_text'])\n",
    "X_test_transformed = tfidf3.transform(X_test['clean_text'])"
   ]
  },
  {
   "cell_type": "code",
   "execution_count": 87,
   "metadata": {},
   "outputs": [],
   "source": [
    "# Create X_train with appended columns\n",
    "# X_train text vectorizing\n",
    "X_train_tfidfvect_text_df = pd.DataFrame(X_train_transformed.toarray(), columns=tfidf3.get_feature_names())"
   ]
  },
  {
   "cell_type": "code",
   "execution_count": 88,
   "metadata": {},
   "outputs": [
    {
     "data": {
      "text/html": [
       "<div>\n",
       "<style scoped>\n",
       "    .dataframe tbody tr th:only-of-type {\n",
       "        vertical-align: middle;\n",
       "    }\n",
       "\n",
       "    .dataframe tbody tr th {\n",
       "        vertical-align: top;\n",
       "    }\n",
       "\n",
       "    .dataframe thead th {\n",
       "        text-align: right;\n",
       "    }\n",
       "</style>\n",
       "<table border=\"1\" class=\"dataframe\">\n",
       "  <thead>\n",
       "    <tr style=\"text-align: right;\">\n",
       "      <th></th>\n",
       "      <th>aapl</th>\n",
       "      <th>ab</th>\n",
       "      <th>abc</th>\n",
       "      <th>ability</th>\n",
       "      <th>able</th>\n",
       "      <th>absolutely</th>\n",
       "      <th>absolutley</th>\n",
       "      <th>abt</th>\n",
       "      <th>academy</th>\n",
       "      <th>acc</th>\n",
       "      <th>...</th>\n",
       "      <th>zazzle</th>\n",
       "      <th>zinio</th>\n",
       "      <th>zip</th>\n",
       "      <th>zms</th>\n",
       "      <th>zombie</th>\n",
       "      <th>zomg</th>\n",
       "      <th>zone</th>\n",
       "      <th>zoom</th>\n",
       "      <th>zuckerberg</th>\n",
       "      <th>zynga</th>\n",
       "    </tr>\n",
       "  </thead>\n",
       "  <tbody>\n",
       "    <tr>\n",
       "      <th>0</th>\n",
       "      <td>0.0</td>\n",
       "      <td>0.0</td>\n",
       "      <td>0.0</td>\n",
       "      <td>0.0</td>\n",
       "      <td>0.0</td>\n",
       "      <td>0.0</td>\n",
       "      <td>0.0</td>\n",
       "      <td>0.0</td>\n",
       "      <td>0.0</td>\n",
       "      <td>0.0</td>\n",
       "      <td>...</td>\n",
       "      <td>0.0</td>\n",
       "      <td>0.0</td>\n",
       "      <td>0.0</td>\n",
       "      <td>0.0</td>\n",
       "      <td>0.0</td>\n",
       "      <td>0.0</td>\n",
       "      <td>0.0</td>\n",
       "      <td>0.0</td>\n",
       "      <td>0.0</td>\n",
       "      <td>0.0</td>\n",
       "    </tr>\n",
       "    <tr>\n",
       "      <th>1</th>\n",
       "      <td>0.0</td>\n",
       "      <td>0.0</td>\n",
       "      <td>0.0</td>\n",
       "      <td>0.0</td>\n",
       "      <td>0.0</td>\n",
       "      <td>0.0</td>\n",
       "      <td>0.0</td>\n",
       "      <td>0.0</td>\n",
       "      <td>0.0</td>\n",
       "      <td>0.0</td>\n",
       "      <td>...</td>\n",
       "      <td>0.0</td>\n",
       "      <td>0.0</td>\n",
       "      <td>0.0</td>\n",
       "      <td>0.0</td>\n",
       "      <td>0.0</td>\n",
       "      <td>0.0</td>\n",
       "      <td>0.0</td>\n",
       "      <td>0.0</td>\n",
       "      <td>0.0</td>\n",
       "      <td>0.0</td>\n",
       "    </tr>\n",
       "    <tr>\n",
       "      <th>2</th>\n",
       "      <td>0.0</td>\n",
       "      <td>0.0</td>\n",
       "      <td>0.0</td>\n",
       "      <td>0.0</td>\n",
       "      <td>0.0</td>\n",
       "      <td>0.0</td>\n",
       "      <td>0.0</td>\n",
       "      <td>0.0</td>\n",
       "      <td>0.0</td>\n",
       "      <td>0.0</td>\n",
       "      <td>...</td>\n",
       "      <td>0.0</td>\n",
       "      <td>0.0</td>\n",
       "      <td>0.0</td>\n",
       "      <td>0.0</td>\n",
       "      <td>0.0</td>\n",
       "      <td>0.0</td>\n",
       "      <td>0.0</td>\n",
       "      <td>0.0</td>\n",
       "      <td>0.0</td>\n",
       "      <td>0.0</td>\n",
       "    </tr>\n",
       "    <tr>\n",
       "      <th>3</th>\n",
       "      <td>0.0</td>\n",
       "      <td>0.0</td>\n",
       "      <td>0.0</td>\n",
       "      <td>0.0</td>\n",
       "      <td>0.0</td>\n",
       "      <td>0.0</td>\n",
       "      <td>0.0</td>\n",
       "      <td>0.0</td>\n",
       "      <td>0.0</td>\n",
       "      <td>0.0</td>\n",
       "      <td>...</td>\n",
       "      <td>0.0</td>\n",
       "      <td>0.0</td>\n",
       "      <td>0.0</td>\n",
       "      <td>0.0</td>\n",
       "      <td>0.0</td>\n",
       "      <td>0.0</td>\n",
       "      <td>0.0</td>\n",
       "      <td>0.0</td>\n",
       "      <td>0.0</td>\n",
       "      <td>0.0</td>\n",
       "    </tr>\n",
       "    <tr>\n",
       "      <th>4</th>\n",
       "      <td>0.0</td>\n",
       "      <td>0.0</td>\n",
       "      <td>0.0</td>\n",
       "      <td>0.0</td>\n",
       "      <td>0.0</td>\n",
       "      <td>0.0</td>\n",
       "      <td>0.0</td>\n",
       "      <td>0.0</td>\n",
       "      <td>0.0</td>\n",
       "      <td>0.0</td>\n",
       "      <td>...</td>\n",
       "      <td>0.0</td>\n",
       "      <td>0.0</td>\n",
       "      <td>0.0</td>\n",
       "      <td>0.0</td>\n",
       "      <td>0.0</td>\n",
       "      <td>0.0</td>\n",
       "      <td>0.0</td>\n",
       "      <td>0.0</td>\n",
       "      <td>0.0</td>\n",
       "      <td>0.0</td>\n",
       "    </tr>\n",
       "  </tbody>\n",
       "</table>\n",
       "<p>5 rows × 3709 columns</p>\n",
       "</div>"
      ],
      "text/plain": [
       "   aapl   ab  abc  ability  able  absolutely  absolutley  abt  academy  acc  \\\n",
       "0   0.0  0.0  0.0      0.0   0.0         0.0         0.0  0.0      0.0  0.0   \n",
       "1   0.0  0.0  0.0      0.0   0.0         0.0         0.0  0.0      0.0  0.0   \n",
       "2   0.0  0.0  0.0      0.0   0.0         0.0         0.0  0.0      0.0  0.0   \n",
       "3   0.0  0.0  0.0      0.0   0.0         0.0         0.0  0.0      0.0  0.0   \n",
       "4   0.0  0.0  0.0      0.0   0.0         0.0         0.0  0.0      0.0  0.0   \n",
       "\n",
       "   ...  zazzle  zinio  zip  zms  zombie  zomg  zone  zoom  zuckerberg  zynga  \n",
       "0  ...     0.0    0.0  0.0  0.0     0.0   0.0   0.0   0.0         0.0    0.0  \n",
       "1  ...     0.0    0.0  0.0  0.0     0.0   0.0   0.0   0.0         0.0    0.0  \n",
       "2  ...     0.0    0.0  0.0  0.0     0.0   0.0   0.0   0.0         0.0    0.0  \n",
       "3  ...     0.0    0.0  0.0  0.0     0.0   0.0   0.0   0.0         0.0    0.0  \n",
       "4  ...     0.0    0.0  0.0  0.0     0.0   0.0   0.0   0.0         0.0    0.0  \n",
       "\n",
       "[5 rows x 3709 columns]"
      ]
     },
     "execution_count": 88,
     "metadata": {},
     "output_type": "execute_result"
    }
   ],
   "source": [
    "X_train_tfidfvect_text_df.head()"
   ]
  },
  {
   "cell_type": "code",
   "execution_count": 89,
   "metadata": {},
   "outputs": [],
   "source": [
    "# Append emotion in tweet directed at to vectorized X_train clean text\n",
    "X_train_full = pd.merge(left=X_train_tfidfvect_text_df, right=X.drop(columns='clean_text', axis=1),\n",
    "                        how='left', left_index=True, right_index=True)"
   ]
  },
  {
   "cell_type": "code",
   "execution_count": 90,
   "metadata": {},
   "outputs": [
    {
     "data": {
      "text/plain": [
       "(6819, 3715)"
      ]
     },
     "execution_count": 90,
     "metadata": {},
     "output_type": "execute_result"
    }
   ],
   "source": [
    "# Shape check X_train\n",
    "X_train_full.shape"
   ]
  },
  {
   "cell_type": "code",
   "execution_count": 91,
   "metadata": {},
   "outputs": [
    {
     "data": {
      "text/plain": [
       "(6819,)"
      ]
     },
     "execution_count": 91,
     "metadata": {},
     "output_type": "execute_result"
    }
   ],
   "source": [
    "# Shape check y_train\n",
    "y_train.shape"
   ]
  },
  {
   "cell_type": "code",
   "execution_count": 92,
   "metadata": {},
   "outputs": [],
   "source": [
    "# Create X_test with appended columns\n",
    "X_test_tfidfvect_text_df = pd.DataFrame(X_test_transformed.toarray(), columns=tfidf3.get_feature_names())"
   ]
  },
  {
   "cell_type": "code",
   "execution_count": 93,
   "metadata": {},
   "outputs": [],
   "source": [
    "# Append emotion in tweet directed at\n",
    "X_test_full = pd.concat([X.drop(columns='clean_text', axis=1), \n",
    "                        X_test_tfidfvect_text_df], axis=1, join='inner')"
   ]
  },
  {
   "cell_type": "code",
   "execution_count": 94,
   "metadata": {},
   "outputs": [
    {
     "data": {
      "text/plain": [
       "(2273, 3715)"
      ]
     },
     "execution_count": 94,
     "metadata": {},
     "output_type": "execute_result"
    }
   ],
   "source": [
    "# Shape check\n",
    "X_test_full.shape"
   ]
  },
  {
   "cell_type": "code",
   "execution_count": 95,
   "metadata": {
    "scrolled": true
   },
   "outputs": [
    {
     "data": {
      "text/html": [
       "<div>\n",
       "<style scoped>\n",
       "    .dataframe tbody tr th:only-of-type {\n",
       "        vertical-align: middle;\n",
       "    }\n",
       "\n",
       "    .dataframe tbody tr th {\n",
       "        vertical-align: top;\n",
       "    }\n",
       "\n",
       "    .dataframe thead th {\n",
       "        text-align: right;\n",
       "    }\n",
       "</style>\n",
       "<table border=\"1\" class=\"dataframe\">\n",
       "  <thead>\n",
       "    <tr style=\"text-align: right;\">\n",
       "      <th></th>\n",
       "      <th>tweet_brand_Apple</th>\n",
       "      <th>tweet_brand_Google</th>\n",
       "      <th>tweet_type_product</th>\n",
       "      <th>tweet_type_app</th>\n",
       "      <th>tweet_type_brand</th>\n",
       "      <th>tweet_type_service</th>\n",
       "      <th>aapl</th>\n",
       "      <th>ab</th>\n",
       "      <th>abc</th>\n",
       "      <th>ability</th>\n",
       "      <th>...</th>\n",
       "      <th>zazzle</th>\n",
       "      <th>zinio</th>\n",
       "      <th>zip</th>\n",
       "      <th>zms</th>\n",
       "      <th>zombie</th>\n",
       "      <th>zomg</th>\n",
       "      <th>zone</th>\n",
       "      <th>zoom</th>\n",
       "      <th>zuckerberg</th>\n",
       "      <th>zynga</th>\n",
       "    </tr>\n",
       "  </thead>\n",
       "  <tbody>\n",
       "    <tr>\n",
       "      <th>0</th>\n",
       "      <td>1</td>\n",
       "      <td>0</td>\n",
       "      <td>1</td>\n",
       "      <td>0</td>\n",
       "      <td>0</td>\n",
       "      <td>0</td>\n",
       "      <td>0.0</td>\n",
       "      <td>0.0</td>\n",
       "      <td>0.0</td>\n",
       "      <td>0.0</td>\n",
       "      <td>...</td>\n",
       "      <td>0.0</td>\n",
       "      <td>0.0</td>\n",
       "      <td>0.0</td>\n",
       "      <td>0.0</td>\n",
       "      <td>0.0</td>\n",
       "      <td>0.0</td>\n",
       "      <td>0.0</td>\n",
       "      <td>0.0</td>\n",
       "      <td>0.0</td>\n",
       "      <td>0.0</td>\n",
       "    </tr>\n",
       "    <tr>\n",
       "      <th>1</th>\n",
       "      <td>1</td>\n",
       "      <td>0</td>\n",
       "      <td>0</td>\n",
       "      <td>1</td>\n",
       "      <td>0</td>\n",
       "      <td>0</td>\n",
       "      <td>0.0</td>\n",
       "      <td>0.0</td>\n",
       "      <td>0.0</td>\n",
       "      <td>0.0</td>\n",
       "      <td>...</td>\n",
       "      <td>0.0</td>\n",
       "      <td>0.0</td>\n",
       "      <td>0.0</td>\n",
       "      <td>0.0</td>\n",
       "      <td>0.0</td>\n",
       "      <td>0.0</td>\n",
       "      <td>0.0</td>\n",
       "      <td>0.0</td>\n",
       "      <td>0.0</td>\n",
       "      <td>0.0</td>\n",
       "    </tr>\n",
       "    <tr>\n",
       "      <th>2</th>\n",
       "      <td>1</td>\n",
       "      <td>0</td>\n",
       "      <td>1</td>\n",
       "      <td>0</td>\n",
       "      <td>0</td>\n",
       "      <td>0</td>\n",
       "      <td>0.0</td>\n",
       "      <td>0.0</td>\n",
       "      <td>0.0</td>\n",
       "      <td>0.0</td>\n",
       "      <td>...</td>\n",
       "      <td>0.0</td>\n",
       "      <td>0.0</td>\n",
       "      <td>0.0</td>\n",
       "      <td>0.0</td>\n",
       "      <td>0.0</td>\n",
       "      <td>0.0</td>\n",
       "      <td>0.0</td>\n",
       "      <td>0.0</td>\n",
       "      <td>0.0</td>\n",
       "      <td>0.0</td>\n",
       "    </tr>\n",
       "    <tr>\n",
       "      <th>3</th>\n",
       "      <td>1</td>\n",
       "      <td>0</td>\n",
       "      <td>0</td>\n",
       "      <td>1</td>\n",
       "      <td>0</td>\n",
       "      <td>0</td>\n",
       "      <td>0.0</td>\n",
       "      <td>0.0</td>\n",
       "      <td>0.0</td>\n",
       "      <td>0.0</td>\n",
       "      <td>...</td>\n",
       "      <td>0.0</td>\n",
       "      <td>0.0</td>\n",
       "      <td>0.0</td>\n",
       "      <td>0.0</td>\n",
       "      <td>0.0</td>\n",
       "      <td>0.0</td>\n",
       "      <td>0.0</td>\n",
       "      <td>0.0</td>\n",
       "      <td>0.0</td>\n",
       "      <td>0.0</td>\n",
       "    </tr>\n",
       "    <tr>\n",
       "      <th>4</th>\n",
       "      <td>0</td>\n",
       "      <td>1</td>\n",
       "      <td>0</td>\n",
       "      <td>0</td>\n",
       "      <td>1</td>\n",
       "      <td>0</td>\n",
       "      <td>0.0</td>\n",
       "      <td>0.0</td>\n",
       "      <td>0.0</td>\n",
       "      <td>0.0</td>\n",
       "      <td>...</td>\n",
       "      <td>0.0</td>\n",
       "      <td>0.0</td>\n",
       "      <td>0.0</td>\n",
       "      <td>0.0</td>\n",
       "      <td>0.0</td>\n",
       "      <td>0.0</td>\n",
       "      <td>0.0</td>\n",
       "      <td>0.0</td>\n",
       "      <td>0.0</td>\n",
       "      <td>0.0</td>\n",
       "    </tr>\n",
       "  </tbody>\n",
       "</table>\n",
       "<p>5 rows × 3715 columns</p>\n",
       "</div>"
      ],
      "text/plain": [
       "   tweet_brand_Apple  tweet_brand_Google  tweet_type_product  tweet_type_app  \\\n",
       "0                  1                   0                   1               0   \n",
       "1                  1                   0                   0               1   \n",
       "2                  1                   0                   1               0   \n",
       "3                  1                   0                   0               1   \n",
       "4                  0                   1                   0               0   \n",
       "\n",
       "   tweet_type_brand  tweet_type_service  aapl   ab  abc  ability  ...  zazzle  \\\n",
       "0                 0                   0   0.0  0.0  0.0      0.0  ...     0.0   \n",
       "1                 0                   0   0.0  0.0  0.0      0.0  ...     0.0   \n",
       "2                 0                   0   0.0  0.0  0.0      0.0  ...     0.0   \n",
       "3                 0                   0   0.0  0.0  0.0      0.0  ...     0.0   \n",
       "4                 1                   0   0.0  0.0  0.0      0.0  ...     0.0   \n",
       "\n",
       "   zinio  zip  zms  zombie  zomg  zone  zoom  zuckerberg  zynga  \n",
       "0    0.0  0.0  0.0     0.0   0.0   0.0   0.0         0.0    0.0  \n",
       "1    0.0  0.0  0.0     0.0   0.0   0.0   0.0         0.0    0.0  \n",
       "2    0.0  0.0  0.0     0.0   0.0   0.0   0.0         0.0    0.0  \n",
       "3    0.0  0.0  0.0     0.0   0.0   0.0   0.0         0.0    0.0  \n",
       "4    0.0  0.0  0.0     0.0   0.0   0.0   0.0         0.0    0.0  \n",
       "\n",
       "[5 rows x 3715 columns]"
      ]
     },
     "execution_count": 95,
     "metadata": {},
     "output_type": "execute_result"
    }
   ],
   "source": [
    "# Preview\n",
    "X_test_full.head()"
   ]
  },
  {
   "cell_type": "markdown",
   "metadata": {},
   "source": [
    "#### Model 5: Naive Bayes + TF-IDF<a id=\"Model_5\"></a>\n",
    "Try again with reformatted Boolean features on X"
   ]
  },
  {
   "cell_type": "code",
   "execution_count": 96,
   "metadata": {},
   "outputs": [
    {
     "data": {
      "text/plain": [
       "MultinomialNB(alpha=1.0, class_prior=None, fit_prior=True)"
      ]
     },
     "execution_count": 96,
     "metadata": {},
     "output_type": "execute_result"
    }
   ],
   "source": [
    "nb = MultinomialNB()\n",
    "nb.fit(X_train_full, y_train)"
   ]
  },
  {
   "cell_type": "code",
   "execution_count": 97,
   "metadata": {},
   "outputs": [
    {
     "name": "stdout",
     "output_type": "stream",
     "text": [
      "Accuracy:0.5741311042674879\n",
      "Precision:0.34108527131782945\n",
      "F1 Score:0.31249999999999994\n"
     ]
    },
    {
     "data": {
      "image/png": "[encoded data removed]",
      "text/plain": [
       "<Figure size 432x288 with 2 Axes>"
      ]
     },
     "metadata": {
      "needs_background": "light"
     },
     "output_type": "display_data"
    }
   ],
   "source": [
    "train_preds = nb.predict(X_train_full)\n",
    "test_preds = nb.predict(X_test_full)\n",
    "\n",
    "print(f'Accuracy:{accuracy_score(y_test, test_preds)}')\n",
    "print(f'Precision:{precision_score(y_test, test_preds)}')\n",
    "print(f'F1 Score:{f1_score(y_test, test_preds)}')\n",
    "plot_confusion_matrix(nb, X_test_full, y_test,\n",
    "                      values_format=\".4g\")  # to make numbers readable\n",
    "plt.show()\n",
    "# Accuracy and precision further down (.04 on both)"
   ]
  },
  {
   "cell_type": "markdown",
   "metadata": {},
   "source": [
    "#### Model 6: Random Forest + TF-IDF<a id=\"Model_6\"></a>\n",
    "Switch model type. Maybe additional features not helping Naive Bayes model specifically"
   ]
  },
  {
   "cell_type": "code",
   "execution_count": 98,
   "metadata": {},
   "outputs": [
    {
     "data": {
      "text/plain": [
       "RandomForestClassifier(bootstrap=True, ccp_alpha=0.0, class_weight='balanced',\n",
       "                       criterion='gini', max_depth=None, max_features='auto',\n",
       "                       max_leaf_nodes=None, max_samples=None,\n",
       "                       min_impurity_decrease=0.0, min_impurity_split=None,\n",
       "                       min_samples_leaf=1, min_samples_split=2,\n",
       "                       min_weight_fraction_leaf=0.0, n_estimators=100,\n",
       "                       n_jobs=None, oob_score=False, random_state=None,\n",
       "                       verbose=0, warm_start=False)"
      ]
     },
     "execution_count": 98,
     "metadata": {},
     "output_type": "execute_result"
    }
   ],
   "source": [
    "# Try RandomForest again\n",
    "rfc = RandomForestClassifier(class_weight='balanced')\n",
    "rfc.fit(X_train_full, y_train)"
   ]
  },
  {
   "cell_type": "code",
   "execution_count": 99,
   "metadata": {},
   "outputs": [
    {
     "name": "stdout",
     "output_type": "stream",
     "text": [
      "Accuracy:0.6603607567091949\n",
      "Precision:0.36363636363636365\n",
      "F1 Score:0.030150753768844216\n"
     ]
    },
    {
     "data": {
      "image/png": "[encoded data removed]",
      "text/plain": [
       "<Figure size 432x288 with 2 Axes>"
      ]
     },
     "metadata": {
      "needs_background": "light"
     },
     "output_type": "display_data"
    }
   ],
   "source": [
    "train_preds = rfc.predict(X_train_full)\n",
    "test_preds = rfc.predict(X_test_full)\n",
    "\n",
    "print(f'Accuracy:{accuracy_score(y_test, test_preds)}')\n",
    "print(f'Precision:{precision_score(y_test, test_preds)}')\n",
    "print(f'F1 Score:{f1_score(y_test, test_preds)}')\n",
    "plot_confusion_matrix(nb, X_test_full, y_test,\n",
    "                      values_format=\".4g\")  # to make numbers readable\n",
    "plt.show()\n",
    "# Better accuracy by 0.05 on best Naive Bayes with additional features\n",
    "# Still below model without additional features"
   ]
  },
  {
   "cell_type": "markdown",
   "metadata": {},
   "source": [
    "### Learning: \n",
    "Additional features beyond the text of the tweet are not helping this classification model.\n",
    "If the formatting, parsing, and understanding of the text is most important, next step is to revisit preprocessing methods to potentially get more meaning from the tweets that will help model metrics."
   ]
  },
  {
   "cell_type": "markdown",
   "metadata": {},
   "source": [
    "# Navigate to \"Preprocessing_V2.ipynb\" notebook for most recent approach to this model"
   ]
  }
 ],
 "metadata": {
  "kernelspec": {
   "display_name": "Python 3",
   "language": "python",
   "name": "python3"
  },
  "language_info": {
   "codemirror_mode": {
    "name": "ipython",
    "version": 3
   },
   "file_extension": ".py",
   "mimetype": "text/x-python",
   "name": "python",
   "nbconvert_exporter": "python",
   "pygments_lexer": "ipython3",
   "version": "3.6.9"
  }
 },
 "nbformat": 4,
 "nbformat_minor": 4
}
