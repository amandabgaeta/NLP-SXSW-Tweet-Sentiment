{
 "cells": [
  {
   "cell_type": "markdown",
   "metadata": {},
   "source": [
    "AVOID FALSE POSITIVE - MAXIMIZE PRECISION \n",
    "- False Positive: a negative or neutral tweet is classified as positive and company invests in promoting something that customers view negatively\n",
    "    - False Positive is worse of the two because it leads to negative customer experience, lower NPS, and brand suffers in longer term. Basically spending money for customer to have negative experience.\n",
    "- False Negative: a positive tweet is classified as negative, and company misses opportunity to invest in promoting something that customers view positively\n",
    "\n",
    "### Note: Add Cross Val in Models\n",
    "### Next steps:\n",
    "- pre-trained embeddings / sentiment analysis : revisit Word2Vec/Glove\n",
    "- clustering (grouping tweets)\n",
    "- if want to revisit more feat eng - can go back to if there is reply/rt/hashtags"
   ]
  },
  {
   "cell_type": "code",
   "execution_count": 46,
   "metadata": {},
   "outputs": [],
   "source": [
    "import pandas as pd\n",
    "import matplotlib.pyplot as plt\n",
    "\n",
    "from sklearn.model_selection import train_test_split, cross_val_score\n",
    "from sklearn.naive_bayes import MultinomialNB\n",
    "from sklearn.ensemble import RandomForestClassifier\n",
    "from sklearn.metrics import accuracy_score, plot_confusion_matrix, precision_score, f1_score\n",
    "\n",
    "from sklearn.feature_extraction.text import CountVectorizer\n",
    "from sklearn.feature_extraction.text import TfidfVectorizer\n",
    "\n",
    "\n",
    "import re\n",
    "import nltk\n",
    "import string\n",
    "from nltk.corpus import stopwords\n",
    "from nltk import word_tokenize\n",
    "from nltk.stem import WordNetLemmatizer\n"
   ]
  },
  {
   "cell_type": "code",
   "execution_count": 5,
   "metadata": {},
   "outputs": [],
   "source": [
    "# import file\n",
    "df = pd.read_csv('../data/judge-1377884607_tweet_product_company.csv', encoding= 'unicode_escape')"
   ]
  },
  {
   "cell_type": "code",
   "execution_count": 6,
   "metadata": {
    "scrolled": true
   },
   "outputs": [
    {
     "data": {
      "text/html": [
       "<div>\n",
       "<style scoped>\n",
       "    .dataframe tbody tr th:only-of-type {\n",
       "        vertical-align: middle;\n",
       "    }\n",
       "\n",
       "    .dataframe tbody tr th {\n",
       "        vertical-align: top;\n",
       "    }\n",
       "\n",
       "    .dataframe thead th {\n",
       "        text-align: right;\n",
       "    }\n",
       "</style>\n",
       "<table border=\"1\" class=\"dataframe\">\n",
       "  <thead>\n",
       "    <tr style=\"text-align: right;\">\n",
       "      <th></th>\n",
       "      <th>tweet_text</th>\n",
       "      <th>emotion_in_tweet_is_directed_at</th>\n",
       "      <th>is_there_an_emotion_directed_at_a_brand_or_product</th>\n",
       "    </tr>\n",
       "  </thead>\n",
       "  <tbody>\n",
       "    <tr>\n",
       "      <th>0</th>\n",
       "      <td>.@wesley83 I have a 3G iPhone. After 3 hrs twe...</td>\n",
       "      <td>iPhone</td>\n",
       "      <td>Negative emotion</td>\n",
       "    </tr>\n",
       "    <tr>\n",
       "      <th>1</th>\n",
       "      <td>@jessedee Know about @fludapp ? Awesome iPad/i...</td>\n",
       "      <td>iPad or iPhone App</td>\n",
       "      <td>Positive emotion</td>\n",
       "    </tr>\n",
       "    <tr>\n",
       "      <th>2</th>\n",
       "      <td>@swonderlin Can not wait for #iPad 2 also. The...</td>\n",
       "      <td>iPad</td>\n",
       "      <td>Positive emotion</td>\n",
       "    </tr>\n",
       "    <tr>\n",
       "      <th>3</th>\n",
       "      <td>@sxsw I hope this year's festival isn't as cra...</td>\n",
       "      <td>iPad or iPhone App</td>\n",
       "      <td>Negative emotion</td>\n",
       "    </tr>\n",
       "    <tr>\n",
       "      <th>4</th>\n",
       "      <td>@sxtxstate great stuff on Fri #SXSW: Marissa M...</td>\n",
       "      <td>Google</td>\n",
       "      <td>Positive emotion</td>\n",
       "    </tr>\n",
       "    <tr>\n",
       "      <th>5</th>\n",
       "      <td>@teachntech00 New iPad Apps For #SpeechTherapy...</td>\n",
       "      <td>NaN</td>\n",
       "      <td>No emotion toward brand or product</td>\n",
       "    </tr>\n",
       "    <tr>\n",
       "      <th>6</th>\n",
       "      <td>NaN</td>\n",
       "      <td>NaN</td>\n",
       "      <td>No emotion toward brand or product</td>\n",
       "    </tr>\n",
       "    <tr>\n",
       "      <th>7</th>\n",
       "      <td>#SXSW is just starting, #CTIA is around the co...</td>\n",
       "      <td>Android</td>\n",
       "      <td>Positive emotion</td>\n",
       "    </tr>\n",
       "    <tr>\n",
       "      <th>8</th>\n",
       "      <td>Beautifully smart and simple idea RT @madebyma...</td>\n",
       "      <td>iPad or iPhone App</td>\n",
       "      <td>Positive emotion</td>\n",
       "    </tr>\n",
       "    <tr>\n",
       "      <th>9</th>\n",
       "      <td>Counting down the days to #sxsw plus strong Ca...</td>\n",
       "      <td>Apple</td>\n",
       "      <td>Positive emotion</td>\n",
       "    </tr>\n",
       "  </tbody>\n",
       "</table>\n",
       "</div>"
      ],
      "text/plain": [
       "                                          tweet_text  \\\n",
       "0  .@wesley83 I have a 3G iPhone. After 3 hrs twe...   \n",
       "1  @jessedee Know about @fludapp ? Awesome iPad/i...   \n",
       "2  @swonderlin Can not wait for #iPad 2 also. The...   \n",
       "3  @sxsw I hope this year's festival isn't as cra...   \n",
       "4  @sxtxstate great stuff on Fri #SXSW: Marissa M...   \n",
       "5  @teachntech00 New iPad Apps For #SpeechTherapy...   \n",
       "6                                                NaN   \n",
       "7  #SXSW is just starting, #CTIA is around the co...   \n",
       "8  Beautifully smart and simple idea RT @madebyma...   \n",
       "9  Counting down the days to #sxsw plus strong Ca...   \n",
       "\n",
       "  emotion_in_tweet_is_directed_at  \\\n",
       "0                          iPhone   \n",
       "1              iPad or iPhone App   \n",
       "2                            iPad   \n",
       "3              iPad or iPhone App   \n",
       "4                          Google   \n",
       "5                             NaN   \n",
       "6                             NaN   \n",
       "7                         Android   \n",
       "8              iPad or iPhone App   \n",
       "9                           Apple   \n",
       "\n",
       "  is_there_an_emotion_directed_at_a_brand_or_product  \n",
       "0                                   Negative emotion  \n",
       "1                                   Positive emotion  \n",
       "2                                   Positive emotion  \n",
       "3                                   Negative emotion  \n",
       "4                                   Positive emotion  \n",
       "5                 No emotion toward brand or product  \n",
       "6                 No emotion toward brand or product  \n",
       "7                                   Positive emotion  \n",
       "8                                   Positive emotion  \n",
       "9                                   Positive emotion  "
      ]
     },
     "execution_count": 6,
     "metadata": {},
     "output_type": "execute_result"
    }
   ],
   "source": [
    "# Preview file \n",
    "df.head(10)"
   ]
  },
  {
   "cell_type": "code",
   "execution_count": 7,
   "metadata": {},
   "outputs": [
    {
     "name": "stdout",
     "output_type": "stream",
     "text": [
      "<class 'pandas.core.frame.DataFrame'>\n",
      "RangeIndex: 9093 entries, 0 to 9092\n",
      "Data columns (total 3 columns):\n",
      "tweet_text                                            9092 non-null object\n",
      "emotion_in_tweet_is_directed_at                       3291 non-null object\n",
      "is_there_an_emotion_directed_at_a_brand_or_product    9093 non-null object\n",
      "dtypes: object(3)\n",
      "memory usage: 213.2+ KB\n"
     ]
    }
   ],
   "source": [
    "# Overview file\n",
    "df.info()"
   ]
  },
  {
   "cell_type": "code",
   "execution_count": 8,
   "metadata": {},
   "outputs": [
    {
     "data": {
      "text/plain": [
       "iPad                               946\n",
       "Apple                              661\n",
       "iPad or iPhone App                 470\n",
       "Google                             430\n",
       "iPhone                             297\n",
       "Other Google product or service    293\n",
       "Android App                         81\n",
       "Android                             78\n",
       "Other Apple product or service      35\n",
       "Name: emotion_in_tweet_is_directed_at, dtype: int64"
      ]
     },
     "execution_count": 8,
     "metadata": {},
     "output_type": "execute_result"
    }
   ],
   "source": [
    "# Value counts exploration\n",
    "df['emotion_in_tweet_is_directed_at'].value_counts()"
   ]
  },
  {
   "cell_type": "code",
   "execution_count": 9,
   "metadata": {},
   "outputs": [],
   "source": [
    "# Fill nulls\n",
    "df['emotion_in_tweet_is_directed_at'].fillna('None', inplace=True)"
   ]
  },
  {
   "cell_type": "code",
   "execution_count": 10,
   "metadata": {},
   "outputs": [
    {
     "data": {
      "text/plain": [
       "None                               5802\n",
       "iPad                                946\n",
       "Apple                               661\n",
       "iPad or iPhone App                  470\n",
       "Google                              430\n",
       "iPhone                              297\n",
       "Other Google product or service     293\n",
       "Android App                          81\n",
       "Android                              78\n",
       "Other Apple product or service       35\n",
       "Name: emotion_in_tweet_is_directed_at, dtype: int64"
      ]
     },
     "execution_count": 10,
     "metadata": {},
     "output_type": "execute_result"
    }
   ],
   "source": [
    "# Recheck\n",
    "df['emotion_in_tweet_is_directed_at'].value_counts()"
   ]
  },
  {
   "cell_type": "code",
   "execution_count": 11,
   "metadata": {},
   "outputs": [],
   "source": [
    "df['brand_directed_at'] = df['emotion_in_tweet_is_directed_at'].map({'iPad': 'Apple',\n",
    "                                                                    'Apple':'Apple',\n",
    "                                                                    'iPad or iPhone App': 'Apple',\n",
    "                                                                    'Google': 'Google', \n",
    "                                                                    'iPhone':'Apple',\n",
    "                                                                    'Other Google product or service': 'Google',\n",
    "                                                                    'Android App': 'Google', \n",
    "                                                                    'Android': 'Google',\n",
    "                                                                    'Other Apple product or service':'Apple',\n",
    "                                                                    'None':'None'})"
   ]
  },
  {
   "cell_type": "code",
   "execution_count": 12,
   "metadata": {},
   "outputs": [],
   "source": [
    "df['num_brand_directed_at'] = df['brand_directed_at'].map({'None': 0,\n",
    "                                                           'Apple': 1,\n",
    "                                                           'Google': 2})"
   ]
  },
  {
   "cell_type": "code",
   "execution_count": 13,
   "metadata": {},
   "outputs": [],
   "source": [
    "df['type_directed_at'] = df['emotion_in_tweet_is_directed_at'].map({'iPad': 'Product',\n",
    "                                                                    'Apple':'Brand',\n",
    "                                                                    'iPad or iPhone App': 'App',\n",
    "                                                                    'Google': 'Brand', \n",
    "                                                                    'iPhone':'Product',\n",
    "                                                                    'Other Google product or service': 'Service',\n",
    "                                                                    'Android App': 'App', \n",
    "                                                                    'Android': 'Product',\n",
    "                                                                    'Other Apple product or service':'Service',\n",
    "                                                                    'None':'None'})"
   ]
  },
  {
   "cell_type": "code",
   "execution_count": 14,
   "metadata": {},
   "outputs": [
    {
     "data": {
      "text/plain": [
       "None       5802\n",
       "Product    1321\n",
       "Brand      1091\n",
       "App         551\n",
       "Service     328\n",
       "Name: type_directed_at, dtype: int64"
      ]
     },
     "execution_count": 14,
     "metadata": {},
     "output_type": "execute_result"
    }
   ],
   "source": [
    "df['type_directed_at'].value_counts()"
   ]
  },
  {
   "cell_type": "code",
   "execution_count": 15,
   "metadata": {},
   "outputs": [],
   "source": [
    "df['num_type_directed_at'] = df['type_directed_at'].map({'None': 0,\n",
    "                                                         'Product': 1,\n",
    "                                                         'Brand': 2,\n",
    "                                                         'App': 3,\n",
    "                                                         'Service': 4})"
   ]
  },
  {
   "cell_type": "code",
   "execution_count": 16,
   "metadata": {},
   "outputs": [
    {
     "data": {
      "text/plain": [
       "No emotion toward brand or product    5389\n",
       "Positive emotion                      2978\n",
       "Negative emotion                       570\n",
       "I can't tell                           156\n",
       "Name: is_there_an_emotion_directed_at_a_brand_or_product, dtype: int64"
      ]
     },
     "execution_count": 16,
     "metadata": {},
     "output_type": "execute_result"
    }
   ],
   "source": [
    "# Value counts exploration\n",
    "df['is_there_an_emotion_directed_at_a_brand_or_product'].value_counts()"
   ]
  },
  {
   "cell_type": "code",
   "execution_count": 17,
   "metadata": {},
   "outputs": [],
   "source": [
    "# Filter down emotions to Neutral\n",
    "df['is_there_an_emotion_directed_at_a_brand_or_product'] = df['is_there_an_emotion_directed_at_a_brand_or_product'].map({\"No emotion toward brand or product\" : \"Neutral\",\n",
    "                                                                                                                         \"Positive emotion\": \"Positive\",\n",
    "                                                                                                                         \"Negative emotion\": \"Negative\",\n",
    "                                                                                                                         \"I can't tell\": \"Neutral\"})"
   ]
  },
  {
   "cell_type": "code",
   "execution_count": 18,
   "metadata": {
    "scrolled": true
   },
   "outputs": [
    {
     "data": {
      "text/plain": [
       "Neutral     5545\n",
       "Positive    2978\n",
       "Negative     570\n",
       "Name: is_there_an_emotion_directed_at_a_brand_or_product, dtype: int64"
      ]
     },
     "execution_count": 18,
     "metadata": {},
     "output_type": "execute_result"
    }
   ],
   "source": [
    "# 67/33 split (33% positive), class imbalacne\n",
    "df['is_there_an_emotion_directed_at_a_brand_or_product'].value_counts()"
   ]
  },
  {
   "cell_type": "code",
   "execution_count": 19,
   "metadata": {},
   "outputs": [],
   "source": [
    "# Create target; Positive only - 32%\n",
    "df['target'] = df['is_there_an_emotion_directed_at_a_brand_or_product'].map({\"Positive\": 1,\n",
    "                                                                             \"Neutral\": 0,\n",
    "                                                                             \"Negative\": 0})"
   ]
  },
  {
   "cell_type": "code",
   "execution_count": 20,
   "metadata": {},
   "outputs": [
    {
     "data": {
      "text/html": [
       "<div>\n",
       "<style scoped>\n",
       "    .dataframe tbody tr th:only-of-type {\n",
       "        vertical-align: middle;\n",
       "    }\n",
       "\n",
       "    .dataframe tbody tr th {\n",
       "        vertical-align: top;\n",
       "    }\n",
       "\n",
       "    .dataframe thead th {\n",
       "        text-align: right;\n",
       "    }\n",
       "</style>\n",
       "<table border=\"1\" class=\"dataframe\">\n",
       "  <thead>\n",
       "    <tr style=\"text-align: right;\">\n",
       "      <th></th>\n",
       "      <th>tweet_text</th>\n",
       "      <th>emotion_in_tweet_is_directed_at</th>\n",
       "      <th>is_there_an_emotion_directed_at_a_brand_or_product</th>\n",
       "      <th>brand_directed_at</th>\n",
       "      <th>num_brand_directed_at</th>\n",
       "      <th>type_directed_at</th>\n",
       "      <th>num_type_directed_at</th>\n",
       "      <th>target</th>\n",
       "    </tr>\n",
       "  </thead>\n",
       "  <tbody>\n",
       "    <tr>\n",
       "      <th>0</th>\n",
       "      <td>.@wesley83 I have a 3G iPhone. After 3 hrs twe...</td>\n",
       "      <td>iPhone</td>\n",
       "      <td>Negative</td>\n",
       "      <td>Apple</td>\n",
       "      <td>1</td>\n",
       "      <td>Product</td>\n",
       "      <td>1</td>\n",
       "      <td>0</td>\n",
       "    </tr>\n",
       "    <tr>\n",
       "      <th>1</th>\n",
       "      <td>@jessedee Know about @fludapp ? Awesome iPad/i...</td>\n",
       "      <td>iPad or iPhone App</td>\n",
       "      <td>Positive</td>\n",
       "      <td>Apple</td>\n",
       "      <td>1</td>\n",
       "      <td>App</td>\n",
       "      <td>3</td>\n",
       "      <td>1</td>\n",
       "    </tr>\n",
       "    <tr>\n",
       "      <th>2</th>\n",
       "      <td>@swonderlin Can not wait for #iPad 2 also. The...</td>\n",
       "      <td>iPad</td>\n",
       "      <td>Positive</td>\n",
       "      <td>Apple</td>\n",
       "      <td>1</td>\n",
       "      <td>Product</td>\n",
       "      <td>1</td>\n",
       "      <td>1</td>\n",
       "    </tr>\n",
       "    <tr>\n",
       "      <th>3</th>\n",
       "      <td>@sxsw I hope this year's festival isn't as cra...</td>\n",
       "      <td>iPad or iPhone App</td>\n",
       "      <td>Negative</td>\n",
       "      <td>Apple</td>\n",
       "      <td>1</td>\n",
       "      <td>App</td>\n",
       "      <td>3</td>\n",
       "      <td>0</td>\n",
       "    </tr>\n",
       "    <tr>\n",
       "      <th>4</th>\n",
       "      <td>@sxtxstate great stuff on Fri #SXSW: Marissa M...</td>\n",
       "      <td>Google</td>\n",
       "      <td>Positive</td>\n",
       "      <td>Google</td>\n",
       "      <td>2</td>\n",
       "      <td>Brand</td>\n",
       "      <td>2</td>\n",
       "      <td>1</td>\n",
       "    </tr>\n",
       "  </tbody>\n",
       "</table>\n",
       "</div>"
      ],
      "text/plain": [
       "                                          tweet_text  \\\n",
       "0  .@wesley83 I have a 3G iPhone. After 3 hrs twe...   \n",
       "1  @jessedee Know about @fludapp ? Awesome iPad/i...   \n",
       "2  @swonderlin Can not wait for #iPad 2 also. The...   \n",
       "3  @sxsw I hope this year's festival isn't as cra...   \n",
       "4  @sxtxstate great stuff on Fri #SXSW: Marissa M...   \n",
       "\n",
       "  emotion_in_tweet_is_directed_at  \\\n",
       "0                          iPhone   \n",
       "1              iPad or iPhone App   \n",
       "2                            iPad   \n",
       "3              iPad or iPhone App   \n",
       "4                          Google   \n",
       "\n",
       "  is_there_an_emotion_directed_at_a_brand_or_product brand_directed_at  \\\n",
       "0                                           Negative             Apple   \n",
       "1                                           Positive             Apple   \n",
       "2                                           Positive             Apple   \n",
       "3                                           Negative             Apple   \n",
       "4                                           Positive            Google   \n",
       "\n",
       "   num_brand_directed_at type_directed_at  num_type_directed_at  target  \n",
       "0                      1          Product                     1       0  \n",
       "1                      1              App                     3       1  \n",
       "2                      1          Product                     1       1  \n",
       "3                      1              App                     3       0  \n",
       "4                      2            Brand                     2       1  "
      ]
     },
     "execution_count": 20,
     "metadata": {},
     "output_type": "execute_result"
    }
   ],
   "source": [
    "# Check work\n",
    "df.head()"
   ]
  },
  {
   "cell_type": "code",
   "execution_count": 21,
   "metadata": {},
   "outputs": [
    {
     "data": {
      "text/plain": [
       "tweet_text                                            1\n",
       "emotion_in_tweet_is_directed_at                       0\n",
       "is_there_an_emotion_directed_at_a_brand_or_product    0\n",
       "brand_directed_at                                     0\n",
       "num_brand_directed_at                                 0\n",
       "type_directed_at                                      0\n",
       "num_type_directed_at                                  0\n",
       "target                                                0\n",
       "dtype: int64"
      ]
     },
     "execution_count": 21,
     "metadata": {},
     "output_type": "execute_result"
    }
   ],
   "source": [
    "df.isnull().sum()"
   ]
  },
  {
   "cell_type": "code",
   "execution_count": 22,
   "metadata": {},
   "outputs": [
    {
     "data": {
      "text/html": [
       "<div>\n",
       "<style scoped>\n",
       "    .dataframe tbody tr th:only-of-type {\n",
       "        vertical-align: middle;\n",
       "    }\n",
       "\n",
       "    .dataframe tbody tr th {\n",
       "        vertical-align: top;\n",
       "    }\n",
       "\n",
       "    .dataframe thead th {\n",
       "        text-align: right;\n",
       "    }\n",
       "</style>\n",
       "<table border=\"1\" class=\"dataframe\">\n",
       "  <thead>\n",
       "    <tr style=\"text-align: right;\">\n",
       "      <th></th>\n",
       "      <th>tweet_text</th>\n",
       "      <th>emotion_in_tweet_is_directed_at</th>\n",
       "      <th>is_there_an_emotion_directed_at_a_brand_or_product</th>\n",
       "      <th>brand_directed_at</th>\n",
       "      <th>num_brand_directed_at</th>\n",
       "      <th>type_directed_at</th>\n",
       "      <th>num_type_directed_at</th>\n",
       "      <th>target</th>\n",
       "    </tr>\n",
       "  </thead>\n",
       "  <tbody>\n",
       "    <tr>\n",
       "      <th>6</th>\n",
       "      <td>NaN</td>\n",
       "      <td>None</td>\n",
       "      <td>Neutral</td>\n",
       "      <td>None</td>\n",
       "      <td>0</td>\n",
       "      <td>None</td>\n",
       "      <td>0</td>\n",
       "      <td>0</td>\n",
       "    </tr>\n",
       "  </tbody>\n",
       "</table>\n",
       "</div>"
      ],
      "text/plain": [
       "  tweet_text emotion_in_tweet_is_directed_at  \\\n",
       "6        NaN                            None   \n",
       "\n",
       "  is_there_an_emotion_directed_at_a_brand_or_product brand_directed_at  \\\n",
       "6                                            Neutral              None   \n",
       "\n",
       "   num_brand_directed_at type_directed_at  num_type_directed_at  target  \n",
       "6                      0             None                     0       0  "
      ]
     },
     "execution_count": 22,
     "metadata": {},
     "output_type": "execute_result"
    }
   ],
   "source": [
    "df[df['tweet_text'].isnull()]"
   ]
  },
  {
   "cell_type": "code",
   "execution_count": 23,
   "metadata": {},
   "outputs": [],
   "source": [
    "# drop row 6\n",
    "df.drop(labels=6, axis=0, inplace=True)"
   ]
  },
  {
   "cell_type": "code",
   "execution_count": 24,
   "metadata": {},
   "outputs": [],
   "source": [
    "# reset index post drop\n",
    "df = df.reset_index(drop=True)"
   ]
  },
  {
   "cell_type": "code",
   "execution_count": 25,
   "metadata": {
    "scrolled": true
   },
   "outputs": [
    {
     "name": "stdout",
     "output_type": "stream",
     "text": [
      "<class 'pandas.core.frame.DataFrame'>\n",
      "RangeIndex: 9092 entries, 0 to 9091\n",
      "Data columns (total 8 columns):\n",
      "tweet_text                                            9092 non-null object\n",
      "emotion_in_tweet_is_directed_at                       9092 non-null object\n",
      "is_there_an_emotion_directed_at_a_brand_or_product    9092 non-null object\n",
      "brand_directed_at                                     9092 non-null object\n",
      "num_brand_directed_at                                 9092 non-null int64\n",
      "type_directed_at                                      9092 non-null object\n",
      "num_type_directed_at                                  9092 non-null int64\n",
      "target                                                9092 non-null int64\n",
      "dtypes: int64(3), object(5)\n",
      "memory usage: 568.4+ KB\n"
     ]
    }
   ],
   "source": [
    "df.info()"
   ]
  },
  {
   "cell_type": "markdown",
   "metadata": {},
   "source": [
    "#### Processing\n",
    "\n",
    "- remove URLs, Mentions, HTML, punctuation\n",
    "- lower case"
   ]
  },
  {
   "cell_type": "code",
   "execution_count": 26,
   "metadata": {},
   "outputs": [],
   "source": [
    "# Tweet preprocessor test\n",
    "# Source: https://towardsdatascience.com/basic-tweet-preprocessing-in-python-efd8360d529e\n",
    "import preprocessor as p"
   ]
  },
  {
   "cell_type": "code",
   "execution_count": 27,
   "metadata": {},
   "outputs": [
    {
     "data": {
      "text/plain": [
       "'. I have a G iPhone. After hrs tweeting at , it was dead! I need to upgrade. Plugin stations at .'"
      ]
     },
     "execution_count": 27,
     "metadata": {},
     "output_type": "execute_result"
    }
   ],
   "source": [
    "p.clean(df['tweet_text'][0])"
   ]
  },
  {
   "cell_type": "code",
   "execution_count": 28,
   "metadata": {},
   "outputs": [],
   "source": [
    "# Create new column for cleaned text - remove URLs, Mentions\n",
    "df['clean_text'] = df['tweet_text'].apply(lambda x: p.clean(x))\n",
    "\n",
    "# Lower case\n",
    "df['clean_text'] = df['clean_text'].str.lower()"
   ]
  },
  {
   "cell_type": "code",
   "execution_count": 29,
   "metadata": {
    "scrolled": true
   },
   "outputs": [
    {
     "data": {
      "text/html": [
       "<div>\n",
       "<style scoped>\n",
       "    .dataframe tbody tr th:only-of-type {\n",
       "        vertical-align: middle;\n",
       "    }\n",
       "\n",
       "    .dataframe tbody tr th {\n",
       "        vertical-align: top;\n",
       "    }\n",
       "\n",
       "    .dataframe thead th {\n",
       "        text-align: right;\n",
       "    }\n",
       "</style>\n",
       "<table border=\"1\" class=\"dataframe\">\n",
       "  <thead>\n",
       "    <tr style=\"text-align: right;\">\n",
       "      <th></th>\n",
       "      <th>tweet_text</th>\n",
       "      <th>emotion_in_tweet_is_directed_at</th>\n",
       "      <th>is_there_an_emotion_directed_at_a_brand_or_product</th>\n",
       "      <th>brand_directed_at</th>\n",
       "      <th>num_brand_directed_at</th>\n",
       "      <th>type_directed_at</th>\n",
       "      <th>num_type_directed_at</th>\n",
       "      <th>target</th>\n",
       "      <th>clean_text</th>\n",
       "    </tr>\n",
       "  </thead>\n",
       "  <tbody>\n",
       "    <tr>\n",
       "      <th>0</th>\n",
       "      <td>.@wesley83 I have a 3G iPhone. After 3 hrs twe...</td>\n",
       "      <td>iPhone</td>\n",
       "      <td>Negative</td>\n",
       "      <td>Apple</td>\n",
       "      <td>1</td>\n",
       "      <td>Product</td>\n",
       "      <td>1</td>\n",
       "      <td>0</td>\n",
       "      <td>. i have a g iphone. after hrs tweeting at , i...</td>\n",
       "    </tr>\n",
       "    <tr>\n",
       "      <th>1</th>\n",
       "      <td>@jessedee Know about @fludapp ? Awesome iPad/i...</td>\n",
       "      <td>iPad or iPhone App</td>\n",
       "      <td>Positive</td>\n",
       "      <td>Apple</td>\n",
       "      <td>1</td>\n",
       "      <td>App</td>\n",
       "      <td>3</td>\n",
       "      <td>1</td>\n",
       "      <td>know about ? awesome ipad/iphone app that you'...</td>\n",
       "    </tr>\n",
       "    <tr>\n",
       "      <th>2</th>\n",
       "      <td>@swonderlin Can not wait for #iPad 2 also. The...</td>\n",
       "      <td>iPad</td>\n",
       "      <td>Positive</td>\n",
       "      <td>Apple</td>\n",
       "      <td>1</td>\n",
       "      <td>Product</td>\n",
       "      <td>1</td>\n",
       "      <td>1</td>\n",
       "      <td>can not wait for also. they should sale them d...</td>\n",
       "    </tr>\n",
       "    <tr>\n",
       "      <th>3</th>\n",
       "      <td>@sxsw I hope this year's festival isn't as cra...</td>\n",
       "      <td>iPad or iPhone App</td>\n",
       "      <td>Negative</td>\n",
       "      <td>Apple</td>\n",
       "      <td>1</td>\n",
       "      <td>App</td>\n",
       "      <td>3</td>\n",
       "      <td>0</td>\n",
       "      <td>i hope this year's festival isn't as crashy as...</td>\n",
       "    </tr>\n",
       "    <tr>\n",
       "      <th>4</th>\n",
       "      <td>@sxtxstate great stuff on Fri #SXSW: Marissa M...</td>\n",
       "      <td>Google</td>\n",
       "      <td>Positive</td>\n",
       "      <td>Google</td>\n",
       "      <td>2</td>\n",
       "      <td>Brand</td>\n",
       "      <td>2</td>\n",
       "      <td>1</td>\n",
       "      <td>great stuff on fri : marissa mayer (google), t...</td>\n",
       "    </tr>\n",
       "  </tbody>\n",
       "</table>\n",
       "</div>"
      ],
      "text/plain": [
       "                                          tweet_text  \\\n",
       "0  .@wesley83 I have a 3G iPhone. After 3 hrs twe...   \n",
       "1  @jessedee Know about @fludapp ? Awesome iPad/i...   \n",
       "2  @swonderlin Can not wait for #iPad 2 also. The...   \n",
       "3  @sxsw I hope this year's festival isn't as cra...   \n",
       "4  @sxtxstate great stuff on Fri #SXSW: Marissa M...   \n",
       "\n",
       "  emotion_in_tweet_is_directed_at  \\\n",
       "0                          iPhone   \n",
       "1              iPad or iPhone App   \n",
       "2                            iPad   \n",
       "3              iPad or iPhone App   \n",
       "4                          Google   \n",
       "\n",
       "  is_there_an_emotion_directed_at_a_brand_or_product brand_directed_at  \\\n",
       "0                                           Negative             Apple   \n",
       "1                                           Positive             Apple   \n",
       "2                                           Positive             Apple   \n",
       "3                                           Negative             Apple   \n",
       "4                                           Positive            Google   \n",
       "\n",
       "   num_brand_directed_at type_directed_at  num_type_directed_at  target  \\\n",
       "0                      1          Product                     1       0   \n",
       "1                      1              App                     3       1   \n",
       "2                      1          Product                     1       1   \n",
       "3                      1              App                     3       0   \n",
       "4                      2            Brand                     2       1   \n",
       "\n",
       "                                          clean_text  \n",
       "0  . i have a g iphone. after hrs tweeting at , i...  \n",
       "1  know about ? awesome ipad/iphone app that you'...  \n",
       "2  can not wait for also. they should sale them d...  \n",
       "3  i hope this year's festival isn't as crashy as...  \n",
       "4  great stuff on fri : marissa mayer (google), t...  "
      ]
     },
     "execution_count": 29,
     "metadata": {},
     "output_type": "execute_result"
    }
   ],
   "source": [
    "# Preview new \n",
    "df.head()"
   ]
  },
  {
   "cell_type": "code",
   "execution_count": 44,
   "metadata": {},
   "outputs": [
    {
     "data": {
      "text/plain": [
       "'Some Verizon iPhone customers complained their time fell back an hour this weekend.  Of course they were the New Yorkers who attended #SXSW.'"
      ]
     },
     "execution_count": 44,
     "metadata": {},
     "output_type": "execute_result"
    }
   ],
   "source": [
    "# Pull tweet with HTML &quot;\n",
    "df['tweet_text'][9090]"
   ]
  },
  {
   "cell_type": "code",
   "execution_count": 31,
   "metadata": {},
   "outputs": [
    {
     "data": {
      "text/plain": [
       "'some verizon iphone customers complained their time fell back an hour this weekend. of course they were the new yorkers who attended .'"
      ]
     },
     "execution_count": 31,
     "metadata": {},
     "output_type": "execute_result"
    }
   ],
   "source": [
    "# Test cleaning\n",
    "html_ent_clean = re.compile('&.*?;')\n",
    "re.sub(html_ent_clean, '', df['clean_text'][9090])"
   ]
  },
  {
   "cell_type": "code",
   "execution_count": 32,
   "metadata": {},
   "outputs": [],
   "source": [
    "# Clean 'clean_text' column of HTML\n",
    "df['clean_text'] = df['clean_text'].apply(lambda x: re.sub(html_ent_clean, '',x))"
   ]
  },
  {
   "cell_type": "code",
   "execution_count": 33,
   "metadata": {},
   "outputs": [
    {
     "data": {
      "text/plain": [
       "0"
      ]
     },
     "execution_count": 33,
     "metadata": {},
     "output_type": "execute_result"
    }
   ],
   "source": [
    "# Check work\n",
    "len(df[df['clean_text'].str.contains(html_ent_clean) == True])"
   ]
  },
  {
   "cell_type": "code",
   "execution_count": 34,
   "metadata": {},
   "outputs": [],
   "source": [
    "# Remove punctuation\n",
    "df['clean_text'] = df['clean_text'].apply(lambda x: re.sub(r'[^\\w\\s]', '', (x)))"
   ]
  },
  {
   "cell_type": "code",
   "execution_count": 35,
   "metadata": {},
   "outputs": [
    {
     "data": {
      "text/plain": [
       "'some verizon iphone customers complained their time fell back an hour this weekend of course they were the new yorkers who attended '"
      ]
     },
     "execution_count": 35,
     "metadata": {},
     "output_type": "execute_result"
    }
   ],
   "source": [
    "# Check work \n",
    "df['clean_text'][9090]"
   ]
  },
  {
   "cell_type": "markdown",
   "metadata": {},
   "source": [
    "#### Remove stopwords"
   ]
  },
  {
   "cell_type": "code",
   "execution_count": 36,
   "metadata": {},
   "outputs": [],
   "source": [
    "twitter_ops = ['mention', 'rt', 'link', 'via'] # Twitter operational words not valueable, remove\n",
    "stop_words = stopwords.words('english') + list(string.punctuation) + twitter_ops"
   ]
  },
  {
   "cell_type": "code",
   "execution_count": 37,
   "metadata": {},
   "outputs": [],
   "source": [
    "df['clean_text'] = df['clean_text'].apply(lambda x: ' '.join(\n",
    "    [word for word in x.split() if word.lower() not in (stop_words)]))"
   ]
  },
  {
   "cell_type": "code",
   "execution_count": 38,
   "metadata": {},
   "outputs": [
    {
     "data": {
      "text/plain": [
       "0       g iphone hrs tweeting dead need upgrade plugin...\n",
       "1       know awesome ipadiphone app youll likely appre...\n",
       "2                                          wait also sale\n",
       "3        hope years festival isnt crashy years iphone app\n",
       "4       great stuff fri marissa mayer google tim oreil...\n",
       "                              ...                        \n",
       "9087                                      ipad everywhere\n",
       "9088    wave buzz interrupt regularly scheduled geek p...\n",
       "9089    googles zeiger physician never reported potent...\n",
       "9090    verizon iphone customers complained time fell ...\n",
       "9091                    ___rt google tests checkin offers\n",
       "Name: clean_text, Length: 9092, dtype: object"
      ]
     },
     "execution_count": 38,
     "metadata": {},
     "output_type": "execute_result"
    }
   ],
   "source": [
    "df['clean_text']"
   ]
  },
  {
   "cell_type": "markdown",
   "metadata": {},
   "source": [
    "#### Tokenize"
   ]
  },
  {
   "cell_type": "code",
   "execution_count": 39,
   "metadata": {},
   "outputs": [],
   "source": [
    "# Tokenize\n",
    "pattern = \"([a-zA-Z]+(?:'[a-z]+)?)\"\n",
    "\n",
    "df['clean_text'] = df['clean_text'].apply(lambda x: nltk.regexp_tokenize(x, pattern))"
   ]
  },
  {
   "cell_type": "code",
   "execution_count": 40,
   "metadata": {
    "scrolled": false
   },
   "outputs": [
    {
     "data": {
      "text/plain": [
       "0       [g, iphone, hrs, tweeting, dead, need, upgrade...\n",
       "1       [know, awesome, ipadiphone, app, youll, likely...\n",
       "2                                      [wait, also, sale]\n",
       "3       [hope, years, festival, isnt, crashy, years, i...\n",
       "4       [great, stuff, fri, marissa, mayer, google, ti...\n",
       "                              ...                        \n",
       "9087                                   [ipad, everywhere]\n",
       "9088    [wave, buzz, interrupt, regularly, scheduled, ...\n",
       "9089    [googles, zeiger, physician, never, reported, ...\n",
       "9090    [verizon, iphone, customers, complained, time,...\n",
       "9091                 [rt, google, tests, checkin, offers]\n",
       "Name: clean_text, Length: 9092, dtype: object"
      ]
     },
     "execution_count": 40,
     "metadata": {},
     "output_type": "execute_result"
    }
   ],
   "source": [
    "# Preview\n",
    "df['clean_text']"
   ]
  },
  {
   "cell_type": "markdown",
   "metadata": {},
   "source": [
    "#### Lemmatization"
   ]
  },
  {
   "cell_type": "code",
   "execution_count": null,
   "metadata": {},
   "outputs": [],
   "source": [
    "def lemmatize_text(text):\n",
    "    lemmatizer = WordNetLemmatizer()\n",
    "    return [lemmatizer.lemmatize(w) for w in text]\n",
    "\n",
    "df['clean_text'] = df['clean_text'].apply(lemmatize_text)\n",
    "# Source: https://stackoverflow.com/questions/59567357/lemmatize-tokenised-column-in-pandas"
   ]
  },
  {
   "cell_type": "code",
   "execution_count": null,
   "metadata": {},
   "outputs": [],
   "source": [
    "df['clean_text']"
   ]
  },
  {
   "cell_type": "code",
   "execution_count": null,
   "metadata": {},
   "outputs": [],
   "source": [
    "# Rejoin\n",
    "df['clean_text'] = df['clean_text'].map(lambda x: ' '.join(x))"
   ]
  },
  {
   "cell_type": "code",
   "execution_count": 217,
   "metadata": {
    "scrolled": true
   },
   "outputs": [
    {
     "name": "stdout",
     "output_type": "stream",
     "text": [
      "<class 'pandas.core.frame.DataFrame'>\n",
      "RangeIndex: 9092 entries, 0 to 9091\n",
      "Data columns (total 9 columns):\n",
      "tweet_text                                            9092 non-null object\n",
      "emotion_in_tweet_is_directed_at                       9092 non-null object\n",
      "is_there_an_emotion_directed_at_a_brand_or_product    9092 non-null object\n",
      "brand_directed_at                                     9092 non-null object\n",
      "num_brand_directed_at                                 9092 non-null int64\n",
      "type_directed_at                                      9092 non-null object\n",
      "num_type_directed_at                                  9092 non-null int64\n",
      "target                                                9092 non-null int64\n",
      "clean_text                                            9092 non-null object\n",
      "dtypes: int64(3), object(6)\n",
      "memory usage: 639.4+ KB\n"
     ]
    }
   ],
   "source": [
    "df.info()"
   ]
  },
  {
   "cell_type": "code",
   "execution_count": 218,
   "metadata": {},
   "outputs": [
    {
     "data": {
      "text/plain": [
       "8.519247690277167"
      ]
     },
     "execution_count": 218,
     "metadata": {},
     "output_type": "execute_result"
    }
   ],
   "source": [
    "# Average number of words in clean_text\n",
    "num_words = df.clean_text.apply(lambda x: len(x.split()))\n",
    "num_words.mean()"
   ]
  },
  {
   "cell_type": "code",
   "execution_count": 219,
   "metadata": {},
   "outputs": [
    {
     "data": {
      "text/plain": [
       "994.7483588621444"
      ]
     },
     "execution_count": 219,
     "metadata": {},
     "output_type": "execute_result"
    }
   ],
   "source": [
    "# samples/words-per-sample ratio\n",
    "9092/9.14\n",
    "# <1500 This means that we will create a MLP model.\n",
    "# Source: https://developers.google.com/machine-learning/guides/text-classification/step-2-5"
   ]
  },
  {
   "cell_type": "markdown",
   "metadata": {},
   "source": [
    "### Baseline Model -  tweet text only"
   ]
  },
  {
   "cell_type": "code",
   "execution_count": 47,
   "metadata": {},
   "outputs": [],
   "source": [
    "# Grabbing our inputs and target\n",
    "X = df['clean_text']\n",
    "y = df['target']\n",
    "\n",
    "# Train test split\n",
    "X_train, X_test, y_train, y_test = train_test_split(X, y, random_state=42)"
   ]
  },
  {
   "cell_type": "code",
   "execution_count": 48,
   "metadata": {},
   "outputs": [
    {
     "data": {
      "text/plain": [
       "(6819,)"
      ]
     },
     "execution_count": 48,
     "metadata": {},
     "output_type": "execute_result"
    }
   ],
   "source": [
    "X_train.shape"
   ]
  },
  {
   "cell_type": "code",
   "execution_count": 49,
   "metadata": {},
   "outputs": [],
   "source": [
    "# LB\n",
    "def classify_vectorized_text(vectorizer, classifier, X_train, X_test, y_train, y_test):\n",
    "    '''\n",
    "    Fit and transform text data using the provided vectorizer, then fit and \n",
    "    predict with the provided classifier, in order to see the resulting\n",
    "    accuracy score and confusion matrix\n",
    "    For the Xtrain, Xtest, ytrain, ytest, expect the output of an\n",
    "    sklearn train/test split\n",
    "    -\n",
    "    Inputs:\n",
    "    vectorizer: an instantiated sklearn vectorizer\n",
    "    classifier: an instantiated sklearn classifier\n",
    "    X_train: training input data\n",
    "    X_test: testing input data\n",
    "    y_train: training true result\n",
    "    y_test: testing true result\n",
    "    -\n",
    "    Outputs: \n",
    "    train_preds: predicted results for the train set\n",
    "    test_preds: predicted results for the test set\n",
    "    '''\n",
    "\n",
    "    X_train_transformed = vectorizer.fit_transform(X_train) #learning corpus of training data (holistic)\n",
    "    X_test_transformed = vectorizer.transform(X_test) # new words only in test set won't impact\n",
    "\n",
    "    classifier.fit(X_train_transformed, y_train)\n",
    "\n",
    "    train_preds = classifier.predict(X_train_transformed)\n",
    "    test_preds = classifier.predict(X_test_transformed)\n",
    "\n",
    "    print(f'Accuracy:{accuracy_score(y_test, test_preds)}')\n",
    "    print(f'Precision:{precision_score(y_test, test_preds)}')\n",
    "    print(f'F1 Score:{f1_score(y_test, test_preds)}')\n",
    "    plot_confusion_matrix(classifier, X_test_transformed, y_test,\n",
    "                          values_format=\".4g\")  # to make numbers readable\n",
    "    plt.show()\n",
    "\n",
    "    return(train_preds, test_preds)"
   ]
  },
  {
   "cell_type": "markdown",
   "metadata": {},
   "source": [
    "#### NB + CountVec"
   ]
  },
  {
   "cell_type": "code",
   "execution_count": 50,
   "metadata": {},
   "outputs": [],
   "source": [
    "# Instantiating a count vectorizer\n",
    "countvec = CountVectorizer()"
   ]
  },
  {
   "cell_type": "code",
   "execution_count": 51,
   "metadata": {
    "scrolled": true
   },
   "outputs": [
    {
     "name": "stdout",
     "output_type": "stream",
     "text": [
      "Accuracy:0.7069951605807303\n",
      "Precision:0.5766192733017378\n",
      "F1 Score:0.5229226361031519\n"
     ]
    },
    {
     "data": {
      "image/png": "[encoded data removed]",
      "text/plain": [
       "<Figure size 432x288 with 2 Axes>"
      ]
     },
     "metadata": {
      "needs_background": "light"
     },
     "output_type": "display_data"
    },
    {
     "data": {
      "text/plain": [
       "(array([0, 1, 1, ..., 1, 1, 0]), array([0, 0, 1, ..., 1, 0, 0]))"
      ]
     },
     "execution_count": 51,
     "metadata": {},
     "output_type": "execute_result"
    }
   ],
   "source": [
    "# Trying Naive Bayes\n",
    "nb = MultinomialNB()\n",
    "\n",
    "classify_vectorized_text(countvec, nb, X_train, X_test, y_train, y_test)\n",
    "#0.58 precision score"
   ]
  },
  {
   "cell_type": "markdown",
   "metadata": {},
   "source": [
    "#### NB + TF-IDF"
   ]
  },
  {
   "cell_type": "code",
   "execution_count": 52,
   "metadata": {},
   "outputs": [],
   "source": [
    "# Instantiating the TF-IDF vectorizer\n",
    "tfidf = TfidfVectorizer(max_df = .95, # removes words that appear in more than 95% of docs\n",
    "                        min_df = 2, # removes words that appear 2 or fewer times\n",
    "                        use_idf=True)\n",
    "\n",
    "# Training on the train set, then transforming the train set\n",
    "tfidf_train = tfidf.fit_transform(X_train)\n",
    "# Transforming the test set\n",
    "tfidf_test = tfidf.transform(X_test)"
   ]
  },
  {
   "cell_type": "code",
   "execution_count": 53,
   "metadata": {},
   "outputs": [
    {
     "name": "stdout",
     "output_type": "stream",
     "text": [
      "Accuracy:0.7109546854377474\n",
      "Precision:0.6977611940298507\n",
      "F1 Score:0.3627546071774976\n"
     ]
    },
    {
     "data": {
      "image/png": "[encoded data removed]",
      "text/plain": [
       "<Figure size 432x288 with 2 Axes>"
      ]
     },
     "metadata": {
      "needs_background": "light"
     },
     "output_type": "display_data"
    },
    {
     "data": {
      "text/plain": [
       "(array([0, 0, 0, ..., 0, 1, 0]), array([0, 0, 1, ..., 0, 0, 0]))"
      ]
     },
     "execution_count": 53,
     "metadata": {},
     "output_type": "execute_result"
    }
   ],
   "source": [
    "# More Naive Bayes, but with tfidf\n",
    "nb_tfidf = MultinomialNB()\n",
    "\n",
    "classify_vectorized_text(tfidf, nb_tfidf, X_train, X_test, y_train, y_test)\n",
    "# Precision up by 0.12 - significant\n",
    "# Accuracy also higher\n",
    "# F1 down by .2 meaning recall is meaningfully lower"
   ]
  },
  {
   "cell_type": "markdown",
   "metadata": {},
   "source": [
    "#### RF + TF-IDF"
   ]
  },
  {
   "cell_type": "code",
   "execution_count": 54,
   "metadata": {
    "scrolled": true
   },
   "outputs": [
    {
     "name": "stdout",
     "output_type": "stream",
     "text": [
      "Accuracy:0.7175538935327761\n",
      "Precision:0.598694942903752\n",
      "F1 Score:0.5334302325581396\n"
     ]
    },
    {
     "data": {
      "image/png": "[encoded data removed]",
      "text/plain": [
       "<Figure size 432x288 with 2 Axes>"
      ]
     },
     "metadata": {
      "needs_background": "light"
     },
     "output_type": "display_data"
    },
    {
     "data": {
      "text/plain": [
       "(array([0, 0, 1, ..., 1, 1, 0]), array([0, 0, 0, ..., 1, 0, 1]))"
      ]
     },
     "execution_count": 54,
     "metadata": {},
     "output_type": "execute_result"
    }
   ],
   "source": [
    "# Try RandomForest with class balance (not used in previous models)\n",
    "rfc = RandomForestClassifier(class_weight='balanced')\n",
    "\n",
    "classify_vectorized_text(tfidf, rfc, X_train, X_test, y_train, y_test)\n",
    "# Precision lower"
   ]
  },
  {
   "cell_type": "markdown",
   "metadata": {},
   "source": [
    "## Model with additional features\n",
    "- Also possible to add in feat eng from notebook 1 - replies, rts, mentions, etc\n",
    "- Apple/Google feat\n",
    "- tuning/gridsearch/boosting RF if that is model of choice\n",
    "\n",
    "Further ideas:\n",
    "- explore pre-trained embeddings (sentiments) \n",
    "- clustering (grouping tweets)"
   ]
  },
  {
   "cell_type": "code",
   "execution_count": 55,
   "metadata": {},
   "outputs": [
    {
     "data": {
      "text/html": [
       "<div>\n",
       "<style scoped>\n",
       "    .dataframe tbody tr th:only-of-type {\n",
       "        vertical-align: middle;\n",
       "    }\n",
       "\n",
       "    .dataframe tbody tr th {\n",
       "        vertical-align: top;\n",
       "    }\n",
       "\n",
       "    .dataframe thead th {\n",
       "        text-align: right;\n",
       "    }\n",
       "</style>\n",
       "<table border=\"1\" class=\"dataframe\">\n",
       "  <thead>\n",
       "    <tr style=\"text-align: right;\">\n",
       "      <th></th>\n",
       "      <th>tweet_text</th>\n",
       "      <th>emotion_in_tweet_is_directed_at</th>\n",
       "      <th>is_there_an_emotion_directed_at_a_brand_or_product</th>\n",
       "      <th>brand_directed_at</th>\n",
       "      <th>num_brand_directed_at</th>\n",
       "      <th>type_directed_at</th>\n",
       "      <th>num_type_directed_at</th>\n",
       "      <th>target</th>\n",
       "      <th>clean_text</th>\n",
       "    </tr>\n",
       "  </thead>\n",
       "  <tbody>\n",
       "    <tr>\n",
       "      <th>0</th>\n",
       "      <td>.@wesley83 I have a 3G iPhone. After 3 hrs twe...</td>\n",
       "      <td>iPhone</td>\n",
       "      <td>Negative</td>\n",
       "      <td>Apple</td>\n",
       "      <td>1</td>\n",
       "      <td>Product</td>\n",
       "      <td>1</td>\n",
       "      <td>0</td>\n",
       "      <td>g iphone hr tweeting dead need upgrade plugin ...</td>\n",
       "    </tr>\n",
       "    <tr>\n",
       "      <th>1</th>\n",
       "      <td>@jessedee Know about @fludapp ? Awesome iPad/i...</td>\n",
       "      <td>iPad or iPhone App</td>\n",
       "      <td>Positive</td>\n",
       "      <td>Apple</td>\n",
       "      <td>1</td>\n",
       "      <td>App</td>\n",
       "      <td>3</td>\n",
       "      <td>1</td>\n",
       "      <td>know awesome ipadiphone app youll likely appre...</td>\n",
       "    </tr>\n",
       "    <tr>\n",
       "      <th>2</th>\n",
       "      <td>@swonderlin Can not wait for #iPad 2 also. The...</td>\n",
       "      <td>iPad</td>\n",
       "      <td>Positive</td>\n",
       "      <td>Apple</td>\n",
       "      <td>1</td>\n",
       "      <td>Product</td>\n",
       "      <td>1</td>\n",
       "      <td>1</td>\n",
       "      <td>wait also sale</td>\n",
       "    </tr>\n",
       "    <tr>\n",
       "      <th>3</th>\n",
       "      <td>@sxsw I hope this year's festival isn't as cra...</td>\n",
       "      <td>iPad or iPhone App</td>\n",
       "      <td>Negative</td>\n",
       "      <td>Apple</td>\n",
       "      <td>1</td>\n",
       "      <td>App</td>\n",
       "      <td>3</td>\n",
       "      <td>0</td>\n",
       "      <td>hope year festival isnt crashy year iphone app</td>\n",
       "    </tr>\n",
       "    <tr>\n",
       "      <th>4</th>\n",
       "      <td>@sxtxstate great stuff on Fri #SXSW: Marissa M...</td>\n",
       "      <td>Google</td>\n",
       "      <td>Positive</td>\n",
       "      <td>Google</td>\n",
       "      <td>2</td>\n",
       "      <td>Brand</td>\n",
       "      <td>2</td>\n",
       "      <td>1</td>\n",
       "      <td>great stuff fri marissa mayer google tim oreil...</td>\n",
       "    </tr>\n",
       "  </tbody>\n",
       "</table>\n",
       "</div>"
      ],
      "text/plain": [
       "                                          tweet_text  \\\n",
       "0  .@wesley83 I have a 3G iPhone. After 3 hrs twe...   \n",
       "1  @jessedee Know about @fludapp ? Awesome iPad/i...   \n",
       "2  @swonderlin Can not wait for #iPad 2 also. The...   \n",
       "3  @sxsw I hope this year's festival isn't as cra...   \n",
       "4  @sxtxstate great stuff on Fri #SXSW: Marissa M...   \n",
       "\n",
       "  emotion_in_tweet_is_directed_at  \\\n",
       "0                          iPhone   \n",
       "1              iPad or iPhone App   \n",
       "2                            iPad   \n",
       "3              iPad or iPhone App   \n",
       "4                          Google   \n",
       "\n",
       "  is_there_an_emotion_directed_at_a_brand_or_product brand_directed_at  \\\n",
       "0                                           Negative             Apple   \n",
       "1                                           Positive             Apple   \n",
       "2                                           Positive             Apple   \n",
       "3                                           Negative             Apple   \n",
       "4                                           Positive            Google   \n",
       "\n",
       "   num_brand_directed_at type_directed_at  num_type_directed_at  target  \\\n",
       "0                      1          Product                     1       0   \n",
       "1                      1              App                     3       1   \n",
       "2                      1          Product                     1       1   \n",
       "3                      1              App                     3       0   \n",
       "4                      2            Brand                     2       1   \n",
       "\n",
       "                                          clean_text  \n",
       "0  g iphone hr tweeting dead need upgrade plugin ...  \n",
       "1  know awesome ipadiphone app youll likely appre...  \n",
       "2                                     wait also sale  \n",
       "3     hope year festival isnt crashy year iphone app  \n",
       "4  great stuff fri marissa mayer google tim oreil...  "
      ]
     },
     "execution_count": 55,
     "metadata": {},
     "output_type": "execute_result"
    }
   ],
   "source": [
    "df.head()"
   ]
  },
  {
   "cell_type": "markdown",
   "metadata": {},
   "source": [
    "### Model 2 set up"
   ]
  },
  {
   "cell_type": "code",
   "execution_count": 56,
   "metadata": {},
   "outputs": [
    {
     "data": {
      "text/plain": [
       "Index(['tweet_text', 'emotion_in_tweet_is_directed_at',\n",
       "       'is_there_an_emotion_directed_at_a_brand_or_product',\n",
       "       'brand_directed_at', 'num_brand_directed_at', 'type_directed_at',\n",
       "       'num_type_directed_at', 'target', 'clean_text'],\n",
       "      dtype='object')"
      ]
     },
     "execution_count": 56,
     "metadata": {},
     "output_type": "execute_result"
    }
   ],
   "source": [
    "df.columns"
   ]
  },
  {
   "cell_type": "code",
   "execution_count": 57,
   "metadata": {},
   "outputs": [
    {
     "data": {
      "text/plain": [
       "(9092, 9)"
      ]
     },
     "execution_count": 57,
     "metadata": {},
     "output_type": "execute_result"
    }
   ],
   "source": [
    "df.shape"
   ]
  },
  {
   "cell_type": "code",
   "execution_count": 58,
   "metadata": {},
   "outputs": [
    {
     "data": {
      "text/plain": [
       "tweet_text                                            0\n",
       "emotion_in_tweet_is_directed_at                       0\n",
       "is_there_an_emotion_directed_at_a_brand_or_product    0\n",
       "brand_directed_at                                     0\n",
       "num_brand_directed_at                                 0\n",
       "type_directed_at                                      0\n",
       "num_type_directed_at                                  0\n",
       "target                                                0\n",
       "clean_text                                            0\n",
       "dtype: int64"
      ]
     },
     "execution_count": 58,
     "metadata": {},
     "output_type": "execute_result"
    }
   ],
   "source": [
    "df.isna().sum()"
   ]
  },
  {
   "cell_type": "code",
   "execution_count": 59,
   "metadata": {},
   "outputs": [],
   "source": [
    "# Grabbing our inputs and target\n",
    "X = df[['clean_text', 'num_brand_directed_at', 'num_type_directed_at']]\n",
    "y = df['target']\n",
    "\n",
    "# Train test split\n",
    "X_train, X_test, y_train, y_test = train_test_split(X, y, random_state=42)"
   ]
  },
  {
   "cell_type": "markdown",
   "metadata": {},
   "source": [
    "### Count Vec - Can delete this post figuring out TF-IDF version"
   ]
  },
  {
   "cell_type": "code",
   "execution_count": 60,
   "metadata": {},
   "outputs": [],
   "source": [
    "# Instantiating a count vectorizer; putting 2 just because instantiating new instance\n",
    "# no change from previous countvec\n",
    "countvec2 = CountVectorizer()"
   ]
  },
  {
   "cell_type": "code",
   "execution_count": 61,
   "metadata": {},
   "outputs": [],
   "source": [
    "X_train_transformed = countvec2.fit_transform(X_train['clean_text'])\n",
    "X_test_transformed = countvec2.transform(X_test['clean_text'])"
   ]
  },
  {
   "cell_type": "code",
   "execution_count": 62,
   "metadata": {},
   "outputs": [],
   "source": [
    "# Create X_train with appended columns\n",
    "# X_train text vectorizing\n",
    "X_train_vect_text_df = pd.DataFrame(X_train_transformed.toarray(), columns=countvec2.get_feature_names())"
   ]
  },
  {
   "cell_type": "code",
   "execution_count": 63,
   "metadata": {},
   "outputs": [
    {
     "data": {
      "text/html": [
       "<div>\n",
       "<style scoped>\n",
       "    .dataframe tbody tr th:only-of-type {\n",
       "        vertical-align: middle;\n",
       "    }\n",
       "\n",
       "    .dataframe tbody tr th {\n",
       "        vertical-align: top;\n",
       "    }\n",
       "\n",
       "    .dataframe thead th {\n",
       "        text-align: right;\n",
       "    }\n",
       "</style>\n",
       "<table border=\"1\" class=\"dataframe\">\n",
       "  <thead>\n",
       "    <tr style=\"text-align: right;\">\n",
       "      <th></th>\n",
       "      <th>aapl</th>\n",
       "      <th>aaron</th>\n",
       "      <th>ab</th>\n",
       "      <th>abandoned</th>\n",
       "      <th>abba</th>\n",
       "      <th>abc</th>\n",
       "      <th>aber</th>\n",
       "      <th>ability</th>\n",
       "      <th>able</th>\n",
       "      <th>abnormal</th>\n",
       "      <th>...</th>\n",
       "      <th>zlf</th>\n",
       "      <th>zms</th>\n",
       "      <th>zombie</th>\n",
       "      <th>zomg</th>\n",
       "      <th>zone</th>\n",
       "      <th>zoom</th>\n",
       "      <th>zuckerberg</th>\n",
       "      <th>zuckerberglink</th>\n",
       "      <th>zynga</th>\n",
       "      <th>zzzs</th>\n",
       "    </tr>\n",
       "  </thead>\n",
       "  <tbody>\n",
       "    <tr>\n",
       "      <th>0</th>\n",
       "      <td>0</td>\n",
       "      <td>0</td>\n",
       "      <td>0</td>\n",
       "      <td>0</td>\n",
       "      <td>0</td>\n",
       "      <td>0</td>\n",
       "      <td>0</td>\n",
       "      <td>0</td>\n",
       "      <td>0</td>\n",
       "      <td>0</td>\n",
       "      <td>...</td>\n",
       "      <td>0</td>\n",
       "      <td>0</td>\n",
       "      <td>0</td>\n",
       "      <td>0</td>\n",
       "      <td>0</td>\n",
       "      <td>0</td>\n",
       "      <td>0</td>\n",
       "      <td>0</td>\n",
       "      <td>0</td>\n",
       "      <td>0</td>\n",
       "    </tr>\n",
       "    <tr>\n",
       "      <th>1</th>\n",
       "      <td>0</td>\n",
       "      <td>0</td>\n",
       "      <td>0</td>\n",
       "      <td>0</td>\n",
       "      <td>0</td>\n",
       "      <td>0</td>\n",
       "      <td>0</td>\n",
       "      <td>0</td>\n",
       "      <td>0</td>\n",
       "      <td>0</td>\n",
       "      <td>...</td>\n",
       "      <td>0</td>\n",
       "      <td>0</td>\n",
       "      <td>0</td>\n",
       "      <td>0</td>\n",
       "      <td>0</td>\n",
       "      <td>0</td>\n",
       "      <td>0</td>\n",
       "      <td>0</td>\n",
       "      <td>0</td>\n",
       "      <td>0</td>\n",
       "    </tr>\n",
       "    <tr>\n",
       "      <th>2</th>\n",
       "      <td>0</td>\n",
       "      <td>0</td>\n",
       "      <td>0</td>\n",
       "      <td>0</td>\n",
       "      <td>0</td>\n",
       "      <td>0</td>\n",
       "      <td>0</td>\n",
       "      <td>0</td>\n",
       "      <td>0</td>\n",
       "      <td>0</td>\n",
       "      <td>...</td>\n",
       "      <td>0</td>\n",
       "      <td>0</td>\n",
       "      <td>0</td>\n",
       "      <td>0</td>\n",
       "      <td>0</td>\n",
       "      <td>0</td>\n",
       "      <td>0</td>\n",
       "      <td>0</td>\n",
       "      <td>0</td>\n",
       "      <td>0</td>\n",
       "    </tr>\n",
       "    <tr>\n",
       "      <th>3</th>\n",
       "      <td>0</td>\n",
       "      <td>0</td>\n",
       "      <td>0</td>\n",
       "      <td>0</td>\n",
       "      <td>0</td>\n",
       "      <td>0</td>\n",
       "      <td>0</td>\n",
       "      <td>0</td>\n",
       "      <td>0</td>\n",
       "      <td>0</td>\n",
       "      <td>...</td>\n",
       "      <td>0</td>\n",
       "      <td>0</td>\n",
       "      <td>0</td>\n",
       "      <td>0</td>\n",
       "      <td>0</td>\n",
       "      <td>0</td>\n",
       "      <td>0</td>\n",
       "      <td>0</td>\n",
       "      <td>0</td>\n",
       "      <td>0</td>\n",
       "    </tr>\n",
       "    <tr>\n",
       "      <th>4</th>\n",
       "      <td>0</td>\n",
       "      <td>0</td>\n",
       "      <td>0</td>\n",
       "      <td>0</td>\n",
       "      <td>0</td>\n",
       "      <td>0</td>\n",
       "      <td>0</td>\n",
       "      <td>0</td>\n",
       "      <td>0</td>\n",
       "      <td>0</td>\n",
       "      <td>...</td>\n",
       "      <td>0</td>\n",
       "      <td>0</td>\n",
       "      <td>0</td>\n",
       "      <td>0</td>\n",
       "      <td>0</td>\n",
       "      <td>0</td>\n",
       "      <td>0</td>\n",
       "      <td>0</td>\n",
       "      <td>0</td>\n",
       "      <td>0</td>\n",
       "    </tr>\n",
       "  </tbody>\n",
       "</table>\n",
       "<p>5 rows × 6974 columns</p>\n",
       "</div>"
      ],
      "text/plain": [
       "   aapl  aaron  ab  abandoned  abba  abc  aber  ability  able  abnormal  ...  \\\n",
       "0     0      0   0          0     0    0     0        0     0         0  ...   \n",
       "1     0      0   0          0     0    0     0        0     0         0  ...   \n",
       "2     0      0   0          0     0    0     0        0     0         0  ...   \n",
       "3     0      0   0          0     0    0     0        0     0         0  ...   \n",
       "4     0      0   0          0     0    0     0        0     0         0  ...   \n",
       "\n",
       "   zlf  zms  zombie  zomg  zone  zoom  zuckerberg  zuckerberglink  zynga  zzzs  \n",
       "0    0    0       0     0     0     0           0               0      0     0  \n",
       "1    0    0       0     0     0     0           0               0      0     0  \n",
       "2    0    0       0     0     0     0           0               0      0     0  \n",
       "3    0    0       0     0     0     0           0               0      0     0  \n",
       "4    0    0       0     0     0     0           0               0      0     0  \n",
       "\n",
       "[5 rows x 6974 columns]"
      ]
     },
     "execution_count": 63,
     "metadata": {},
     "output_type": "execute_result"
    }
   ],
   "source": [
    "X_train_vect_text_df.head()"
   ]
  },
  {
   "cell_type": "code",
   "execution_count": 64,
   "metadata": {},
   "outputs": [
    {
     "data": {
      "text/plain": [
       "(6819, 6974)"
      ]
     },
     "execution_count": 64,
     "metadata": {},
     "output_type": "execute_result"
    }
   ],
   "source": [
    "X_train_vect_text_df.shape"
   ]
  },
  {
   "cell_type": "code",
   "execution_count": 65,
   "metadata": {},
   "outputs": [],
   "source": [
    "# Append emotion in tweet directed at to vectorized X_train clean text\n",
    "X_train_full = pd.merge(left=X_train_vect_text_df, right=X[['num_brand_directed_at', 'num_type_directed_at']],\n",
    "                        how='left', left_index=True, right_index=True)"
   ]
  },
  {
   "cell_type": "code",
   "execution_count": 66,
   "metadata": {},
   "outputs": [
    {
     "data": {
      "text/plain": [
       "(6819, 6976)"
      ]
     },
     "execution_count": 66,
     "metadata": {},
     "output_type": "execute_result"
    }
   ],
   "source": [
    "X_train_full.shape"
   ]
  },
  {
   "cell_type": "code",
   "execution_count": 67,
   "metadata": {},
   "outputs": [
    {
     "data": {
      "text/plain": [
       "(6819,)"
      ]
     },
     "execution_count": 67,
     "metadata": {},
     "output_type": "execute_result"
    }
   ],
   "source": [
    "y_train.shape"
   ]
  },
  {
   "cell_type": "code",
   "execution_count": 68,
   "metadata": {},
   "outputs": [],
   "source": [
    "# Create X_test with appended columns\n",
    "X_test_vect_text_df = pd.DataFrame(X_test_transformed.toarray(), columns=countvec2.get_feature_names())"
   ]
  },
  {
   "cell_type": "code",
   "execution_count": 69,
   "metadata": {},
   "outputs": [],
   "source": [
    "# Append emotion in tweet directed at\n",
    "X_test_full = pd.concat([X[['num_brand_directed_at', 'num_type_directed_at']], X_test_vect_text_df], axis=1, join='inner')"
   ]
  },
  {
   "cell_type": "code",
   "execution_count": 70,
   "metadata": {},
   "outputs": [
    {
     "data": {
      "text/plain": [
       "(2273, 6976)"
      ]
     },
     "execution_count": 70,
     "metadata": {},
     "output_type": "execute_result"
    }
   ],
   "source": [
    "#Preview\n",
    "X_test_full.shape"
   ]
  },
  {
   "cell_type": "code",
   "execution_count": 71,
   "metadata": {},
   "outputs": [
    {
     "data": {
      "text/html": [
       "<div>\n",
       "<style scoped>\n",
       "    .dataframe tbody tr th:only-of-type {\n",
       "        vertical-align: middle;\n",
       "    }\n",
       "\n",
       "    .dataframe tbody tr th {\n",
       "        vertical-align: top;\n",
       "    }\n",
       "\n",
       "    .dataframe thead th {\n",
       "        text-align: right;\n",
       "    }\n",
       "</style>\n",
       "<table border=\"1\" class=\"dataframe\">\n",
       "  <thead>\n",
       "    <tr style=\"text-align: right;\">\n",
       "      <th></th>\n",
       "      <th>num_brand_directed_at</th>\n",
       "      <th>num_type_directed_at</th>\n",
       "      <th>aapl</th>\n",
       "      <th>aaron</th>\n",
       "      <th>ab</th>\n",
       "      <th>abandoned</th>\n",
       "      <th>abba</th>\n",
       "      <th>abc</th>\n",
       "      <th>aber</th>\n",
       "      <th>ability</th>\n",
       "      <th>...</th>\n",
       "      <th>zlf</th>\n",
       "      <th>zms</th>\n",
       "      <th>zombie</th>\n",
       "      <th>zomg</th>\n",
       "      <th>zone</th>\n",
       "      <th>zoom</th>\n",
       "      <th>zuckerberg</th>\n",
       "      <th>zuckerberglink</th>\n",
       "      <th>zynga</th>\n",
       "      <th>zzzs</th>\n",
       "    </tr>\n",
       "  </thead>\n",
       "  <tbody>\n",
       "    <tr>\n",
       "      <th>0</th>\n",
       "      <td>1</td>\n",
       "      <td>1</td>\n",
       "      <td>0</td>\n",
       "      <td>0</td>\n",
       "      <td>0</td>\n",
       "      <td>0</td>\n",
       "      <td>0</td>\n",
       "      <td>0</td>\n",
       "      <td>0</td>\n",
       "      <td>0</td>\n",
       "      <td>...</td>\n",
       "      <td>0</td>\n",
       "      <td>0</td>\n",
       "      <td>0</td>\n",
       "      <td>0</td>\n",
       "      <td>0</td>\n",
       "      <td>0</td>\n",
       "      <td>0</td>\n",
       "      <td>0</td>\n",
       "      <td>0</td>\n",
       "      <td>0</td>\n",
       "    </tr>\n",
       "    <tr>\n",
       "      <th>1</th>\n",
       "      <td>1</td>\n",
       "      <td>3</td>\n",
       "      <td>0</td>\n",
       "      <td>0</td>\n",
       "      <td>0</td>\n",
       "      <td>0</td>\n",
       "      <td>0</td>\n",
       "      <td>0</td>\n",
       "      <td>0</td>\n",
       "      <td>0</td>\n",
       "      <td>...</td>\n",
       "      <td>0</td>\n",
       "      <td>0</td>\n",
       "      <td>0</td>\n",
       "      <td>0</td>\n",
       "      <td>0</td>\n",
       "      <td>0</td>\n",
       "      <td>0</td>\n",
       "      <td>0</td>\n",
       "      <td>0</td>\n",
       "      <td>0</td>\n",
       "    </tr>\n",
       "    <tr>\n",
       "      <th>2</th>\n",
       "      <td>1</td>\n",
       "      <td>1</td>\n",
       "      <td>0</td>\n",
       "      <td>0</td>\n",
       "      <td>0</td>\n",
       "      <td>0</td>\n",
       "      <td>0</td>\n",
       "      <td>0</td>\n",
       "      <td>0</td>\n",
       "      <td>0</td>\n",
       "      <td>...</td>\n",
       "      <td>0</td>\n",
       "      <td>0</td>\n",
       "      <td>0</td>\n",
       "      <td>0</td>\n",
       "      <td>0</td>\n",
       "      <td>0</td>\n",
       "      <td>0</td>\n",
       "      <td>0</td>\n",
       "      <td>0</td>\n",
       "      <td>0</td>\n",
       "    </tr>\n",
       "    <tr>\n",
       "      <th>3</th>\n",
       "      <td>1</td>\n",
       "      <td>3</td>\n",
       "      <td>0</td>\n",
       "      <td>0</td>\n",
       "      <td>0</td>\n",
       "      <td>0</td>\n",
       "      <td>0</td>\n",
       "      <td>0</td>\n",
       "      <td>0</td>\n",
       "      <td>0</td>\n",
       "      <td>...</td>\n",
       "      <td>0</td>\n",
       "      <td>0</td>\n",
       "      <td>0</td>\n",
       "      <td>0</td>\n",
       "      <td>0</td>\n",
       "      <td>0</td>\n",
       "      <td>0</td>\n",
       "      <td>0</td>\n",
       "      <td>0</td>\n",
       "      <td>0</td>\n",
       "    </tr>\n",
       "    <tr>\n",
       "      <th>4</th>\n",
       "      <td>2</td>\n",
       "      <td>2</td>\n",
       "      <td>0</td>\n",
       "      <td>0</td>\n",
       "      <td>0</td>\n",
       "      <td>0</td>\n",
       "      <td>0</td>\n",
       "      <td>0</td>\n",
       "      <td>0</td>\n",
       "      <td>0</td>\n",
       "      <td>...</td>\n",
       "      <td>0</td>\n",
       "      <td>0</td>\n",
       "      <td>0</td>\n",
       "      <td>0</td>\n",
       "      <td>0</td>\n",
       "      <td>0</td>\n",
       "      <td>0</td>\n",
       "      <td>0</td>\n",
       "      <td>0</td>\n",
       "      <td>0</td>\n",
       "    </tr>\n",
       "  </tbody>\n",
       "</table>\n",
       "<p>5 rows × 6976 columns</p>\n",
       "</div>"
      ],
      "text/plain": [
       "   num_brand_directed_at  num_type_directed_at  aapl  aaron  ab  abandoned  \\\n",
       "0                      1                     1     0      0   0          0   \n",
       "1                      1                     3     0      0   0          0   \n",
       "2                      1                     1     0      0   0          0   \n",
       "3                      1                     3     0      0   0          0   \n",
       "4                      2                     2     0      0   0          0   \n",
       "\n",
       "   abba  abc  aber  ability  ...  zlf  zms  zombie  zomg  zone  zoom  \\\n",
       "0     0    0     0        0  ...    0    0       0     0     0     0   \n",
       "1     0    0     0        0  ...    0    0       0     0     0     0   \n",
       "2     0    0     0        0  ...    0    0       0     0     0     0   \n",
       "3     0    0     0        0  ...    0    0       0     0     0     0   \n",
       "4     0    0     0        0  ...    0    0       0     0     0     0   \n",
       "\n",
       "   zuckerberg  zuckerberglink  zynga  zzzs  \n",
       "0           0               0      0     0  \n",
       "1           0               0      0     0  \n",
       "2           0               0      0     0  \n",
       "3           0               0      0     0  \n",
       "4           0               0      0     0  \n",
       "\n",
       "[5 rows x 6976 columns]"
      ]
     },
     "execution_count": 71,
     "metadata": {},
     "output_type": "execute_result"
    }
   ],
   "source": [
    "X_test_full.head()"
   ]
  },
  {
   "cell_type": "code",
   "execution_count": 72,
   "metadata": {},
   "outputs": [
    {
     "data": {
      "text/plain": [
       "MultinomialNB(alpha=1.0, class_prior=None, fit_prior=True)"
      ]
     },
     "execution_count": 72,
     "metadata": {},
     "output_type": "execute_result"
    }
   ],
   "source": [
    "nb = MultinomialNB()\n",
    "nb.fit(X_train_full, y_train)"
   ]
  },
  {
   "cell_type": "code",
   "execution_count": 73,
   "metadata": {
    "scrolled": true
   },
   "outputs": [
    {
     "name": "stdout",
     "output_type": "stream",
     "text": [
      "Accuracy:0.45886493620765506\n",
      "Precision:0.3365990202939118\n",
      "F1 Score:0.4388686131386861\n"
     ]
    },
    {
     "data": {
      "image/png": "[encoded data removed]",
      "text/plain": [
       "<Figure size 432x288 with 2 Axes>"
      ]
     },
     "metadata": {
      "needs_background": "light"
     },
     "output_type": "display_data"
    }
   ],
   "source": [
    "train_preds = nb.predict(X_train_full)\n",
    "test_preds = nb.predict(X_test_full)\n",
    "\n",
    "print(f'Accuracy:{accuracy_score(y_test, test_preds)}')\n",
    "print(f'Precision:{precision_score(y_test, test_preds)}')\n",
    "print(f'F1 Score:{f1_score(y_test, test_preds)}')\n",
    "plot_confusion_matrix(nb, X_test_full, y_test,\n",
    "                      values_format=\".4g\")  # to make numbers readable\n",
    "plt.show()"
   ]
  },
  {
   "cell_type": "markdown",
   "metadata": {},
   "source": [
    "### TF-IDF Version"
   ]
  },
  {
   "cell_type": "code",
   "execution_count": 74,
   "metadata": {},
   "outputs": [],
   "source": [
    "# Instantiating the TF-IDF vectorizer; labeled as 2 to differentiate instance\n",
    "tfidf2 = TfidfVectorizer(max_df = .95, # removes words that appear in more than 95% of docs\n",
    "                        min_df = 2, # removes words that appear 2 or fewer times\n",
    "                        use_idf=True)"
   ]
  },
  {
   "cell_type": "code",
   "execution_count": 75,
   "metadata": {},
   "outputs": [],
   "source": [
    "X_train_transformed = tfidf2.fit_transform(X_train['clean_text'])\n",
    "X_test_transformed = tfidf2.transform(X_test['clean_text'])"
   ]
  },
  {
   "cell_type": "code",
   "execution_count": 76,
   "metadata": {},
   "outputs": [],
   "source": [
    "# Create X_train with appended columns\n",
    "# X_train text vectorizing\n",
    "X_train_tfidfvect_text_df = pd.DataFrame(X_train_transformed.toarray(), columns=tfidf2.get_feature_names())"
   ]
  },
  {
   "cell_type": "code",
   "execution_count": 77,
   "metadata": {},
   "outputs": [
    {
     "data": {
      "text/html": [
       "<div>\n",
       "<style scoped>\n",
       "    .dataframe tbody tr th:only-of-type {\n",
       "        vertical-align: middle;\n",
       "    }\n",
       "\n",
       "    .dataframe tbody tr th {\n",
       "        vertical-align: top;\n",
       "    }\n",
       "\n",
       "    .dataframe thead th {\n",
       "        text-align: right;\n",
       "    }\n",
       "</style>\n",
       "<table border=\"1\" class=\"dataframe\">\n",
       "  <thead>\n",
       "    <tr style=\"text-align: right;\">\n",
       "      <th></th>\n",
       "      <th>aapl</th>\n",
       "      <th>ab</th>\n",
       "      <th>abc</th>\n",
       "      <th>ability</th>\n",
       "      <th>able</th>\n",
       "      <th>absolutely</th>\n",
       "      <th>absolutley</th>\n",
       "      <th>abt</th>\n",
       "      <th>academy</th>\n",
       "      <th>acc</th>\n",
       "      <th>...</th>\n",
       "      <th>zazzle</th>\n",
       "      <th>zinio</th>\n",
       "      <th>zip</th>\n",
       "      <th>zms</th>\n",
       "      <th>zombie</th>\n",
       "      <th>zomg</th>\n",
       "      <th>zone</th>\n",
       "      <th>zoom</th>\n",
       "      <th>zuckerberg</th>\n",
       "      <th>zynga</th>\n",
       "    </tr>\n",
       "  </thead>\n",
       "  <tbody>\n",
       "    <tr>\n",
       "      <th>0</th>\n",
       "      <td>0.0</td>\n",
       "      <td>0.0</td>\n",
       "      <td>0.0</td>\n",
       "      <td>0.0</td>\n",
       "      <td>0.0</td>\n",
       "      <td>0.0</td>\n",
       "      <td>0.0</td>\n",
       "      <td>0.0</td>\n",
       "      <td>0.0</td>\n",
       "      <td>0.0</td>\n",
       "      <td>...</td>\n",
       "      <td>0.0</td>\n",
       "      <td>0.0</td>\n",
       "      <td>0.0</td>\n",
       "      <td>0.0</td>\n",
       "      <td>0.0</td>\n",
       "      <td>0.0</td>\n",
       "      <td>0.0</td>\n",
       "      <td>0.0</td>\n",
       "      <td>0.0</td>\n",
       "      <td>0.0</td>\n",
       "    </tr>\n",
       "    <tr>\n",
       "      <th>1</th>\n",
       "      <td>0.0</td>\n",
       "      <td>0.0</td>\n",
       "      <td>0.0</td>\n",
       "      <td>0.0</td>\n",
       "      <td>0.0</td>\n",
       "      <td>0.0</td>\n",
       "      <td>0.0</td>\n",
       "      <td>0.0</td>\n",
       "      <td>0.0</td>\n",
       "      <td>0.0</td>\n",
       "      <td>...</td>\n",
       "      <td>0.0</td>\n",
       "      <td>0.0</td>\n",
       "      <td>0.0</td>\n",
       "      <td>0.0</td>\n",
       "      <td>0.0</td>\n",
       "      <td>0.0</td>\n",
       "      <td>0.0</td>\n",
       "      <td>0.0</td>\n",
       "      <td>0.0</td>\n",
       "      <td>0.0</td>\n",
       "    </tr>\n",
       "    <tr>\n",
       "      <th>2</th>\n",
       "      <td>0.0</td>\n",
       "      <td>0.0</td>\n",
       "      <td>0.0</td>\n",
       "      <td>0.0</td>\n",
       "      <td>0.0</td>\n",
       "      <td>0.0</td>\n",
       "      <td>0.0</td>\n",
       "      <td>0.0</td>\n",
       "      <td>0.0</td>\n",
       "      <td>0.0</td>\n",
       "      <td>...</td>\n",
       "      <td>0.0</td>\n",
       "      <td>0.0</td>\n",
       "      <td>0.0</td>\n",
       "      <td>0.0</td>\n",
       "      <td>0.0</td>\n",
       "      <td>0.0</td>\n",
       "      <td>0.0</td>\n",
       "      <td>0.0</td>\n",
       "      <td>0.0</td>\n",
       "      <td>0.0</td>\n",
       "    </tr>\n",
       "    <tr>\n",
       "      <th>3</th>\n",
       "      <td>0.0</td>\n",
       "      <td>0.0</td>\n",
       "      <td>0.0</td>\n",
       "      <td>0.0</td>\n",
       "      <td>0.0</td>\n",
       "      <td>0.0</td>\n",
       "      <td>0.0</td>\n",
       "      <td>0.0</td>\n",
       "      <td>0.0</td>\n",
       "      <td>0.0</td>\n",
       "      <td>...</td>\n",
       "      <td>0.0</td>\n",
       "      <td>0.0</td>\n",
       "      <td>0.0</td>\n",
       "      <td>0.0</td>\n",
       "      <td>0.0</td>\n",
       "      <td>0.0</td>\n",
       "      <td>0.0</td>\n",
       "      <td>0.0</td>\n",
       "      <td>0.0</td>\n",
       "      <td>0.0</td>\n",
       "    </tr>\n",
       "    <tr>\n",
       "      <th>4</th>\n",
       "      <td>0.0</td>\n",
       "      <td>0.0</td>\n",
       "      <td>0.0</td>\n",
       "      <td>0.0</td>\n",
       "      <td>0.0</td>\n",
       "      <td>0.0</td>\n",
       "      <td>0.0</td>\n",
       "      <td>0.0</td>\n",
       "      <td>0.0</td>\n",
       "      <td>0.0</td>\n",
       "      <td>...</td>\n",
       "      <td>0.0</td>\n",
       "      <td>0.0</td>\n",
       "      <td>0.0</td>\n",
       "      <td>0.0</td>\n",
       "      <td>0.0</td>\n",
       "      <td>0.0</td>\n",
       "      <td>0.0</td>\n",
       "      <td>0.0</td>\n",
       "      <td>0.0</td>\n",
       "      <td>0.0</td>\n",
       "    </tr>\n",
       "  </tbody>\n",
       "</table>\n",
       "<p>5 rows × 3709 columns</p>\n",
       "</div>"
      ],
      "text/plain": [
       "   aapl   ab  abc  ability  able  absolutely  absolutley  abt  academy  acc  \\\n",
       "0   0.0  0.0  0.0      0.0   0.0         0.0         0.0  0.0      0.0  0.0   \n",
       "1   0.0  0.0  0.0      0.0   0.0         0.0         0.0  0.0      0.0  0.0   \n",
       "2   0.0  0.0  0.0      0.0   0.0         0.0         0.0  0.0      0.0  0.0   \n",
       "3   0.0  0.0  0.0      0.0   0.0         0.0         0.0  0.0      0.0  0.0   \n",
       "4   0.0  0.0  0.0      0.0   0.0         0.0         0.0  0.0      0.0  0.0   \n",
       "\n",
       "   ...  zazzle  zinio  zip  zms  zombie  zomg  zone  zoom  zuckerberg  zynga  \n",
       "0  ...     0.0    0.0  0.0  0.0     0.0   0.0   0.0   0.0         0.0    0.0  \n",
       "1  ...     0.0    0.0  0.0  0.0     0.0   0.0   0.0   0.0         0.0    0.0  \n",
       "2  ...     0.0    0.0  0.0  0.0     0.0   0.0   0.0   0.0         0.0    0.0  \n",
       "3  ...     0.0    0.0  0.0  0.0     0.0   0.0   0.0   0.0         0.0    0.0  \n",
       "4  ...     0.0    0.0  0.0  0.0     0.0   0.0   0.0   0.0         0.0    0.0  \n",
       "\n",
       "[5 rows x 3709 columns]"
      ]
     },
     "execution_count": 77,
     "metadata": {},
     "output_type": "execute_result"
    }
   ],
   "source": [
    "X_train_tfidfvect_text_df.head()"
   ]
  },
  {
   "cell_type": "code",
   "execution_count": 78,
   "metadata": {},
   "outputs": [
    {
     "data": {
      "text/plain": [
       "(6819, 3709)"
      ]
     },
     "execution_count": 78,
     "metadata": {},
     "output_type": "execute_result"
    }
   ],
   "source": [
    "X_train_tfidfvect_text_df.shape"
   ]
  },
  {
   "cell_type": "code",
   "execution_count": 79,
   "metadata": {},
   "outputs": [],
   "source": [
    "# Append emotion in tweet directed at to vectorized X_train clean text\n",
    "X_train_full = pd.merge(left=X_train_tfidfvect_text_df, right=X[['num_brand_directed_at', 'num_type_directed_at']],\n",
    "                        how='left', left_index=True, right_index=True)"
   ]
  },
  {
   "cell_type": "code",
   "execution_count": 80,
   "metadata": {},
   "outputs": [
    {
     "data": {
      "text/plain": [
       "(6819, 3711)"
      ]
     },
     "execution_count": 80,
     "metadata": {},
     "output_type": "execute_result"
    }
   ],
   "source": [
    "X_train_full.shape"
   ]
  },
  {
   "cell_type": "code",
   "execution_count": 81,
   "metadata": {},
   "outputs": [
    {
     "data": {
      "text/plain": [
       "(6819,)"
      ]
     },
     "execution_count": 81,
     "metadata": {},
     "output_type": "execute_result"
    }
   ],
   "source": [
    "y_train.shape"
   ]
  },
  {
   "cell_type": "code",
   "execution_count": 82,
   "metadata": {},
   "outputs": [],
   "source": [
    "# Create X_test with appended columns\n",
    "X_test_tfidfvect_text_df = pd.DataFrame(X_test_transformed.toarray(), columns=tfidf2.get_feature_names())"
   ]
  },
  {
   "cell_type": "code",
   "execution_count": 83,
   "metadata": {},
   "outputs": [],
   "source": [
    "# Append emotion in tweet directed at\n",
    "X_test_full = pd.concat([X[['num_brand_directed_at', 'num_type_directed_at']], \n",
    "                        X_test_tfidfvect_text_df], axis=1, join='inner')"
   ]
  },
  {
   "cell_type": "code",
   "execution_count": 84,
   "metadata": {},
   "outputs": [
    {
     "data": {
      "text/plain": [
       "(2273, 3711)"
      ]
     },
     "execution_count": 84,
     "metadata": {},
     "output_type": "execute_result"
    }
   ],
   "source": [
    "#Preview\n",
    "X_test_full.shape"
   ]
  },
  {
   "cell_type": "code",
   "execution_count": 85,
   "metadata": {},
   "outputs": [
    {
     "data": {
      "text/html": [
       "<div>\n",
       "<style scoped>\n",
       "    .dataframe tbody tr th:only-of-type {\n",
       "        vertical-align: middle;\n",
       "    }\n",
       "\n",
       "    .dataframe tbody tr th {\n",
       "        vertical-align: top;\n",
       "    }\n",
       "\n",
       "    .dataframe thead th {\n",
       "        text-align: right;\n",
       "    }\n",
       "</style>\n",
       "<table border=\"1\" class=\"dataframe\">\n",
       "  <thead>\n",
       "    <tr style=\"text-align: right;\">\n",
       "      <th></th>\n",
       "      <th>num_brand_directed_at</th>\n",
       "      <th>num_type_directed_at</th>\n",
       "      <th>aapl</th>\n",
       "      <th>ab</th>\n",
       "      <th>abc</th>\n",
       "      <th>ability</th>\n",
       "      <th>able</th>\n",
       "      <th>absolutely</th>\n",
       "      <th>absolutley</th>\n",
       "      <th>abt</th>\n",
       "      <th>...</th>\n",
       "      <th>zazzle</th>\n",
       "      <th>zinio</th>\n",
       "      <th>zip</th>\n",
       "      <th>zms</th>\n",
       "      <th>zombie</th>\n",
       "      <th>zomg</th>\n",
       "      <th>zone</th>\n",
       "      <th>zoom</th>\n",
       "      <th>zuckerberg</th>\n",
       "      <th>zynga</th>\n",
       "    </tr>\n",
       "  </thead>\n",
       "  <tbody>\n",
       "    <tr>\n",
       "      <th>0</th>\n",
       "      <td>1</td>\n",
       "      <td>1</td>\n",
       "      <td>0.0</td>\n",
       "      <td>0.0</td>\n",
       "      <td>0.0</td>\n",
       "      <td>0.0</td>\n",
       "      <td>0.0</td>\n",
       "      <td>0.0</td>\n",
       "      <td>0.0</td>\n",
       "      <td>0.0</td>\n",
       "      <td>...</td>\n",
       "      <td>0.0</td>\n",
       "      <td>0.0</td>\n",
       "      <td>0.0</td>\n",
       "      <td>0.0</td>\n",
       "      <td>0.0</td>\n",
       "      <td>0.0</td>\n",
       "      <td>0.0</td>\n",
       "      <td>0.0</td>\n",
       "      <td>0.0</td>\n",
       "      <td>0.0</td>\n",
       "    </tr>\n",
       "    <tr>\n",
       "      <th>1</th>\n",
       "      <td>1</td>\n",
       "      <td>3</td>\n",
       "      <td>0.0</td>\n",
       "      <td>0.0</td>\n",
       "      <td>0.0</td>\n",
       "      <td>0.0</td>\n",
       "      <td>0.0</td>\n",
       "      <td>0.0</td>\n",
       "      <td>0.0</td>\n",
       "      <td>0.0</td>\n",
       "      <td>...</td>\n",
       "      <td>0.0</td>\n",
       "      <td>0.0</td>\n",
       "      <td>0.0</td>\n",
       "      <td>0.0</td>\n",
       "      <td>0.0</td>\n",
       "      <td>0.0</td>\n",
       "      <td>0.0</td>\n",
       "      <td>0.0</td>\n",
       "      <td>0.0</td>\n",
       "      <td>0.0</td>\n",
       "    </tr>\n",
       "    <tr>\n",
       "      <th>2</th>\n",
       "      <td>1</td>\n",
       "      <td>1</td>\n",
       "      <td>0.0</td>\n",
       "      <td>0.0</td>\n",
       "      <td>0.0</td>\n",
       "      <td>0.0</td>\n",
       "      <td>0.0</td>\n",
       "      <td>0.0</td>\n",
       "      <td>0.0</td>\n",
       "      <td>0.0</td>\n",
       "      <td>...</td>\n",
       "      <td>0.0</td>\n",
       "      <td>0.0</td>\n",
       "      <td>0.0</td>\n",
       "      <td>0.0</td>\n",
       "      <td>0.0</td>\n",
       "      <td>0.0</td>\n",
       "      <td>0.0</td>\n",
       "      <td>0.0</td>\n",
       "      <td>0.0</td>\n",
       "      <td>0.0</td>\n",
       "    </tr>\n",
       "    <tr>\n",
       "      <th>3</th>\n",
       "      <td>1</td>\n",
       "      <td>3</td>\n",
       "      <td>0.0</td>\n",
       "      <td>0.0</td>\n",
       "      <td>0.0</td>\n",
       "      <td>0.0</td>\n",
       "      <td>0.0</td>\n",
       "      <td>0.0</td>\n",
       "      <td>0.0</td>\n",
       "      <td>0.0</td>\n",
       "      <td>...</td>\n",
       "      <td>0.0</td>\n",
       "      <td>0.0</td>\n",
       "      <td>0.0</td>\n",
       "      <td>0.0</td>\n",
       "      <td>0.0</td>\n",
       "      <td>0.0</td>\n",
       "      <td>0.0</td>\n",
       "      <td>0.0</td>\n",
       "      <td>0.0</td>\n",
       "      <td>0.0</td>\n",
       "    </tr>\n",
       "    <tr>\n",
       "      <th>4</th>\n",
       "      <td>2</td>\n",
       "      <td>2</td>\n",
       "      <td>0.0</td>\n",
       "      <td>0.0</td>\n",
       "      <td>0.0</td>\n",
       "      <td>0.0</td>\n",
       "      <td>0.0</td>\n",
       "      <td>0.0</td>\n",
       "      <td>0.0</td>\n",
       "      <td>0.0</td>\n",
       "      <td>...</td>\n",
       "      <td>0.0</td>\n",
       "      <td>0.0</td>\n",
       "      <td>0.0</td>\n",
       "      <td>0.0</td>\n",
       "      <td>0.0</td>\n",
       "      <td>0.0</td>\n",
       "      <td>0.0</td>\n",
       "      <td>0.0</td>\n",
       "      <td>0.0</td>\n",
       "      <td>0.0</td>\n",
       "    </tr>\n",
       "  </tbody>\n",
       "</table>\n",
       "<p>5 rows × 3711 columns</p>\n",
       "</div>"
      ],
      "text/plain": [
       "   num_brand_directed_at  num_type_directed_at  aapl   ab  abc  ability  able  \\\n",
       "0                      1                     1   0.0  0.0  0.0      0.0   0.0   \n",
       "1                      1                     3   0.0  0.0  0.0      0.0   0.0   \n",
       "2                      1                     1   0.0  0.0  0.0      0.0   0.0   \n",
       "3                      1                     3   0.0  0.0  0.0      0.0   0.0   \n",
       "4                      2                     2   0.0  0.0  0.0      0.0   0.0   \n",
       "\n",
       "   absolutely  absolutley  abt  ...  zazzle  zinio  zip  zms  zombie  zomg  \\\n",
       "0         0.0         0.0  0.0  ...     0.0    0.0  0.0  0.0     0.0   0.0   \n",
       "1         0.0         0.0  0.0  ...     0.0    0.0  0.0  0.0     0.0   0.0   \n",
       "2         0.0         0.0  0.0  ...     0.0    0.0  0.0  0.0     0.0   0.0   \n",
       "3         0.0         0.0  0.0  ...     0.0    0.0  0.0  0.0     0.0   0.0   \n",
       "4         0.0         0.0  0.0  ...     0.0    0.0  0.0  0.0     0.0   0.0   \n",
       "\n",
       "   zone  zoom  zuckerberg  zynga  \n",
       "0   0.0   0.0         0.0    0.0  \n",
       "1   0.0   0.0         0.0    0.0  \n",
       "2   0.0   0.0         0.0    0.0  \n",
       "3   0.0   0.0         0.0    0.0  \n",
       "4   0.0   0.0         0.0    0.0  \n",
       "\n",
       "[5 rows x 3711 columns]"
      ]
     },
     "execution_count": 85,
     "metadata": {},
     "output_type": "execute_result"
    }
   ],
   "source": [
    "X_test_full.head()"
   ]
  },
  {
   "cell_type": "code",
   "execution_count": 86,
   "metadata": {},
   "outputs": [
    {
     "data": {
      "text/plain": [
       "MultinomialNB(alpha=1.0, class_prior=None, fit_prior=True)"
      ]
     },
     "execution_count": 86,
     "metadata": {},
     "output_type": "execute_result"
    }
   ],
   "source": [
    "nb = MultinomialNB()\n",
    "nb.fit(X_train_full, y_train)"
   ]
  },
  {
   "cell_type": "code",
   "execution_count": 87,
   "metadata": {
    "scrolled": false
   },
   "outputs": [
    {
     "name": "stdout",
     "output_type": "stream",
     "text": [
      "Accuracy:0.6106467223933129\n",
      "Precision:0.387037037037037\n",
      "F1 Score:0.3207981580966999\n"
     ]
    },
    {
     "data": {
      "image/png": "[encoded data removed]",
      "text/plain": [
       "<Figure size 432x288 with 2 Axes>"
      ]
     },
     "metadata": {
      "needs_background": "light"
     },
     "output_type": "display_data"
    }
   ],
   "source": [
    "train_preds = nb.predict(X_train_full)\n",
    "test_preds = nb.predict(X_test_full)\n",
    "\n",
    "print(f'Accuracy:{accuracy_score(y_test, test_preds)}')\n",
    "print(f'Precision:{precision_score(y_test, test_preds)}')\n",
    "print(f'F1 Score:{f1_score(y_test, test_preds)}')\n",
    "plot_confusion_matrix(nb, X_test_full, y_test,\n",
    "                      values_format=\".4g\")  # to make numbers readable\n",
    "plt.show()"
   ]
  },
  {
   "cell_type": "markdown",
   "metadata": {},
   "source": [
    "## Data Reformat\n",
    "- brand 0-2 and type (product/app/service) 0-3 convert to 0-1 columns"
   ]
  },
  {
   "cell_type": "code",
   "execution_count": 88,
   "metadata": {},
   "outputs": [
    {
     "data": {
      "text/plain": [
       "Index(['tweet_text', 'emotion_in_tweet_is_directed_at',\n",
       "       'is_there_an_emotion_directed_at_a_brand_or_product',\n",
       "       'brand_directed_at', 'num_brand_directed_at', 'type_directed_at',\n",
       "       'num_type_directed_at', 'target', 'clean_text'],\n",
       "      dtype='object')"
      ]
     },
     "execution_count": 88,
     "metadata": {},
     "output_type": "execute_result"
    }
   ],
   "source": [
    "df.columns"
   ]
  },
  {
   "cell_type": "code",
   "execution_count": 89,
   "metadata": {},
   "outputs": [
    {
     "data": {
      "text/plain": [
       "array(['Apple', 'Google', 'None'], dtype=object)"
      ]
     },
     "execution_count": 89,
     "metadata": {},
     "output_type": "execute_result"
    }
   ],
   "source": [
    "df['brand_directed_at'].unique()"
   ]
  },
  {
   "cell_type": "code",
   "execution_count": 90,
   "metadata": {
    "scrolled": true
   },
   "outputs": [
    {
     "name": "stderr",
     "output_type": "stream",
     "text": [
      "/opt/anaconda3/envs/learn-env/lib/python3.6/site-packages/ipykernel_launcher.py:6: SettingWithCopyWarning: \n",
      "A value is trying to be set on a copy of a slice from a DataFrame\n",
      "\n",
      "See the caveats in the documentation: http://pandas.pydata.org/pandas-docs/stable/user_guide/indexing.html#returning-a-view-versus-a-copy\n",
      "  \n",
      "/opt/anaconda3/envs/learn-env/lib/python3.6/site-packages/ipykernel_launcher.py:8: SettingWithCopyWarning: \n",
      "A value is trying to be set on a copy of a slice from a DataFrame\n",
      "\n",
      "See the caveats in the documentation: http://pandas.pydata.org/pandas-docs/stable/user_guide/indexing.html#returning-a-view-versus-a-copy\n",
      "  \n"
     ]
    }
   ],
   "source": [
    "df['tweet_brand_Apple'] = 0\n",
    "df['tweet_brand_Google'] = 0\n",
    "\n",
    "for row in df['brand_directed_at'].index:\n",
    "    if df['brand_directed_at'][row] == 'Apple':\n",
    "        df['tweet_brand_Apple'][row] = 1\n",
    "    elif df['brand_directed_at'][row] == 'Google':\n",
    "        df['tweet_brand_Google'][row] = 1"
   ]
  },
  {
   "cell_type": "code",
   "execution_count": 91,
   "metadata": {},
   "outputs": [
    {
     "data": {
      "text/plain": [
       "array(['Product', 'App', 'Brand', 'None', 'Service'], dtype=object)"
      ]
     },
     "execution_count": 91,
     "metadata": {},
     "output_type": "execute_result"
    }
   ],
   "source": [
    "df['type_directed_at'].unique()"
   ]
  },
  {
   "cell_type": "code",
   "execution_count": 92,
   "metadata": {},
   "outputs": [
    {
     "name": "stderr",
     "output_type": "stream",
     "text": [
      "/opt/anaconda3/envs/learn-env/lib/python3.6/site-packages/ipykernel_launcher.py:8: SettingWithCopyWarning: \n",
      "A value is trying to be set on a copy of a slice from a DataFrame\n",
      "\n",
      "See the caveats in the documentation: http://pandas.pydata.org/pandas-docs/stable/user_guide/indexing.html#returning-a-view-versus-a-copy\n",
      "  \n",
      "/opt/anaconda3/envs/learn-env/lib/python3.6/site-packages/ipykernel_launcher.py:10: SettingWithCopyWarning: \n",
      "A value is trying to be set on a copy of a slice from a DataFrame\n",
      "\n",
      "See the caveats in the documentation: http://pandas.pydata.org/pandas-docs/stable/user_guide/indexing.html#returning-a-view-versus-a-copy\n",
      "  # Remove the CWD from sys.path while we load stuff.\n",
      "/opt/anaconda3/envs/learn-env/lib/python3.6/site-packages/ipykernel_launcher.py:12: SettingWithCopyWarning: \n",
      "A value is trying to be set on a copy of a slice from a DataFrame\n",
      "\n",
      "See the caveats in the documentation: http://pandas.pydata.org/pandas-docs/stable/user_guide/indexing.html#returning-a-view-versus-a-copy\n",
      "  if sys.path[0] == '':\n",
      "/opt/anaconda3/envs/learn-env/lib/python3.6/site-packages/ipykernel_launcher.py:14: SettingWithCopyWarning: \n",
      "A value is trying to be set on a copy of a slice from a DataFrame\n",
      "\n",
      "See the caveats in the documentation: http://pandas.pydata.org/pandas-docs/stable/user_guide/indexing.html#returning-a-view-versus-a-copy\n",
      "  \n"
     ]
    }
   ],
   "source": [
    "df['tweet_type_product'] = 0\n",
    "df['tweet_type_app'] = 0\n",
    "df['tweet_type_brand'] = 0\n",
    "df['tweet_type_service'] = 0\n",
    "\n",
    "for row in df['type_directed_at'].index:\n",
    "    if df['type_directed_at'][row] == 'Product':\n",
    "        df['tweet_type_product'][row] = 1\n",
    "    if df['type_directed_at'][row] == 'App':\n",
    "        df['tweet_type_app'][row] = 1\n",
    "    if df['type_directed_at'][row] == 'Brand':\n",
    "        df['tweet_type_brand'][row] = 1\n",
    "    elif df['type_directed_at'][row] == 'Service':\n",
    "        df['tweet_type_service'][row] = 1"
   ]
  },
  {
   "cell_type": "code",
   "execution_count": 93,
   "metadata": {},
   "outputs": [
    {
     "name": "stdout",
     "output_type": "stream",
     "text": [
      "<class 'pandas.core.frame.DataFrame'>\n",
      "RangeIndex: 9092 entries, 0 to 9091\n",
      "Data columns (total 15 columns):\n",
      "tweet_text                                            9092 non-null object\n",
      "emotion_in_tweet_is_directed_at                       9092 non-null object\n",
      "is_there_an_emotion_directed_at_a_brand_or_product    9092 non-null object\n",
      "brand_directed_at                                     9092 non-null object\n",
      "num_brand_directed_at                                 9092 non-null int64\n",
      "type_directed_at                                      9092 non-null object\n",
      "num_type_directed_at                                  9092 non-null int64\n",
      "target                                                9092 non-null int64\n",
      "clean_text                                            9092 non-null object\n",
      "tweet_brand_Apple                                     9092 non-null int64\n",
      "tweet_brand_Google                                    9092 non-null int64\n",
      "tweet_type_product                                    9092 non-null int64\n",
      "tweet_type_app                                        9092 non-null int64\n",
      "tweet_type_brand                                      9092 non-null int64\n",
      "tweet_type_service                                    9092 non-null int64\n",
      "dtypes: int64(9), object(6)\n",
      "memory usage: 1.0+ MB\n"
     ]
    }
   ],
   "source": [
    "df.info()"
   ]
  },
  {
   "cell_type": "code",
   "execution_count": 94,
   "metadata": {},
   "outputs": [
    {
     "data": {
      "text/html": [
       "<div>\n",
       "<style scoped>\n",
       "    .dataframe tbody tr th:only-of-type {\n",
       "        vertical-align: middle;\n",
       "    }\n",
       "\n",
       "    .dataframe tbody tr th {\n",
       "        vertical-align: top;\n",
       "    }\n",
       "\n",
       "    .dataframe thead th {\n",
       "        text-align: right;\n",
       "    }\n",
       "</style>\n",
       "<table border=\"1\" class=\"dataframe\">\n",
       "  <thead>\n",
       "    <tr style=\"text-align: right;\">\n",
       "      <th></th>\n",
       "      <th>tweet_text</th>\n",
       "      <th>emotion_in_tweet_is_directed_at</th>\n",
       "      <th>is_there_an_emotion_directed_at_a_brand_or_product</th>\n",
       "      <th>brand_directed_at</th>\n",
       "      <th>num_brand_directed_at</th>\n",
       "      <th>type_directed_at</th>\n",
       "      <th>num_type_directed_at</th>\n",
       "      <th>target</th>\n",
       "      <th>clean_text</th>\n",
       "      <th>tweet_brand_Apple</th>\n",
       "      <th>tweet_brand_Google</th>\n",
       "      <th>tweet_type_product</th>\n",
       "      <th>tweet_type_app</th>\n",
       "      <th>tweet_type_brand</th>\n",
       "      <th>tweet_type_service</th>\n",
       "    </tr>\n",
       "  </thead>\n",
       "  <tbody>\n",
       "    <tr>\n",
       "      <th>0</th>\n",
       "      <td>.@wesley83 I have a 3G iPhone. After 3 hrs twe...</td>\n",
       "      <td>iPhone</td>\n",
       "      <td>Negative</td>\n",
       "      <td>Apple</td>\n",
       "      <td>1</td>\n",
       "      <td>Product</td>\n",
       "      <td>1</td>\n",
       "      <td>0</td>\n",
       "      <td>g iphone hr tweeting dead need upgrade plugin ...</td>\n",
       "      <td>1</td>\n",
       "      <td>0</td>\n",
       "      <td>1</td>\n",
       "      <td>0</td>\n",
       "      <td>0</td>\n",
       "      <td>0</td>\n",
       "    </tr>\n",
       "    <tr>\n",
       "      <th>1</th>\n",
       "      <td>@jessedee Know about @fludapp ? Awesome iPad/i...</td>\n",
       "      <td>iPad or iPhone App</td>\n",
       "      <td>Positive</td>\n",
       "      <td>Apple</td>\n",
       "      <td>1</td>\n",
       "      <td>App</td>\n",
       "      <td>3</td>\n",
       "      <td>1</td>\n",
       "      <td>know awesome ipadiphone app youll likely appre...</td>\n",
       "      <td>1</td>\n",
       "      <td>0</td>\n",
       "      <td>0</td>\n",
       "      <td>1</td>\n",
       "      <td>0</td>\n",
       "      <td>0</td>\n",
       "    </tr>\n",
       "    <tr>\n",
       "      <th>2</th>\n",
       "      <td>@swonderlin Can not wait for #iPad 2 also. The...</td>\n",
       "      <td>iPad</td>\n",
       "      <td>Positive</td>\n",
       "      <td>Apple</td>\n",
       "      <td>1</td>\n",
       "      <td>Product</td>\n",
       "      <td>1</td>\n",
       "      <td>1</td>\n",
       "      <td>wait also sale</td>\n",
       "      <td>1</td>\n",
       "      <td>0</td>\n",
       "      <td>1</td>\n",
       "      <td>0</td>\n",
       "      <td>0</td>\n",
       "      <td>0</td>\n",
       "    </tr>\n",
       "    <tr>\n",
       "      <th>3</th>\n",
       "      <td>@sxsw I hope this year's festival isn't as cra...</td>\n",
       "      <td>iPad or iPhone App</td>\n",
       "      <td>Negative</td>\n",
       "      <td>Apple</td>\n",
       "      <td>1</td>\n",
       "      <td>App</td>\n",
       "      <td>3</td>\n",
       "      <td>0</td>\n",
       "      <td>hope year festival isnt crashy year iphone app</td>\n",
       "      <td>1</td>\n",
       "      <td>0</td>\n",
       "      <td>0</td>\n",
       "      <td>1</td>\n",
       "      <td>0</td>\n",
       "      <td>0</td>\n",
       "    </tr>\n",
       "    <tr>\n",
       "      <th>4</th>\n",
       "      <td>@sxtxstate great stuff on Fri #SXSW: Marissa M...</td>\n",
       "      <td>Google</td>\n",
       "      <td>Positive</td>\n",
       "      <td>Google</td>\n",
       "      <td>2</td>\n",
       "      <td>Brand</td>\n",
       "      <td>2</td>\n",
       "      <td>1</td>\n",
       "      <td>great stuff fri marissa mayer google tim oreil...</td>\n",
       "      <td>0</td>\n",
       "      <td>1</td>\n",
       "      <td>0</td>\n",
       "      <td>0</td>\n",
       "      <td>1</td>\n",
       "      <td>0</td>\n",
       "    </tr>\n",
       "  </tbody>\n",
       "</table>\n",
       "</div>"
      ],
      "text/plain": [
       "                                          tweet_text  \\\n",
       "0  .@wesley83 I have a 3G iPhone. After 3 hrs twe...   \n",
       "1  @jessedee Know about @fludapp ? Awesome iPad/i...   \n",
       "2  @swonderlin Can not wait for #iPad 2 also. The...   \n",
       "3  @sxsw I hope this year's festival isn't as cra...   \n",
       "4  @sxtxstate great stuff on Fri #SXSW: Marissa M...   \n",
       "\n",
       "  emotion_in_tweet_is_directed_at  \\\n",
       "0                          iPhone   \n",
       "1              iPad or iPhone App   \n",
       "2                            iPad   \n",
       "3              iPad or iPhone App   \n",
       "4                          Google   \n",
       "\n",
       "  is_there_an_emotion_directed_at_a_brand_or_product brand_directed_at  \\\n",
       "0                                           Negative             Apple   \n",
       "1                                           Positive             Apple   \n",
       "2                                           Positive             Apple   \n",
       "3                                           Negative             Apple   \n",
       "4                                           Positive            Google   \n",
       "\n",
       "   num_brand_directed_at type_directed_at  num_type_directed_at  target  \\\n",
       "0                      1          Product                     1       0   \n",
       "1                      1              App                     3       1   \n",
       "2                      1          Product                     1       1   \n",
       "3                      1              App                     3       0   \n",
       "4                      2            Brand                     2       1   \n",
       "\n",
       "                                          clean_text  tweet_brand_Apple  \\\n",
       "0  g iphone hr tweeting dead need upgrade plugin ...                  1   \n",
       "1  know awesome ipadiphone app youll likely appre...                  1   \n",
       "2                                     wait also sale                  1   \n",
       "3     hope year festival isnt crashy year iphone app                  1   \n",
       "4  great stuff fri marissa mayer google tim oreil...                  0   \n",
       "\n",
       "   tweet_brand_Google  tweet_type_product  tweet_type_app  tweet_type_brand  \\\n",
       "0                   0                   1               0                 0   \n",
       "1                   0                   0               1                 0   \n",
       "2                   0                   1               0                 0   \n",
       "3                   0                   0               1                 0   \n",
       "4                   1                   0               0                 1   \n",
       "\n",
       "   tweet_type_service  \n",
       "0                   0  \n",
       "1                   0  \n",
       "2                   0  \n",
       "3                   0  \n",
       "4                   0  "
      ]
     },
     "execution_count": 94,
     "metadata": {},
     "output_type": "execute_result"
    }
   ],
   "source": [
    "df.head()"
   ]
  },
  {
   "cell_type": "code",
   "execution_count": 95,
   "metadata": {},
   "outputs": [],
   "source": [
    "NB_df = df.drop(columns=['tweet_text', 'emotion_in_tweet_is_directed_at',\n",
    "               'is_there_an_emotion_directed_at_a_brand_or_product',\n",
    "                'brand_directed_at', 'num_brand_directed_at',\n",
    "                'type_directed_at', 'num_type_directed_at'], axis=1)"
   ]
  },
  {
   "cell_type": "code",
   "execution_count": 96,
   "metadata": {},
   "outputs": [
    {
     "data": {
      "text/html": [
       "<div>\n",
       "<style scoped>\n",
       "    .dataframe tbody tr th:only-of-type {\n",
       "        vertical-align: middle;\n",
       "    }\n",
       "\n",
       "    .dataframe tbody tr th {\n",
       "        vertical-align: top;\n",
       "    }\n",
       "\n",
       "    .dataframe thead th {\n",
       "        text-align: right;\n",
       "    }\n",
       "</style>\n",
       "<table border=\"1\" class=\"dataframe\">\n",
       "  <thead>\n",
       "    <tr style=\"text-align: right;\">\n",
       "      <th></th>\n",
       "      <th>target</th>\n",
       "      <th>clean_text</th>\n",
       "      <th>tweet_brand_Apple</th>\n",
       "      <th>tweet_brand_Google</th>\n",
       "      <th>tweet_type_product</th>\n",
       "      <th>tweet_type_app</th>\n",
       "      <th>tweet_type_brand</th>\n",
       "      <th>tweet_type_service</th>\n",
       "    </tr>\n",
       "  </thead>\n",
       "  <tbody>\n",
       "    <tr>\n",
       "      <th>0</th>\n",
       "      <td>0</td>\n",
       "      <td>g iphone hr tweeting dead need upgrade plugin ...</td>\n",
       "      <td>1</td>\n",
       "      <td>0</td>\n",
       "      <td>1</td>\n",
       "      <td>0</td>\n",
       "      <td>0</td>\n",
       "      <td>0</td>\n",
       "    </tr>\n",
       "    <tr>\n",
       "      <th>1</th>\n",
       "      <td>1</td>\n",
       "      <td>know awesome ipadiphone app youll likely appre...</td>\n",
       "      <td>1</td>\n",
       "      <td>0</td>\n",
       "      <td>0</td>\n",
       "      <td>1</td>\n",
       "      <td>0</td>\n",
       "      <td>0</td>\n",
       "    </tr>\n",
       "    <tr>\n",
       "      <th>2</th>\n",
       "      <td>1</td>\n",
       "      <td>wait also sale</td>\n",
       "      <td>1</td>\n",
       "      <td>0</td>\n",
       "      <td>1</td>\n",
       "      <td>0</td>\n",
       "      <td>0</td>\n",
       "      <td>0</td>\n",
       "    </tr>\n",
       "    <tr>\n",
       "      <th>3</th>\n",
       "      <td>0</td>\n",
       "      <td>hope year festival isnt crashy year iphone app</td>\n",
       "      <td>1</td>\n",
       "      <td>0</td>\n",
       "      <td>0</td>\n",
       "      <td>1</td>\n",
       "      <td>0</td>\n",
       "      <td>0</td>\n",
       "    </tr>\n",
       "    <tr>\n",
       "      <th>4</th>\n",
       "      <td>1</td>\n",
       "      <td>great stuff fri marissa mayer google tim oreil...</td>\n",
       "      <td>0</td>\n",
       "      <td>1</td>\n",
       "      <td>0</td>\n",
       "      <td>0</td>\n",
       "      <td>1</td>\n",
       "      <td>0</td>\n",
       "    </tr>\n",
       "  </tbody>\n",
       "</table>\n",
       "</div>"
      ],
      "text/plain": [
       "   target                                         clean_text  \\\n",
       "0       0  g iphone hr tweeting dead need upgrade plugin ...   \n",
       "1       1  know awesome ipadiphone app youll likely appre...   \n",
       "2       1                                     wait also sale   \n",
       "3       0     hope year festival isnt crashy year iphone app   \n",
       "4       1  great stuff fri marissa mayer google tim oreil...   \n",
       "\n",
       "   tweet_brand_Apple  tweet_brand_Google  tweet_type_product  tweet_type_app  \\\n",
       "0                  1                   0                   1               0   \n",
       "1                  1                   0                   0               1   \n",
       "2                  1                   0                   1               0   \n",
       "3                  1                   0                   0               1   \n",
       "4                  0                   1                   0               0   \n",
       "\n",
       "   tweet_type_brand  tweet_type_service  \n",
       "0                 0                   0  \n",
       "1                 0                   0  \n",
       "2                 0                   0  \n",
       "3                 0                   0  \n",
       "4                 1                   0  "
      ]
     },
     "execution_count": 96,
     "metadata": {},
     "output_type": "execute_result"
    }
   ],
   "source": [
    "NB_df.head()"
   ]
  },
  {
   "cell_type": "markdown",
   "metadata": {},
   "source": [
    "### Reformatted Models - Count Vec - Can delete this post figuring out TF-IDF version"
   ]
  },
  {
   "cell_type": "code",
   "execution_count": 97,
   "metadata": {},
   "outputs": [],
   "source": [
    "# Grabbing our inputs and target\n",
    "X = NB_df.drop(columns='target', axis=1)\n",
    "y = NB_df['target']\n",
    "\n",
    "# Train test split\n",
    "X_train, X_test, y_train, y_test = train_test_split(X, y, random_state=42)"
   ]
  },
  {
   "cell_type": "code",
   "execution_count": 98,
   "metadata": {},
   "outputs": [
    {
     "data": {
      "text/plain": [
       "Index(['clean_text', 'tweet_brand_Apple', 'tweet_brand_Google',\n",
       "       'tweet_type_product', 'tweet_type_app', 'tweet_type_brand',\n",
       "       'tweet_type_service'],\n",
       "      dtype='object')"
      ]
     },
     "execution_count": 98,
     "metadata": {},
     "output_type": "execute_result"
    }
   ],
   "source": [
    "X.columns"
   ]
  },
  {
   "cell_type": "code",
   "execution_count": 99,
   "metadata": {},
   "outputs": [],
   "source": [
    "# Instantiating a count vectorizer; putting 2 just because instantiating new instance\n",
    "# no change from previous countvec\n",
    "countvec3 = CountVectorizer()"
   ]
  },
  {
   "cell_type": "code",
   "execution_count": 100,
   "metadata": {},
   "outputs": [],
   "source": [
    "X_train_transformed = countvec3.fit_transform(X_train['clean_text'])\n",
    "X_test_transformed = countvec3.transform(X_test['clean_text'])"
   ]
  },
  {
   "cell_type": "code",
   "execution_count": 101,
   "metadata": {},
   "outputs": [],
   "source": [
    "# Create X_train with appended columns\n",
    "# X_train text vectorizing\n",
    "X_train_vect_text_df = pd.DataFrame(X_train_transformed.toarray(), columns=countvec3.get_feature_names())"
   ]
  },
  {
   "cell_type": "code",
   "execution_count": 102,
   "metadata": {},
   "outputs": [
    {
     "data": {
      "text/html": [
       "<div>\n",
       "<style scoped>\n",
       "    .dataframe tbody tr th:only-of-type {\n",
       "        vertical-align: middle;\n",
       "    }\n",
       "\n",
       "    .dataframe tbody tr th {\n",
       "        vertical-align: top;\n",
       "    }\n",
       "\n",
       "    .dataframe thead th {\n",
       "        text-align: right;\n",
       "    }\n",
       "</style>\n",
       "<table border=\"1\" class=\"dataframe\">\n",
       "  <thead>\n",
       "    <tr style=\"text-align: right;\">\n",
       "      <th></th>\n",
       "      <th>aapl</th>\n",
       "      <th>aaron</th>\n",
       "      <th>ab</th>\n",
       "      <th>abandoned</th>\n",
       "      <th>abba</th>\n",
       "      <th>abc</th>\n",
       "      <th>aber</th>\n",
       "      <th>ability</th>\n",
       "      <th>able</th>\n",
       "      <th>abnormal</th>\n",
       "      <th>...</th>\n",
       "      <th>zlf</th>\n",
       "      <th>zms</th>\n",
       "      <th>zombie</th>\n",
       "      <th>zomg</th>\n",
       "      <th>zone</th>\n",
       "      <th>zoom</th>\n",
       "      <th>zuckerberg</th>\n",
       "      <th>zuckerberglink</th>\n",
       "      <th>zynga</th>\n",
       "      <th>zzzs</th>\n",
       "    </tr>\n",
       "  </thead>\n",
       "  <tbody>\n",
       "    <tr>\n",
       "      <th>0</th>\n",
       "      <td>0</td>\n",
       "      <td>0</td>\n",
       "      <td>0</td>\n",
       "      <td>0</td>\n",
       "      <td>0</td>\n",
       "      <td>0</td>\n",
       "      <td>0</td>\n",
       "      <td>0</td>\n",
       "      <td>0</td>\n",
       "      <td>0</td>\n",
       "      <td>...</td>\n",
       "      <td>0</td>\n",
       "      <td>0</td>\n",
       "      <td>0</td>\n",
       "      <td>0</td>\n",
       "      <td>0</td>\n",
       "      <td>0</td>\n",
       "      <td>0</td>\n",
       "      <td>0</td>\n",
       "      <td>0</td>\n",
       "      <td>0</td>\n",
       "    </tr>\n",
       "    <tr>\n",
       "      <th>1</th>\n",
       "      <td>0</td>\n",
       "      <td>0</td>\n",
       "      <td>0</td>\n",
       "      <td>0</td>\n",
       "      <td>0</td>\n",
       "      <td>0</td>\n",
       "      <td>0</td>\n",
       "      <td>0</td>\n",
       "      <td>0</td>\n",
       "      <td>0</td>\n",
       "      <td>...</td>\n",
       "      <td>0</td>\n",
       "      <td>0</td>\n",
       "      <td>0</td>\n",
       "      <td>0</td>\n",
       "      <td>0</td>\n",
       "      <td>0</td>\n",
       "      <td>0</td>\n",
       "      <td>0</td>\n",
       "      <td>0</td>\n",
       "      <td>0</td>\n",
       "    </tr>\n",
       "    <tr>\n",
       "      <th>2</th>\n",
       "      <td>0</td>\n",
       "      <td>0</td>\n",
       "      <td>0</td>\n",
       "      <td>0</td>\n",
       "      <td>0</td>\n",
       "      <td>0</td>\n",
       "      <td>0</td>\n",
       "      <td>0</td>\n",
       "      <td>0</td>\n",
       "      <td>0</td>\n",
       "      <td>...</td>\n",
       "      <td>0</td>\n",
       "      <td>0</td>\n",
       "      <td>0</td>\n",
       "      <td>0</td>\n",
       "      <td>0</td>\n",
       "      <td>0</td>\n",
       "      <td>0</td>\n",
       "      <td>0</td>\n",
       "      <td>0</td>\n",
       "      <td>0</td>\n",
       "    </tr>\n",
       "    <tr>\n",
       "      <th>3</th>\n",
       "      <td>0</td>\n",
       "      <td>0</td>\n",
       "      <td>0</td>\n",
       "      <td>0</td>\n",
       "      <td>0</td>\n",
       "      <td>0</td>\n",
       "      <td>0</td>\n",
       "      <td>0</td>\n",
       "      <td>0</td>\n",
       "      <td>0</td>\n",
       "      <td>...</td>\n",
       "      <td>0</td>\n",
       "      <td>0</td>\n",
       "      <td>0</td>\n",
       "      <td>0</td>\n",
       "      <td>0</td>\n",
       "      <td>0</td>\n",
       "      <td>0</td>\n",
       "      <td>0</td>\n",
       "      <td>0</td>\n",
       "      <td>0</td>\n",
       "    </tr>\n",
       "    <tr>\n",
       "      <th>4</th>\n",
       "      <td>0</td>\n",
       "      <td>0</td>\n",
       "      <td>0</td>\n",
       "      <td>0</td>\n",
       "      <td>0</td>\n",
       "      <td>0</td>\n",
       "      <td>0</td>\n",
       "      <td>0</td>\n",
       "      <td>0</td>\n",
       "      <td>0</td>\n",
       "      <td>...</td>\n",
       "      <td>0</td>\n",
       "      <td>0</td>\n",
       "      <td>0</td>\n",
       "      <td>0</td>\n",
       "      <td>0</td>\n",
       "      <td>0</td>\n",
       "      <td>0</td>\n",
       "      <td>0</td>\n",
       "      <td>0</td>\n",
       "      <td>0</td>\n",
       "    </tr>\n",
       "  </tbody>\n",
       "</table>\n",
       "<p>5 rows × 6974 columns</p>\n",
       "</div>"
      ],
      "text/plain": [
       "   aapl  aaron  ab  abandoned  abba  abc  aber  ability  able  abnormal  ...  \\\n",
       "0     0      0   0          0     0    0     0        0     0         0  ...   \n",
       "1     0      0   0          0     0    0     0        0     0         0  ...   \n",
       "2     0      0   0          0     0    0     0        0     0         0  ...   \n",
       "3     0      0   0          0     0    0     0        0     0         0  ...   \n",
       "4     0      0   0          0     0    0     0        0     0         0  ...   \n",
       "\n",
       "   zlf  zms  zombie  zomg  zone  zoom  zuckerberg  zuckerberglink  zynga  zzzs  \n",
       "0    0    0       0     0     0     0           0               0      0     0  \n",
       "1    0    0       0     0     0     0           0               0      0     0  \n",
       "2    0    0       0     0     0     0           0               0      0     0  \n",
       "3    0    0       0     0     0     0           0               0      0     0  \n",
       "4    0    0       0     0     0     0           0               0      0     0  \n",
       "\n",
       "[5 rows x 6974 columns]"
      ]
     },
     "execution_count": 102,
     "metadata": {},
     "output_type": "execute_result"
    }
   ],
   "source": [
    "X_train_vect_text_df.head()"
   ]
  },
  {
   "cell_type": "code",
   "execution_count": 103,
   "metadata": {},
   "outputs": [
    {
     "data": {
      "text/plain": [
       "(6819, 6974)"
      ]
     },
     "execution_count": 103,
     "metadata": {},
     "output_type": "execute_result"
    }
   ],
   "source": [
    "X_train_vect_text_df.shape"
   ]
  },
  {
   "cell_type": "code",
   "execution_count": 104,
   "metadata": {},
   "outputs": [],
   "source": [
    "# Append emotion in tweet directed at to vectorized X_train clean text\n",
    "X_train_full = pd.merge(left=X_train_vect_text_df, right=X.drop(columns='clean_text', axis=1),\n",
    "                        how='left', left_index=True, right_index=True)"
   ]
  },
  {
   "cell_type": "code",
   "execution_count": 105,
   "metadata": {},
   "outputs": [
    {
     "data": {
      "text/plain": [
       "(6819, 6980)"
      ]
     },
     "execution_count": 105,
     "metadata": {},
     "output_type": "execute_result"
    }
   ],
   "source": [
    "X_train_full.shape"
   ]
  },
  {
   "cell_type": "code",
   "execution_count": 106,
   "metadata": {
    "scrolled": true
   },
   "outputs": [
    {
     "data": {
      "text/plain": [
       "(6819,)"
      ]
     },
     "execution_count": 106,
     "metadata": {},
     "output_type": "execute_result"
    }
   ],
   "source": [
    "y_train.shape"
   ]
  },
  {
   "cell_type": "code",
   "execution_count": 107,
   "metadata": {},
   "outputs": [],
   "source": [
    "# Create X_test with appended columns\n",
    "X_test_vect_text_df = pd.DataFrame(X_test_transformed.toarray(), columns=countvec2.get_feature_names())"
   ]
  },
  {
   "cell_type": "code",
   "execution_count": 108,
   "metadata": {},
   "outputs": [],
   "source": [
    "# Append emotion in tweet directed at\n",
    "X_test_full = pd.concat([X.drop(columns='clean_text', axis=1), X_test_vect_text_df], axis=1, join='inner')"
   ]
  },
  {
   "cell_type": "code",
   "execution_count": 109,
   "metadata": {},
   "outputs": [
    {
     "data": {
      "text/plain": [
       "(2273, 6980)"
      ]
     },
     "execution_count": 109,
     "metadata": {},
     "output_type": "execute_result"
    }
   ],
   "source": [
    "#Preview\n",
    "X_test_full.shape"
   ]
  },
  {
   "cell_type": "code",
   "execution_count": 110,
   "metadata": {},
   "outputs": [
    {
     "data": {
      "text/html": [
       "<div>\n",
       "<style scoped>\n",
       "    .dataframe tbody tr th:only-of-type {\n",
       "        vertical-align: middle;\n",
       "    }\n",
       "\n",
       "    .dataframe tbody tr th {\n",
       "        vertical-align: top;\n",
       "    }\n",
       "\n",
       "    .dataframe thead th {\n",
       "        text-align: right;\n",
       "    }\n",
       "</style>\n",
       "<table border=\"1\" class=\"dataframe\">\n",
       "  <thead>\n",
       "    <tr style=\"text-align: right;\">\n",
       "      <th></th>\n",
       "      <th>tweet_brand_Apple</th>\n",
       "      <th>tweet_brand_Google</th>\n",
       "      <th>tweet_type_product</th>\n",
       "      <th>tweet_type_app</th>\n",
       "      <th>tweet_type_brand</th>\n",
       "      <th>tweet_type_service</th>\n",
       "      <th>aapl</th>\n",
       "      <th>aaron</th>\n",
       "      <th>ab</th>\n",
       "      <th>abandoned</th>\n",
       "      <th>...</th>\n",
       "      <th>zlf</th>\n",
       "      <th>zms</th>\n",
       "      <th>zombie</th>\n",
       "      <th>zomg</th>\n",
       "      <th>zone</th>\n",
       "      <th>zoom</th>\n",
       "      <th>zuckerberg</th>\n",
       "      <th>zuckerberglink</th>\n",
       "      <th>zynga</th>\n",
       "      <th>zzzs</th>\n",
       "    </tr>\n",
       "  </thead>\n",
       "  <tbody>\n",
       "    <tr>\n",
       "      <th>0</th>\n",
       "      <td>1</td>\n",
       "      <td>0</td>\n",
       "      <td>1</td>\n",
       "      <td>0</td>\n",
       "      <td>0</td>\n",
       "      <td>0</td>\n",
       "      <td>0</td>\n",
       "      <td>0</td>\n",
       "      <td>0</td>\n",
       "      <td>0</td>\n",
       "      <td>...</td>\n",
       "      <td>0</td>\n",
       "      <td>0</td>\n",
       "      <td>0</td>\n",
       "      <td>0</td>\n",
       "      <td>0</td>\n",
       "      <td>0</td>\n",
       "      <td>0</td>\n",
       "      <td>0</td>\n",
       "      <td>0</td>\n",
       "      <td>0</td>\n",
       "    </tr>\n",
       "    <tr>\n",
       "      <th>1</th>\n",
       "      <td>1</td>\n",
       "      <td>0</td>\n",
       "      <td>0</td>\n",
       "      <td>1</td>\n",
       "      <td>0</td>\n",
       "      <td>0</td>\n",
       "      <td>0</td>\n",
       "      <td>0</td>\n",
       "      <td>0</td>\n",
       "      <td>0</td>\n",
       "      <td>...</td>\n",
       "      <td>0</td>\n",
       "      <td>0</td>\n",
       "      <td>0</td>\n",
       "      <td>0</td>\n",
       "      <td>0</td>\n",
       "      <td>0</td>\n",
       "      <td>0</td>\n",
       "      <td>0</td>\n",
       "      <td>0</td>\n",
       "      <td>0</td>\n",
       "    </tr>\n",
       "    <tr>\n",
       "      <th>2</th>\n",
       "      <td>1</td>\n",
       "      <td>0</td>\n",
       "      <td>1</td>\n",
       "      <td>0</td>\n",
       "      <td>0</td>\n",
       "      <td>0</td>\n",
       "      <td>0</td>\n",
       "      <td>0</td>\n",
       "      <td>0</td>\n",
       "      <td>0</td>\n",
       "      <td>...</td>\n",
       "      <td>0</td>\n",
       "      <td>0</td>\n",
       "      <td>0</td>\n",
       "      <td>0</td>\n",
       "      <td>0</td>\n",
       "      <td>0</td>\n",
       "      <td>0</td>\n",
       "      <td>0</td>\n",
       "      <td>0</td>\n",
       "      <td>0</td>\n",
       "    </tr>\n",
       "    <tr>\n",
       "      <th>3</th>\n",
       "      <td>1</td>\n",
       "      <td>0</td>\n",
       "      <td>0</td>\n",
       "      <td>1</td>\n",
       "      <td>0</td>\n",
       "      <td>0</td>\n",
       "      <td>0</td>\n",
       "      <td>0</td>\n",
       "      <td>0</td>\n",
       "      <td>0</td>\n",
       "      <td>...</td>\n",
       "      <td>0</td>\n",
       "      <td>0</td>\n",
       "      <td>0</td>\n",
       "      <td>0</td>\n",
       "      <td>0</td>\n",
       "      <td>0</td>\n",
       "      <td>0</td>\n",
       "      <td>0</td>\n",
       "      <td>0</td>\n",
       "      <td>0</td>\n",
       "    </tr>\n",
       "    <tr>\n",
       "      <th>4</th>\n",
       "      <td>0</td>\n",
       "      <td>1</td>\n",
       "      <td>0</td>\n",
       "      <td>0</td>\n",
       "      <td>1</td>\n",
       "      <td>0</td>\n",
       "      <td>0</td>\n",
       "      <td>0</td>\n",
       "      <td>0</td>\n",
       "      <td>0</td>\n",
       "      <td>...</td>\n",
       "      <td>0</td>\n",
       "      <td>0</td>\n",
       "      <td>0</td>\n",
       "      <td>0</td>\n",
       "      <td>0</td>\n",
       "      <td>0</td>\n",
       "      <td>0</td>\n",
       "      <td>0</td>\n",
       "      <td>0</td>\n",
       "      <td>0</td>\n",
       "    </tr>\n",
       "  </tbody>\n",
       "</table>\n",
       "<p>5 rows × 6980 columns</p>\n",
       "</div>"
      ],
      "text/plain": [
       "   tweet_brand_Apple  tweet_brand_Google  tweet_type_product  tweet_type_app  \\\n",
       "0                  1                   0                   1               0   \n",
       "1                  1                   0                   0               1   \n",
       "2                  1                   0                   1               0   \n",
       "3                  1                   0                   0               1   \n",
       "4                  0                   1                   0               0   \n",
       "\n",
       "   tweet_type_brand  tweet_type_service  aapl  aaron  ab  abandoned  ...  zlf  \\\n",
       "0                 0                   0     0      0   0          0  ...    0   \n",
       "1                 0                   0     0      0   0          0  ...    0   \n",
       "2                 0                   0     0      0   0          0  ...    0   \n",
       "3                 0                   0     0      0   0          0  ...    0   \n",
       "4                 1                   0     0      0   0          0  ...    0   \n",
       "\n",
       "   zms  zombie  zomg  zone  zoom  zuckerberg  zuckerberglink  zynga  zzzs  \n",
       "0    0       0     0     0     0           0               0      0     0  \n",
       "1    0       0     0     0     0           0               0      0     0  \n",
       "2    0       0     0     0     0           0               0      0     0  \n",
       "3    0       0     0     0     0           0               0      0     0  \n",
       "4    0       0     0     0     0           0               0      0     0  \n",
       "\n",
       "[5 rows x 6980 columns]"
      ]
     },
     "execution_count": 110,
     "metadata": {},
     "output_type": "execute_result"
    }
   ],
   "source": [
    "X_test_full.head()"
   ]
  },
  {
   "cell_type": "code",
   "execution_count": 111,
   "metadata": {
    "scrolled": true
   },
   "outputs": [
    {
     "data": {
      "text/plain": [
       "MultinomialNB(alpha=1.0, class_prior=None, fit_prior=True)"
      ]
     },
     "execution_count": 111,
     "metadata": {},
     "output_type": "execute_result"
    }
   ],
   "source": [
    "nb = MultinomialNB()\n",
    "nb.fit(X_train_full, y_train)"
   ]
  },
  {
   "cell_type": "code",
   "execution_count": 112,
   "metadata": {
    "scrolled": true
   },
   "outputs": [
    {
     "name": "stdout",
     "output_type": "stream",
     "text": [
      "Accuracy:0.48262208534975803\n",
      "Precision:0.3441509433962264\n",
      "F1 Score:0.4367816091954023\n"
     ]
    },
    {
     "data": {
      "image/png": "[encoded data removed]",
      "text/plain": [
       "<Figure size 432x288 with 2 Axes>"
      ]
     },
     "metadata": {
      "needs_background": "light"
     },
     "output_type": "display_data"
    }
   ],
   "source": [
    "train_preds = nb.predict(X_train_full)\n",
    "test_preds = nb.predict(X_test_full)\n",
    "\n",
    "print(f'Accuracy:{accuracy_score(y_test, test_preds)}')\n",
    "print(f'Precision:{precision_score(y_test, test_preds)}')\n",
    "print(f'F1 Score:{f1_score(y_test, test_preds)}')\n",
    "plot_confusion_matrix(nb, X_test_full, y_test,\n",
    "                      values_format=\".4g\")  # to make numbers readable\n",
    "plt.show()"
   ]
  },
  {
   "cell_type": "markdown",
   "metadata": {},
   "source": [
    "### TF-IDF Version"
   ]
  },
  {
   "cell_type": "code",
   "execution_count": 113,
   "metadata": {},
   "outputs": [],
   "source": [
    "# Instantiating the TF-IDF vectorizer; labeled as 2 to differentiate instance\n",
    "tfidf3 = TfidfVectorizer(max_df = .95, # removes words that appear in more than 95% of docs\n",
    "                        min_df = 2, # removes words that appear 2 or fewer times\n",
    "                        use_idf=True)"
   ]
  },
  {
   "cell_type": "code",
   "execution_count": 114,
   "metadata": {},
   "outputs": [],
   "source": [
    "X_train_transformed = tfidf3.fit_transform(X_train['clean_text'])\n",
    "X_test_transformed = tfidf3.transform(X_test['clean_text'])"
   ]
  },
  {
   "cell_type": "code",
   "execution_count": 115,
   "metadata": {},
   "outputs": [],
   "source": [
    "# Create X_train with appended columns\n",
    "# X_train text vectorizing\n",
    "X_train_tfidfvect_text_df = pd.DataFrame(X_train_transformed.toarray(), columns=tfidf3.get_feature_names())"
   ]
  },
  {
   "cell_type": "code",
   "execution_count": 116,
   "metadata": {},
   "outputs": [
    {
     "data": {
      "text/html": [
       "<div>\n",
       "<style scoped>\n",
       "    .dataframe tbody tr th:only-of-type {\n",
       "        vertical-align: middle;\n",
       "    }\n",
       "\n",
       "    .dataframe tbody tr th {\n",
       "        vertical-align: top;\n",
       "    }\n",
       "\n",
       "    .dataframe thead th {\n",
       "        text-align: right;\n",
       "    }\n",
       "</style>\n",
       "<table border=\"1\" class=\"dataframe\">\n",
       "  <thead>\n",
       "    <tr style=\"text-align: right;\">\n",
       "      <th></th>\n",
       "      <th>aapl</th>\n",
       "      <th>ab</th>\n",
       "      <th>abc</th>\n",
       "      <th>ability</th>\n",
       "      <th>able</th>\n",
       "      <th>absolutely</th>\n",
       "      <th>absolutley</th>\n",
       "      <th>abt</th>\n",
       "      <th>academy</th>\n",
       "      <th>acc</th>\n",
       "      <th>...</th>\n",
       "      <th>zazzle</th>\n",
       "      <th>zinio</th>\n",
       "      <th>zip</th>\n",
       "      <th>zms</th>\n",
       "      <th>zombie</th>\n",
       "      <th>zomg</th>\n",
       "      <th>zone</th>\n",
       "      <th>zoom</th>\n",
       "      <th>zuckerberg</th>\n",
       "      <th>zynga</th>\n",
       "    </tr>\n",
       "  </thead>\n",
       "  <tbody>\n",
       "    <tr>\n",
       "      <th>0</th>\n",
       "      <td>0.0</td>\n",
       "      <td>0.0</td>\n",
       "      <td>0.0</td>\n",
       "      <td>0.0</td>\n",
       "      <td>0.0</td>\n",
       "      <td>0.0</td>\n",
       "      <td>0.0</td>\n",
       "      <td>0.0</td>\n",
       "      <td>0.0</td>\n",
       "      <td>0.0</td>\n",
       "      <td>...</td>\n",
       "      <td>0.0</td>\n",
       "      <td>0.0</td>\n",
       "      <td>0.0</td>\n",
       "      <td>0.0</td>\n",
       "      <td>0.0</td>\n",
       "      <td>0.0</td>\n",
       "      <td>0.0</td>\n",
       "      <td>0.0</td>\n",
       "      <td>0.0</td>\n",
       "      <td>0.0</td>\n",
       "    </tr>\n",
       "    <tr>\n",
       "      <th>1</th>\n",
       "      <td>0.0</td>\n",
       "      <td>0.0</td>\n",
       "      <td>0.0</td>\n",
       "      <td>0.0</td>\n",
       "      <td>0.0</td>\n",
       "      <td>0.0</td>\n",
       "      <td>0.0</td>\n",
       "      <td>0.0</td>\n",
       "      <td>0.0</td>\n",
       "      <td>0.0</td>\n",
       "      <td>...</td>\n",
       "      <td>0.0</td>\n",
       "      <td>0.0</td>\n",
       "      <td>0.0</td>\n",
       "      <td>0.0</td>\n",
       "      <td>0.0</td>\n",
       "      <td>0.0</td>\n",
       "      <td>0.0</td>\n",
       "      <td>0.0</td>\n",
       "      <td>0.0</td>\n",
       "      <td>0.0</td>\n",
       "    </tr>\n",
       "    <tr>\n",
       "      <th>2</th>\n",
       "      <td>0.0</td>\n",
       "      <td>0.0</td>\n",
       "      <td>0.0</td>\n",
       "      <td>0.0</td>\n",
       "      <td>0.0</td>\n",
       "      <td>0.0</td>\n",
       "      <td>0.0</td>\n",
       "      <td>0.0</td>\n",
       "      <td>0.0</td>\n",
       "      <td>0.0</td>\n",
       "      <td>...</td>\n",
       "      <td>0.0</td>\n",
       "      <td>0.0</td>\n",
       "      <td>0.0</td>\n",
       "      <td>0.0</td>\n",
       "      <td>0.0</td>\n",
       "      <td>0.0</td>\n",
       "      <td>0.0</td>\n",
       "      <td>0.0</td>\n",
       "      <td>0.0</td>\n",
       "      <td>0.0</td>\n",
       "    </tr>\n",
       "    <tr>\n",
       "      <th>3</th>\n",
       "      <td>0.0</td>\n",
       "      <td>0.0</td>\n",
       "      <td>0.0</td>\n",
       "      <td>0.0</td>\n",
       "      <td>0.0</td>\n",
       "      <td>0.0</td>\n",
       "      <td>0.0</td>\n",
       "      <td>0.0</td>\n",
       "      <td>0.0</td>\n",
       "      <td>0.0</td>\n",
       "      <td>...</td>\n",
       "      <td>0.0</td>\n",
       "      <td>0.0</td>\n",
       "      <td>0.0</td>\n",
       "      <td>0.0</td>\n",
       "      <td>0.0</td>\n",
       "      <td>0.0</td>\n",
       "      <td>0.0</td>\n",
       "      <td>0.0</td>\n",
       "      <td>0.0</td>\n",
       "      <td>0.0</td>\n",
       "    </tr>\n",
       "    <tr>\n",
       "      <th>4</th>\n",
       "      <td>0.0</td>\n",
       "      <td>0.0</td>\n",
       "      <td>0.0</td>\n",
       "      <td>0.0</td>\n",
       "      <td>0.0</td>\n",
       "      <td>0.0</td>\n",
       "      <td>0.0</td>\n",
       "      <td>0.0</td>\n",
       "      <td>0.0</td>\n",
       "      <td>0.0</td>\n",
       "      <td>...</td>\n",
       "      <td>0.0</td>\n",
       "      <td>0.0</td>\n",
       "      <td>0.0</td>\n",
       "      <td>0.0</td>\n",
       "      <td>0.0</td>\n",
       "      <td>0.0</td>\n",
       "      <td>0.0</td>\n",
       "      <td>0.0</td>\n",
       "      <td>0.0</td>\n",
       "      <td>0.0</td>\n",
       "    </tr>\n",
       "  </tbody>\n",
       "</table>\n",
       "<p>5 rows × 3709 columns</p>\n",
       "</div>"
      ],
      "text/plain": [
       "   aapl   ab  abc  ability  able  absolutely  absolutley  abt  academy  acc  \\\n",
       "0   0.0  0.0  0.0      0.0   0.0         0.0         0.0  0.0      0.0  0.0   \n",
       "1   0.0  0.0  0.0      0.0   0.0         0.0         0.0  0.0      0.0  0.0   \n",
       "2   0.0  0.0  0.0      0.0   0.0         0.0         0.0  0.0      0.0  0.0   \n",
       "3   0.0  0.0  0.0      0.0   0.0         0.0         0.0  0.0      0.0  0.0   \n",
       "4   0.0  0.0  0.0      0.0   0.0         0.0         0.0  0.0      0.0  0.0   \n",
       "\n",
       "   ...  zazzle  zinio  zip  zms  zombie  zomg  zone  zoom  zuckerberg  zynga  \n",
       "0  ...     0.0    0.0  0.0  0.0     0.0   0.0   0.0   0.0         0.0    0.0  \n",
       "1  ...     0.0    0.0  0.0  0.0     0.0   0.0   0.0   0.0         0.0    0.0  \n",
       "2  ...     0.0    0.0  0.0  0.0     0.0   0.0   0.0   0.0         0.0    0.0  \n",
       "3  ...     0.0    0.0  0.0  0.0     0.0   0.0   0.0   0.0         0.0    0.0  \n",
       "4  ...     0.0    0.0  0.0  0.0     0.0   0.0   0.0   0.0         0.0    0.0  \n",
       "\n",
       "[5 rows x 3709 columns]"
      ]
     },
     "execution_count": 116,
     "metadata": {},
     "output_type": "execute_result"
    }
   ],
   "source": [
    "X_train_tfidfvect_text_df.head()"
   ]
  },
  {
   "cell_type": "code",
   "execution_count": 117,
   "metadata": {},
   "outputs": [
    {
     "data": {
      "text/plain": [
       "(6819, 3709)"
      ]
     },
     "execution_count": 117,
     "metadata": {},
     "output_type": "execute_result"
    }
   ],
   "source": [
    "X_train_tfidfvect_text_df.shape"
   ]
  },
  {
   "cell_type": "code",
   "execution_count": 118,
   "metadata": {},
   "outputs": [],
   "source": [
    "# Append emotion in tweet directed at to vectorized X_train clean text\n",
    "X_train_full = pd.merge(left=X_train_tfidfvect_text_df, right=X.drop(columns='clean_text', axis=1),\n",
    "                        how='left', left_index=True, right_index=True)"
   ]
  },
  {
   "cell_type": "code",
   "execution_count": 119,
   "metadata": {},
   "outputs": [
    {
     "data": {
      "text/plain": [
       "(6819, 3715)"
      ]
     },
     "execution_count": 119,
     "metadata": {},
     "output_type": "execute_result"
    }
   ],
   "source": [
    "X_train_full.shape"
   ]
  },
  {
   "cell_type": "code",
   "execution_count": 120,
   "metadata": {},
   "outputs": [
    {
     "data": {
      "text/plain": [
       "(6819,)"
      ]
     },
     "execution_count": 120,
     "metadata": {},
     "output_type": "execute_result"
    }
   ],
   "source": [
    "y_train.shape"
   ]
  },
  {
   "cell_type": "code",
   "execution_count": 121,
   "metadata": {},
   "outputs": [],
   "source": [
    "# Create X_test with appended columns\n",
    "X_test_tfidfvect_text_df = pd.DataFrame(X_test_transformed.toarray(), columns=tfidf3.get_feature_names())"
   ]
  },
  {
   "cell_type": "code",
   "execution_count": 122,
   "metadata": {},
   "outputs": [],
   "source": [
    "# Append emotion in tweet directed at\n",
    "X_test_full = pd.concat([X.drop(columns='clean_text', axis=1), \n",
    "                        X_test_tfidfvect_text_df], axis=1, join='inner')"
   ]
  },
  {
   "cell_type": "code",
   "execution_count": 123,
   "metadata": {},
   "outputs": [
    {
     "data": {
      "text/plain": [
       "(2273, 3715)"
      ]
     },
     "execution_count": 123,
     "metadata": {},
     "output_type": "execute_result"
    }
   ],
   "source": [
    "#Preview\n",
    "X_test_full.shape"
   ]
  },
  {
   "cell_type": "code",
   "execution_count": 124,
   "metadata": {},
   "outputs": [
    {
     "data": {
      "text/html": [
       "<div>\n",
       "<style scoped>\n",
       "    .dataframe tbody tr th:only-of-type {\n",
       "        vertical-align: middle;\n",
       "    }\n",
       "\n",
       "    .dataframe tbody tr th {\n",
       "        vertical-align: top;\n",
       "    }\n",
       "\n",
       "    .dataframe thead th {\n",
       "        text-align: right;\n",
       "    }\n",
       "</style>\n",
       "<table border=\"1\" class=\"dataframe\">\n",
       "  <thead>\n",
       "    <tr style=\"text-align: right;\">\n",
       "      <th></th>\n",
       "      <th>tweet_brand_Apple</th>\n",
       "      <th>tweet_brand_Google</th>\n",
       "      <th>tweet_type_product</th>\n",
       "      <th>tweet_type_app</th>\n",
       "      <th>tweet_type_brand</th>\n",
       "      <th>tweet_type_service</th>\n",
       "      <th>aapl</th>\n",
       "      <th>ab</th>\n",
       "      <th>abc</th>\n",
       "      <th>ability</th>\n",
       "      <th>...</th>\n",
       "      <th>zazzle</th>\n",
       "      <th>zinio</th>\n",
       "      <th>zip</th>\n",
       "      <th>zms</th>\n",
       "      <th>zombie</th>\n",
       "      <th>zomg</th>\n",
       "      <th>zone</th>\n",
       "      <th>zoom</th>\n",
       "      <th>zuckerberg</th>\n",
       "      <th>zynga</th>\n",
       "    </tr>\n",
       "  </thead>\n",
       "  <tbody>\n",
       "    <tr>\n",
       "      <th>0</th>\n",
       "      <td>1</td>\n",
       "      <td>0</td>\n",
       "      <td>1</td>\n",
       "      <td>0</td>\n",
       "      <td>0</td>\n",
       "      <td>0</td>\n",
       "      <td>0.0</td>\n",
       "      <td>0.0</td>\n",
       "      <td>0.0</td>\n",
       "      <td>0.0</td>\n",
       "      <td>...</td>\n",
       "      <td>0.0</td>\n",
       "      <td>0.0</td>\n",
       "      <td>0.0</td>\n",
       "      <td>0.0</td>\n",
       "      <td>0.0</td>\n",
       "      <td>0.0</td>\n",
       "      <td>0.0</td>\n",
       "      <td>0.0</td>\n",
       "      <td>0.0</td>\n",
       "      <td>0.0</td>\n",
       "    </tr>\n",
       "    <tr>\n",
       "      <th>1</th>\n",
       "      <td>1</td>\n",
       "      <td>0</td>\n",
       "      <td>0</td>\n",
       "      <td>1</td>\n",
       "      <td>0</td>\n",
       "      <td>0</td>\n",
       "      <td>0.0</td>\n",
       "      <td>0.0</td>\n",
       "      <td>0.0</td>\n",
       "      <td>0.0</td>\n",
       "      <td>...</td>\n",
       "      <td>0.0</td>\n",
       "      <td>0.0</td>\n",
       "      <td>0.0</td>\n",
       "      <td>0.0</td>\n",
       "      <td>0.0</td>\n",
       "      <td>0.0</td>\n",
       "      <td>0.0</td>\n",
       "      <td>0.0</td>\n",
       "      <td>0.0</td>\n",
       "      <td>0.0</td>\n",
       "    </tr>\n",
       "    <tr>\n",
       "      <th>2</th>\n",
       "      <td>1</td>\n",
       "      <td>0</td>\n",
       "      <td>1</td>\n",
       "      <td>0</td>\n",
       "      <td>0</td>\n",
       "      <td>0</td>\n",
       "      <td>0.0</td>\n",
       "      <td>0.0</td>\n",
       "      <td>0.0</td>\n",
       "      <td>0.0</td>\n",
       "      <td>...</td>\n",
       "      <td>0.0</td>\n",
       "      <td>0.0</td>\n",
       "      <td>0.0</td>\n",
       "      <td>0.0</td>\n",
       "      <td>0.0</td>\n",
       "      <td>0.0</td>\n",
       "      <td>0.0</td>\n",
       "      <td>0.0</td>\n",
       "      <td>0.0</td>\n",
       "      <td>0.0</td>\n",
       "    </tr>\n",
       "    <tr>\n",
       "      <th>3</th>\n",
       "      <td>1</td>\n",
       "      <td>0</td>\n",
       "      <td>0</td>\n",
       "      <td>1</td>\n",
       "      <td>0</td>\n",
       "      <td>0</td>\n",
       "      <td>0.0</td>\n",
       "      <td>0.0</td>\n",
       "      <td>0.0</td>\n",
       "      <td>0.0</td>\n",
       "      <td>...</td>\n",
       "      <td>0.0</td>\n",
       "      <td>0.0</td>\n",
       "      <td>0.0</td>\n",
       "      <td>0.0</td>\n",
       "      <td>0.0</td>\n",
       "      <td>0.0</td>\n",
       "      <td>0.0</td>\n",
       "      <td>0.0</td>\n",
       "      <td>0.0</td>\n",
       "      <td>0.0</td>\n",
       "    </tr>\n",
       "    <tr>\n",
       "      <th>4</th>\n",
       "      <td>0</td>\n",
       "      <td>1</td>\n",
       "      <td>0</td>\n",
       "      <td>0</td>\n",
       "      <td>1</td>\n",
       "      <td>0</td>\n",
       "      <td>0.0</td>\n",
       "      <td>0.0</td>\n",
       "      <td>0.0</td>\n",
       "      <td>0.0</td>\n",
       "      <td>...</td>\n",
       "      <td>0.0</td>\n",
       "      <td>0.0</td>\n",
       "      <td>0.0</td>\n",
       "      <td>0.0</td>\n",
       "      <td>0.0</td>\n",
       "      <td>0.0</td>\n",
       "      <td>0.0</td>\n",
       "      <td>0.0</td>\n",
       "      <td>0.0</td>\n",
       "      <td>0.0</td>\n",
       "    </tr>\n",
       "  </tbody>\n",
       "</table>\n",
       "<p>5 rows × 3715 columns</p>\n",
       "</div>"
      ],
      "text/plain": [
       "   tweet_brand_Apple  tweet_brand_Google  tweet_type_product  tweet_type_app  \\\n",
       "0                  1                   0                   1               0   \n",
       "1                  1                   0                   0               1   \n",
       "2                  1                   0                   1               0   \n",
       "3                  1                   0                   0               1   \n",
       "4                  0                   1                   0               0   \n",
       "\n",
       "   tweet_type_brand  tweet_type_service  aapl   ab  abc  ability  ...  zazzle  \\\n",
       "0                 0                   0   0.0  0.0  0.0      0.0  ...     0.0   \n",
       "1                 0                   0   0.0  0.0  0.0      0.0  ...     0.0   \n",
       "2                 0                   0   0.0  0.0  0.0      0.0  ...     0.0   \n",
       "3                 0                   0   0.0  0.0  0.0      0.0  ...     0.0   \n",
       "4                 1                   0   0.0  0.0  0.0      0.0  ...     0.0   \n",
       "\n",
       "   zinio  zip  zms  zombie  zomg  zone  zoom  zuckerberg  zynga  \n",
       "0    0.0  0.0  0.0     0.0   0.0   0.0   0.0         0.0    0.0  \n",
       "1    0.0  0.0  0.0     0.0   0.0   0.0   0.0         0.0    0.0  \n",
       "2    0.0  0.0  0.0     0.0   0.0   0.0   0.0         0.0    0.0  \n",
       "3    0.0  0.0  0.0     0.0   0.0   0.0   0.0         0.0    0.0  \n",
       "4    0.0  0.0  0.0     0.0   0.0   0.0   0.0         0.0    0.0  \n",
       "\n",
       "[5 rows x 3715 columns]"
      ]
     },
     "execution_count": 124,
     "metadata": {},
     "output_type": "execute_result"
    }
   ],
   "source": [
    "X_test_full.head()"
   ]
  },
  {
   "cell_type": "code",
   "execution_count": 125,
   "metadata": {},
   "outputs": [
    {
     "data": {
      "text/plain": [
       "MultinomialNB(alpha=1.0, class_prior=None, fit_prior=True)"
      ]
     },
     "execution_count": 125,
     "metadata": {},
     "output_type": "execute_result"
    }
   ],
   "source": [
    "nb = MultinomialNB()\n",
    "nb.fit(X_train_full, y_train)"
   ]
  },
  {
   "cell_type": "code",
   "execution_count": 126,
   "metadata": {},
   "outputs": [
    {
     "name": "stdout",
     "output_type": "stream",
     "text": [
      "Accuracy:0.5741311042674879\n",
      "Precision:0.34108527131782945\n",
      "F1 Score:0.31249999999999994\n"
     ]
    },
    {
     "data": {
      "image/png": "[encoded data removed]",
      "text/plain": [
       "<Figure size 432x288 with 2 Axes>"
      ]
     },
     "metadata": {
      "needs_background": "light"
     },
     "output_type": "display_data"
    }
   ],
   "source": [
    "train_preds = nb.predict(X_train_full)\n",
    "test_preds = nb.predict(X_test_full)\n",
    "\n",
    "print(f'Accuracy:{accuracy_score(y_test, test_preds)}')\n",
    "print(f'Precision:{precision_score(y_test, test_preds)}')\n",
    "print(f'F1 Score:{f1_score(y_test, test_preds)}')\n",
    "plot_confusion_matrix(nb, X_test_full, y_test,\n",
    "                      values_format=\".4g\")  # to make numbers readable\n",
    "plt.show()"
   ]
  },
  {
   "cell_type": "markdown",
   "metadata": {},
   "source": [
    "## RF?"
   ]
  },
  {
   "cell_type": "code",
   "execution_count": 127,
   "metadata": {},
   "outputs": [
    {
     "data": {
      "text/plain": [
       "RandomForestClassifier(bootstrap=True, ccp_alpha=0.0, class_weight='balanced',\n",
       "                       criterion='gini', max_depth=None, max_features='auto',\n",
       "                       max_leaf_nodes=None, max_samples=None,\n",
       "                       min_impurity_decrease=0.0, min_impurity_split=None,\n",
       "                       min_samples_leaf=1, min_samples_split=2,\n",
       "                       min_weight_fraction_leaf=0.0, n_estimators=100,\n",
       "                       n_jobs=None, oob_score=False, random_state=None,\n",
       "                       verbose=0, warm_start=False)"
      ]
     },
     "execution_count": 127,
     "metadata": {},
     "output_type": "execute_result"
    }
   ],
   "source": [
    "# Try RandomForest with class balance (not used in previous models)\n",
    "rfc = RandomForestClassifier(class_weight='balanced')\n",
    "rfc.fit(X_train_full, y_train)"
   ]
  },
  {
   "cell_type": "code",
   "execution_count": 128,
   "metadata": {},
   "outputs": [
    {
     "name": "stdout",
     "output_type": "stream",
     "text": [
      "Accuracy:0.6608007039155301\n",
      "Precision:0.3888888888888889\n",
      "F1 Score:0.035043804755944936\n"
     ]
    },
    {
     "data": {
      "image/png": "[encoded data removed]",
      "text/plain": [
       "<Figure size 432x288 with 2 Axes>"
      ]
     },
     "metadata": {
      "needs_background": "light"
     },
     "output_type": "display_data"
    }
   ],
   "source": [
    "train_preds = rfc.predict(X_train_full)\n",
    "test_preds = rfc.predict(X_test_full)\n",
    "\n",
    "print(f'Accuracy:{accuracy_score(y_test, test_preds)}')\n",
    "print(f'Precision:{precision_score(y_test, test_preds)}')\n",
    "print(f'F1 Score:{f1_score(y_test, test_preds)}')\n",
    "plot_confusion_matrix(nb, X_test_full, y_test,\n",
    "                      values_format=\".4g\")  # to make numbers readable\n",
    "plt.show()"
   ]
  },
  {
   "cell_type": "markdown",
   "metadata": {},
   "source": [
    "### Word2Vec"
   ]
  },
  {
   "cell_type": "code",
   "execution_count": 134,
   "metadata": {},
   "outputs": [],
   "source": [
    "from gensim.models import Word2Vec\n",
    "from nltk import word_tokenize\n",
    "import nltk"
   ]
  },
  {
   "cell_type": "code",
   "execution_count": 135,
   "metadata": {},
   "outputs": [
    {
     "name": "stderr",
     "output_type": "stream",
     "text": [
      "[nltk_data] Downloading package punkt to\n",
      "[nltk_data]     /Users/amandagaeta/nltk_data...\n",
      "[nltk_data]   Unzipping tokenizers/punkt.zip.\n"
     ]
    },
    {
     "data": {
      "text/plain": [
       "True"
      ]
     },
     "execution_count": 135,
     "metadata": {},
     "output_type": "execute_result"
    }
   ],
   "source": [
    "nltk.download('punkt')"
   ]
  },
  {
   "cell_type": "code",
   "execution_count": 131,
   "metadata": {},
   "outputs": [
    {
     "data": {
      "text/plain": [
       "0       .@wesley83 I have a 3G iPhone. After 3 hrs twe...\n",
       "1       @jessedee Know about @fludapp ? Awesome iPad/i...\n",
       "2       @swonderlin Can not wait for #iPad 2 also. The...\n",
       "3       @sxsw I hope this year's festival isn't as cra...\n",
       "4       @sxtxstate great stuff on Fri #SXSW: Marissa M...\n",
       "                              ...                        \n",
       "9087                        Ipad everywhere. #SXSW {link}\n",
       "9088    Wave, buzz... RT @mention We interrupt your re...\n",
       "9089    Google's Zeiger, a physician never reported po...\n",
       "9090    Some Verizon iPhone customers complained their...\n",
       "9091    Ï¡Ïàü_ÊÎÒ£Áââ_£â_ÛâRT @...\n",
       "Name: tweet_text, Length: 9092, dtype: object"
      ]
     },
     "execution_count": 131,
     "metadata": {},
     "output_type": "execute_result"
    }
   ],
   "source": [
    "df['tweet_text']"
   ]
  },
  {
   "cell_type": "code",
   "execution_count": 138,
   "metadata": {},
   "outputs": [],
   "source": [
    "data_no_punc = df['tweet_text'].apply(lambda x: re.sub(r'[^\\w\\s]', '', (x)))"
   ]
  },
  {
   "cell_type": "code",
   "execution_count": 141,
   "metadata": {},
   "outputs": [],
   "source": [
    "data_tokenized = data_no_punc.astype('str').map(word_tokenize)"
   ]
  },
  {
   "cell_type": "code",
   "execution_count": 142,
   "metadata": {},
   "outputs": [
    {
     "data": {
      "text/plain": [
       "0    [wesley83, I, have, a, 3G, iPhone, After, 3, h...\n",
       "1    [jessedee, Know, about, fludapp, Awesome, iPad...\n",
       "2    [swonderlin, Can, not, wait, for, iPad, 2, als...\n",
       "3    [sxsw, I, hope, this, years, festival, isnt, a...\n",
       "4    [sxtxstate, great, stuff, on, Fri, SXSW, Maris...\n",
       "Name: tweet_text, dtype: object"
      ]
     },
     "execution_count": 142,
     "metadata": {},
     "output_type": "execute_result"
    }
   ],
   "source": [
    "data_tokenized[:5]"
   ]
  },
  {
   "cell_type": "code",
   "execution_count": 144,
   "metadata": {},
   "outputs": [],
   "source": [
    "model = Word2Vec(data, vector_size=100, window=5, min_count=1, workers=4)"
   ]
  },
  {
   "cell_type": "code",
   "execution_count": 145,
   "metadata": {},
   "outputs": [
    {
     "data": {
      "text/plain": [
       "(1425027, 2218320)"
      ]
     },
     "execution_count": 145,
     "metadata": {},
     "output_type": "execute_result"
    }
   ],
   "source": [
    "model.train(data, total_examples=model.corpus_count, epochs=10)"
   ]
  },
  {
   "cell_type": "code",
   "execution_count": 146,
   "metadata": {},
   "outputs": [],
   "source": [
    "wv = model.wv"
   ]
  },
  {
   "cell_type": "code",
   "execution_count": 149,
   "metadata": {
    "scrolled": true
   },
   "outputs": [
    {
     "data": {
      "text/plain": [
       "[('SXSW', 0.789685070514679),\n",
       " ('SxSW', 0.752503514289856),\n",
       " ('uncategorized', 0.6480029821395874),\n",
       " ('cbs', 0.6120305061340332),\n",
       " ('randomactofkindness', 0.6114920973777771),\n",
       " ('designflaws', 0.5963109135627747),\n",
       " ('widfy', 0.5957539677619934),\n",
       " ('edapps', 0.5851917266845703),\n",
       " ('concerts', 0.5820796489715576),\n",
       " ('so..debuting', 0.5789573192596436)]"
      ]
     },
     "execution_count": 149,
     "metadata": {},
     "output_type": "execute_result"
    }
   ],
   "source": [
    "wv.most_similar('sxsw')"
   ]
  },
  {
   "cell_type": "markdown",
   "metadata": {},
   "source": [
    "#### Try again"
   ]
  },
  {
   "cell_type": "code",
   "execution_count": 152,
   "metadata": {},
   "outputs": [],
   "source": [
    "model2 = Word2Vec(data, vector_size=100, window=2, min_count=450 , workers=4) \n",
    "# min count is 5% of total records\n",
    "# window 2 because tweets are short"
   ]
  },
  {
   "cell_type": "code",
   "execution_count": 153,
   "metadata": {},
   "outputs": [
    {
     "data": {
      "text/plain": [
       "(363758, 2218320)"
      ]
     },
     "execution_count": 153,
     "metadata": {},
     "output_type": "execute_result"
    }
   ],
   "source": [
    "model2.train(data, total_examples=model.corpus_count, epochs=10)"
   ]
  },
  {
   "cell_type": "code",
   "execution_count": 154,
   "metadata": {},
   "outputs": [],
   "source": [
    "wv2 = model2.wv"
   ]
  },
  {
   "cell_type": "code",
   "execution_count": 155,
   "metadata": {
    "scrolled": false
   },
   "outputs": [
    {
     "data": {
      "text/plain": [
       "[('SXSW', 0.8534931540489197),\n",
       " ('it', 0.32851678133010864),\n",
       " ('and', 0.3047853708267212),\n",
       " ('...', 0.29774436354637146),\n",
       " ('on', 0.2849596440792084),\n",
       " ('new', 0.2756124436855316),\n",
       " ('you', 0.2630952298641205),\n",
       " ('that', 0.249092236161232),\n",
       " (\"n't\", 0.24382586777210236),\n",
       " ('.', 0.24077098071575165)]"
      ]
     },
     "execution_count": 155,
     "metadata": {},
     "output_type": "execute_result"
    }
   ],
   "source": [
    "wv2.most_similar('sxsw')"
   ]
  },
  {
   "cell_type": "markdown",
   "metadata": {},
   "source": [
    "#### Try again with clean_text"
   ]
  },
  {
   "cell_type": "code",
   "execution_count": null,
   "metadata": {},
   "outputs": [],
   "source": [
    "# need to get clean-text back to tokenized version\n",
    "# you reran the top through tokenization then ran this"
   ]
  },
  {
   "cell_type": "code",
   "execution_count": 334,
   "metadata": {},
   "outputs": [],
   "source": [
    "model3 = Word2Vec(df['clean_text'], vector_size=100, window=5, min_count=1, workers=4)"
   ]
  },
  {
   "cell_type": "code",
   "execution_count": 335,
   "metadata": {},
   "outputs": [
    {
     "data": {
      "text/plain": [
       "(657336, 774570)"
      ]
     },
     "execution_count": 335,
     "metadata": {},
     "output_type": "execute_result"
    }
   ],
   "source": [
    "model3.train(df['clean_text'], total_examples=model.corpus_count, epochs=10)"
   ]
  },
  {
   "cell_type": "code",
   "execution_count": 336,
   "metadata": {},
   "outputs": [],
   "source": [
    "wv3 = model3.wv"
   ]
  },
  {
   "cell_type": "code",
   "execution_count": 341,
   "metadata": {
    "scrolled": true
   },
   "outputs": [
    {
     "data": {
      "text/plain": [
       "[('googles', 0.8908447623252869),\n",
       " ('ht', 0.8862664103507996),\n",
       " ('integrated', 0.8855570554733276),\n",
       " ('engines', 0.8805169463157654),\n",
       " ('linking', 0.8790125250816345),\n",
       " ('wary', 0.8756849765777588),\n",
       " ('averages', 0.8728684782981873),\n",
       " ('chatter', 0.8725588917732239),\n",
       " ('publicly', 0.8715401291847229),\n",
       " ('presented', 0.8694307804107666)]"
      ]
     },
     "execution_count": 341,
     "metadata": {},
     "output_type": "execute_result"
    }
   ],
   "source": [
    "wv3.most_similar('google')"
   ]
  },
  {
   "cell_type": "code",
   "execution_count": 347,
   "metadata": {},
   "outputs": [
    {
     "data": {
      "text/plain": [
       "[('temporary', 0.9836650490760803),\n",
       " ('downtown', 0.9728882908821106),\n",
       " ('opening', 0.9710062742233276),\n",
       " ('temp', 0.962662935256958),\n",
       " ('sell', 0.9533684849739075),\n",
       " ('sets', 0.9513949155807495),\n",
       " ('dt', 0.949607253074646),\n",
       " ('earbuds', 0.9453362226486206),\n",
       " ('near', 0.9447932839393616),\n",
       " ('theyll', 0.9428122639656067)]"
      ]
     },
     "execution_count": 347,
     "metadata": {},
     "output_type": "execute_result"
    }
   ],
   "source": [
    "wv3.most_similar('atx')"
   ]
  },
  {
   "cell_type": "markdown",
   "metadata": {},
   "source": [
    "#### More epochs"
   ]
  },
  {
   "cell_type": "code",
   "execution_count": 350,
   "metadata": {},
   "outputs": [],
   "source": [
    "model4 = Word2Vec(df['clean_text'], vector_size=100, window=5, min_count=1, workers=4, epochs=25)"
   ]
  },
  {
   "cell_type": "code",
   "execution_count": 352,
   "metadata": {},
   "outputs": [
    {
     "data": {
      "text/plain": [
       "(657336, 774570)"
      ]
     },
     "execution_count": 352,
     "metadata": {},
     "output_type": "execute_result"
    }
   ],
   "source": [
    "model4.train(df['clean_text'], total_examples=model.corpus_count, epochs=10)"
   ]
  },
  {
   "cell_type": "code",
   "execution_count": 353,
   "metadata": {},
   "outputs": [],
   "source": [
    "wv4 = model4.wv"
   ]
  },
  {
   "cell_type": "code",
   "execution_count": 354,
   "metadata": {
    "scrolled": true
   },
   "outputs": [
    {
     "data": {
      "text/plain": [
       "[('googles', 0.701808750629425),\n",
       " ('privacy', 0.5899797081947327),\n",
       " ('overthere', 0.5784167647361755),\n",
       " ('interested', 0.5727440118789673),\n",
       " ('joint', 0.5705278515815735),\n",
       " ('announcing', 0.565869152545929),\n",
       " ('thunder', 0.5540748238563538),\n",
       " ('penney', 0.5531365871429443),\n",
       " ('euphoria', 0.5488601326942444),\n",
       " ('competing', 0.5458197593688965)]"
      ]
     },
     "execution_count": 354,
     "metadata": {},
     "output_type": "execute_result"
    }
   ],
   "source": [
    "wv4.most_similar('google')"
   ]
  },
  {
   "cell_type": "code",
   "execution_count": 355,
   "metadata": {},
   "outputs": [
    {
     "data": {
      "text/plain": [
       "[('apples', 0.7107737064361572),\n",
       " ('near', 0.6490306854248047),\n",
       " ('thcongress', 0.6468674540519714),\n",
       " ('hawk', 0.6355769634246826),\n",
       " ('influencerhipsters', 0.6253543496131897),\n",
       " ('bother', 0.6244949698448181),\n",
       " ('naomi', 0.6214144825935364),\n",
       " ('employees', 0.618522047996521),\n",
       " ('sell', 0.616887629032135),\n",
       " ('golds', 0.6154829859733582)]"
      ]
     },
     "execution_count": 355,
     "metadata": {},
     "output_type": "execute_result"
    }
   ],
   "source": [
    "wv4.most_similar('apple')"
   ]
  },
  {
   "cell_type": "code",
   "execution_count": 356,
   "metadata": {},
   "outputs": [
    {
     "data": {
      "text/plain": [
       "[('cars', 0.5629299283027649),\n",
       " ('audi', 0.5485613346099854),\n",
       " ('storethe', 0.5356596112251282),\n",
       " ('ipaded', 0.5292361378669739),\n",
       " ('shows', 0.5267095565795898),\n",
       " ('fridaythe', 0.5251169800758362),\n",
       " ('bizgym', 0.5241237282752991),\n",
       " ('sxsws', 0.5201442241668701),\n",
       " ('closes', 0.5048100352287292),\n",
       " ('welcome', 0.4991130232810974)]"
      ]
     },
     "execution_count": 356,
     "metadata": {},
     "output_type": "execute_result"
    }
   ],
   "source": [
    "wv4.most_similar('sxsw')"
   ]
  },
  {
   "cell_type": "code",
   "execution_count": 362,
   "metadata": {},
   "outputs": [
    {
     "data": {
      "text/plain": [
       "[('relinquish', 0.796271026134491),\n",
       " ('temporary', 0.7684605121612549),\n",
       " ('temporarily', 0.7678585052490234),\n",
       " ('bajillions', 0.766416609287262),\n",
       " ('temp', 0.757723331451416),\n",
       " ('nightapple', 0.7518656849861145),\n",
       " ('dt', 0.7511090636253357),\n",
       " ('downtown', 0.7384350895881653),\n",
       " ('international', 0.7307410836219788),\n",
       " ('slightly', 0.7240878939628601)]"
      ]
     },
     "execution_count": 362,
     "metadata": {},
     "output_type": "execute_result"
    }
   ],
   "source": [
    "wv4.most_similar('atx')"
   ]
  },
  {
   "cell_type": "code",
   "execution_count": null,
   "metadata": {},
   "outputs": [],
   "source": [
    "#### More Exploring\n",
    "# Source: codealong\n",
    "# https://flatiron.illumidesk.com/user/amandabgaeta/notebooks/dsc-classification-with-word-embeddings-codealong/index.ipynb"
   ]
  },
  {
   "cell_type": "code",
   "execution_count": 41,
   "metadata": {},
   "outputs": [],
   "source": [
    "total_vocabulary_clean = set(word for tweet in df['clean_text'] for word in tweet)"
   ]
  },
  {
   "cell_type": "code",
   "execution_count": 42,
   "metadata": {},
   "outputs": [
    {
     "data": {
      "text/plain": [
       "{'movies',\n",
       " 'preferrably',\n",
       " 'brought',\n",
       " 'dorks',\n",
       " 'a',\n",
       " 'siggis',\n",
       " 'departure',\n",
       " 'conflict',\n",
       " 'skiiers',\n",
       " 'foot',\n",
       " 'amy',\n",
       " 'gourdoughs',\n",
       " 'alarms',\n",
       " 'swoon',\n",
       " 'insanely',\n",
       " 'holy',\n",
       " 'feeback',\n",
       " 'noobs',\n",
       " 'blackberr',\n",
       " 'selfserve',\n",
       " 'saver',\n",
       " 'buddy',\n",
       " 'egyptian',\n",
       " 'arsense',\n",
       " 'jukebox',\n",
       " 'upcoming',\n",
       " 'overheating',\n",
       " 'franco',\n",
       " 'estate',\n",
       " 'bounced',\n",
       " 'matter',\n",
       " 'jim',\n",
       " 'smilebooth',\n",
       " 'webmasters',\n",
       " 'fees',\n",
       " 'born',\n",
       " 'wristbands',\n",
       " 'initial',\n",
       " 'smartest',\n",
       " 'humpty',\n",
       " 'anyone',\n",
       " 'hiring',\n",
       " 'grandfather',\n",
       " 'gonna',\n",
       " 'sim',\n",
       " 'creativity',\n",
       " 'peeingthis',\n",
       " 'wilderness',\n",
       " 'nextflix',\n",
       " 'momi',\n",
       " 'breaking',\n",
       " 'disgusted',\n",
       " 'amazes',\n",
       " 'auto',\n",
       " 'leh',\n",
       " 'chat',\n",
       " 'xbox',\n",
       " 'air',\n",
       " 'topics',\n",
       " 'hoy',\n",
       " 'charts',\n",
       " 'seduce',\n",
       " 'thousands',\n",
       " 'parents',\n",
       " 'ding',\n",
       " 'small',\n",
       " 'whore',\n",
       " 'domain',\n",
       " 'hurricane',\n",
       " 'citymarket',\n",
       " 'funnysad',\n",
       " 'seo',\n",
       " 'smut',\n",
       " 'stereo',\n",
       " 'powerhouse',\n",
       " 'drafthouse',\n",
       " 'carriers',\n",
       " 'facts',\n",
       " 'thewildernessdowntowncom',\n",
       " 'pic',\n",
       " 'barton',\n",
       " 'austinjs',\n",
       " 'route',\n",
       " 'damn',\n",
       " 'tristan',\n",
       " 'calculation',\n",
       " 'wondering',\n",
       " 'linux',\n",
       " 'stopping',\n",
       " 'quarter',\n",
       " 'overshadowing',\n",
       " 'somewhere',\n",
       " 'gifting',\n",
       " 'cusits',\n",
       " 'verification',\n",
       " 'specific',\n",
       " 'tweetie',\n",
       " 'nprgoogle',\n",
       " 'pods',\n",
       " 'unadulterated',\n",
       " 'gaga',\n",
       " 'development',\n",
       " 'water',\n",
       " 'picplz',\n",
       " 'energy',\n",
       " 'bodyaches',\n",
       " 'locationbased',\n",
       " 'wrapper',\n",
       " 'hd',\n",
       " 'sandwiched',\n",
       " 'pigs',\n",
       " 'branded',\n",
       " 'quarantined',\n",
       " 'firefighter',\n",
       " 'qa',\n",
       " 'cartoonishly',\n",
       " 'desktops',\n",
       " 'sampler',\n",
       " 'context',\n",
       " 'skewed',\n",
       " 'response',\n",
       " 'isis',\n",
       " 'flipcam',\n",
       " 'tvs',\n",
       " 'founded',\n",
       " 'novit',\n",
       " 'lovely',\n",
       " 'mandy',\n",
       " 'driveby',\n",
       " 'ballrooms',\n",
       " 'perfect',\n",
       " 'recreated',\n",
       " 'jose',\n",
       " 'cents',\n",
       " 'multi',\n",
       " 'girl',\n",
       " 'whatever',\n",
       " 'photobooth',\n",
       " 'trackpads',\n",
       " 'rises',\n",
       " 'behavior',\n",
       " 'frozen',\n",
       " 'unboxing',\n",
       " 'paper',\n",
       " 'framework',\n",
       " 'correct',\n",
       " 'daftary',\n",
       " 'whiteboard',\n",
       " 'swisher',\n",
       " 'productive',\n",
       " 'jon',\n",
       " 'bat',\n",
       " 'bot',\n",
       " 'grt',\n",
       " 'hearing',\n",
       " 'chairs',\n",
       " 'shea',\n",
       " 'superhappydevhouse',\n",
       " 'test',\n",
       " 'notes',\n",
       " 'brah',\n",
       " 'festivities',\n",
       " 'proceeds',\n",
       " 'surui',\n",
       " 'competitor',\n",
       " 'overheard',\n",
       " 'lie',\n",
       " 'deliciously',\n",
       " 'bull',\n",
       " 'passport',\n",
       " 'proprietary',\n",
       " 'linney',\n",
       " 'prepared',\n",
       " 'sthemed',\n",
       " 'fb',\n",
       " 'sites',\n",
       " 'specials',\n",
       " 'siva',\n",
       " 'evrs',\n",
       " 'appreciated',\n",
       " 'charger',\n",
       " 'waffling',\n",
       " 'standard',\n",
       " 'latest',\n",
       " 'wise',\n",
       " 'ready',\n",
       " 'single',\n",
       " 'poopoos',\n",
       " 'tipb',\n",
       " 'rdstore',\n",
       " 'finly',\n",
       " 'nowand',\n",
       " 'arab',\n",
       " 'tg',\n",
       " 'boxes',\n",
       " 'mall',\n",
       " 'playground',\n",
       " 'heaving',\n",
       " 'exists',\n",
       " 'impromptu',\n",
       " 'notwithstanding',\n",
       " 'degrading',\n",
       " 'writeup',\n",
       " 'emerging',\n",
       " 'digg',\n",
       " 'inflatable',\n",
       " 'aristotle',\n",
       " 'wot',\n",
       " 'loungecontact',\n",
       " 'shark',\n",
       " 'high',\n",
       " 'limo',\n",
       " 'suffering',\n",
       " 'crashing',\n",
       " 'quote',\n",
       " 'accidentally',\n",
       " 'iphonemaking',\n",
       " 'flava',\n",
       " 'donate',\n",
       " 'positives',\n",
       " 'richdeep',\n",
       " 'oryou',\n",
       " 'continuum',\n",
       " 'farmville',\n",
       " 'songs',\n",
       " 'liver',\n",
       " 'enchanted',\n",
       " 'mashable',\n",
       " 'laughed',\n",
       " 'potential',\n",
       " 'eod',\n",
       " 'replace',\n",
       " 'cobra',\n",
       " 'obnoxiously',\n",
       " 'btw',\n",
       " 'margin',\n",
       " 'workers',\n",
       " 'bernard',\n",
       " 'podcast',\n",
       " 'rhubarb',\n",
       " 'yo',\n",
       " 'microformat',\n",
       " 'ipadipad',\n",
       " 'tasks',\n",
       " 'plan',\n",
       " 'eyes',\n",
       " 'values',\n",
       " 'hotelonly',\n",
       " 'passes',\n",
       " 'mostly',\n",
       " 'arsenal',\n",
       " 'umm',\n",
       " 'casepouch',\n",
       " 'sneaky',\n",
       " 'bracket',\n",
       " 'httplink',\n",
       " 'budget',\n",
       " 'upgrade',\n",
       " 'ticket',\n",
       " 'istock',\n",
       " 'previewing',\n",
       " 'chime',\n",
       " 'siliconvalley',\n",
       " 'dear',\n",
       " 'trajan',\n",
       " 'locationaware',\n",
       " 'enuf',\n",
       " 'quitted',\n",
       " 'health',\n",
       " 'connected',\n",
       " 'writer',\n",
       " 'bulletproof',\n",
       " 'tracy',\n",
       " 'innacurate',\n",
       " 'boolean',\n",
       " 'sitbyus',\n",
       " 'soul',\n",
       " 'ebay',\n",
       " 'waitress',\n",
       " 'dog',\n",
       " 'swapping',\n",
       " 'technical',\n",
       " 'sells',\n",
       " 'yet',\n",
       " 'tells',\n",
       " 'guerrilla',\n",
       " 'mrs',\n",
       " 'option',\n",
       " 'customers',\n",
       " 'ft',\n",
       " 'built',\n",
       " 'considered',\n",
       " 'organic',\n",
       " 'taunt',\n",
       " 'louis',\n",
       " 'txt',\n",
       " 'wout',\n",
       " 'blue',\n",
       " 'fundamental',\n",
       " 'marcelosomers',\n",
       " 'rock',\n",
       " 'sum',\n",
       " 'dodo',\n",
       " 'appropriately',\n",
       " 'crashes',\n",
       " 'youll',\n",
       " 'decal',\n",
       " 'thinks',\n",
       " 'dawdled',\n",
       " 'gotten',\n",
       " 'z',\n",
       " 'whose',\n",
       " 'thwarted',\n",
       " 'mentioned',\n",
       " 'ipaderson',\n",
       " 'shat',\n",
       " 'selfishness',\n",
       " 'peak',\n",
       " 'saved',\n",
       " 'anybody',\n",
       " 'gettinng',\n",
       " 'employers',\n",
       " 'wkd',\n",
       " 'amalgamation',\n",
       " 'site',\n",
       " 'multiplicity',\n",
       " 'strikes',\n",
       " 'touredshaping',\n",
       " 'omg',\n",
       " 'stocking',\n",
       " 'organizer',\n",
       " 'highlight',\n",
       " 'hootsuite',\n",
       " 'patients',\n",
       " 'decent',\n",
       " 'carry',\n",
       " 'beast',\n",
       " 'farooqui',\n",
       " 'rpg',\n",
       " 'break',\n",
       " 'scepticism',\n",
       " 'burn',\n",
       " 'environmental',\n",
       " 'worse',\n",
       " 'iphoneintoilet',\n",
       " 'personalizing',\n",
       " 'tabs',\n",
       " 'clicked',\n",
       " 'payment',\n",
       " 'volunteers',\n",
       " 'genentech',\n",
       " 'incognito',\n",
       " 'deviantart',\n",
       " 'scream',\n",
       " 'appdownloading',\n",
       " 'brian',\n",
       " 'instagram',\n",
       " 'maximum',\n",
       " 'older',\n",
       " 'flight',\n",
       " 'check',\n",
       " 'fitting',\n",
       " 'feed',\n",
       " 'aclus',\n",
       " 'busdev',\n",
       " 'ballrm',\n",
       " 'cards',\n",
       " 'smartphones',\n",
       " 'chose',\n",
       " 'fill',\n",
       " 'waiting',\n",
       " 'corporation',\n",
       " 'rimmed',\n",
       " 'artworks',\n",
       " 'devastating',\n",
       " 'rolled',\n",
       " 'played',\n",
       " 'tminus',\n",
       " 'yourmom',\n",
       " 'factors',\n",
       " 'rush',\n",
       " 'youd',\n",
       " 'burning',\n",
       " 'sleep',\n",
       " 'hint',\n",
       " 'costume',\n",
       " 'seriously',\n",
       " 'tingles',\n",
       " 'cocaine',\n",
       " 'lightboxcom',\n",
       " 'relief',\n",
       " 'lifetime',\n",
       " 'mavis',\n",
       " 'going',\n",
       " 'fallen',\n",
       " 'restraunts',\n",
       " 'believes',\n",
       " 'guest',\n",
       " 'curation',\n",
       " 'grindr',\n",
       " 'mbp',\n",
       " 'competition',\n",
       " 'problems',\n",
       " 'scope',\n",
       " 'fellow',\n",
       " 'zms',\n",
       " 'rebecca',\n",
       " 'belies',\n",
       " 'pinball',\n",
       " 'alphabetically',\n",
       " 'unlockable',\n",
       " 'rave',\n",
       " 'calling',\n",
       " 'invest',\n",
       " 'bite',\n",
       " 'itunes',\n",
       " 'compilation',\n",
       " 'eminent',\n",
       " 'blinksale',\n",
       " 'jobs',\n",
       " 'general',\n",
       " 'schooling',\n",
       " 'submitted',\n",
       " 'nadya',\n",
       " 'throttled',\n",
       " 'seem',\n",
       " 'doityourself',\n",
       " 'chimpit',\n",
       " 'entrepreneurial',\n",
       " 'trinity',\n",
       " 'hometown',\n",
       " 'quantity',\n",
       " 'quotur',\n",
       " 'afari',\n",
       " 'trying',\n",
       " 'perimeter',\n",
       " 'responsibility',\n",
       " 'planning',\n",
       " 'marty',\n",
       " 'rewardstype',\n",
       " 'apis',\n",
       " 'connects',\n",
       " 'jl',\n",
       " 'anyways',\n",
       " 'grille',\n",
       " 'theyll',\n",
       " 'appearance',\n",
       " 'outlet',\n",
       " 'mashbash',\n",
       " 'arrived',\n",
       " 'southwest',\n",
       " 'beechwood',\n",
       " 'nyts',\n",
       " 'llet',\n",
       " 'hurrahthe',\n",
       " 'covered',\n",
       " 'meets',\n",
       " 'dictators',\n",
       " 'bbq',\n",
       " 'confess',\n",
       " 'focuses',\n",
       " 'conf',\n",
       " 'centre',\n",
       " 'smooshed',\n",
       " 'impressions',\n",
       " 'undoubtedly',\n",
       " 'cover',\n",
       " 'knock',\n",
       " 'wishing',\n",
       " 'helaas',\n",
       " 'begging',\n",
       " 'cupertino',\n",
       " 'massage',\n",
       " 'depressed',\n",
       " 'sighting',\n",
       " 'promise',\n",
       " 'realized',\n",
       " 'clients',\n",
       " 'tribute',\n",
       " 'bookselling',\n",
       " 'smittys',\n",
       " 'captured',\n",
       " 'hyatt',\n",
       " 'questionanswer',\n",
       " 'alpha',\n",
       " 'minutes',\n",
       " 'denied',\n",
       " 'sterling',\n",
       " 'whoops',\n",
       " 'ish',\n",
       " 'pacmans',\n",
       " 'critical',\n",
       " 'preferred',\n",
       " 'ff',\n",
       " 'handled',\n",
       " 'offerings',\n",
       " 'olds',\n",
       " 'pengen',\n",
       " 'encourages',\n",
       " 'covet',\n",
       " 'shake',\n",
       " 'sw',\n",
       " 'koblin',\n",
       " 'worms',\n",
       " 'minds',\n",
       " 'phoenix',\n",
       " 'sec',\n",
       " 'vodka',\n",
       " 'yelp',\n",
       " 'trade',\n",
       " 'chased',\n",
       " 'sorry',\n",
       " 'killn',\n",
       " 'bumped',\n",
       " 'thanksinstalled',\n",
       " 'dk',\n",
       " 'difficult',\n",
       " 'impulsive',\n",
       " 'todayfeels',\n",
       " 'perfectly',\n",
       " 'quietly',\n",
       " 'outsold',\n",
       " 'doc',\n",
       " 'couch',\n",
       " 'hahaha',\n",
       " 'gd',\n",
       " 'hashtags',\n",
       " 'style',\n",
       " 'math',\n",
       " 'crapkit',\n",
       " 'mayor',\n",
       " 'perserverance',\n",
       " 'meyers',\n",
       " 'human',\n",
       " 'bug',\n",
       " 'hates',\n",
       " 'interaction',\n",
       " 'alien',\n",
       " 'breakouts',\n",
       " 'packedyet',\n",
       " 'entertaining',\n",
       " 'tougher',\n",
       " 'two',\n",
       " 'board',\n",
       " 'tweeps',\n",
       " 'define',\n",
       " 'mascots',\n",
       " 'worth',\n",
       " 'creates',\n",
       " 'rabid',\n",
       " 'voices',\n",
       " 'perma',\n",
       " 'palestra',\n",
       " 'weird',\n",
       " 'celebs',\n",
       " 'settling',\n",
       " 'elapsed',\n",
       " 'three',\n",
       " 'hungry',\n",
       " 'taping',\n",
       " 'grooving',\n",
       " 'io',\n",
       " 'touch',\n",
       " 'age',\n",
       " 'raffling',\n",
       " 'megastore',\n",
       " 'utter',\n",
       " 'lend',\n",
       " 'remove',\n",
       " 'whither',\n",
       " 'ceo',\n",
       " 'augmented',\n",
       " 'cup',\n",
       " 'cord',\n",
       " 'escape',\n",
       " 'matt',\n",
       " 'recognition',\n",
       " 'tabletipad',\n",
       " 'codes',\n",
       " 'supply',\n",
       " 'crafty',\n",
       " 'cmon',\n",
       " 'ballroomd',\n",
       " 'soggy',\n",
       " 'wrapping',\n",
       " 'buried',\n",
       " 'solved',\n",
       " 'disgraceful',\n",
       " 'hs',\n",
       " 'gadget',\n",
       " 'lots',\n",
       " 'tech',\n",
       " 'earns',\n",
       " 'consciously',\n",
       " 'thingamajig',\n",
       " 'dieing',\n",
       " 'recycled',\n",
       " 'pitch',\n",
       " 'apartments',\n",
       " 'dash',\n",
       " 'carousel',\n",
       " 'theyre',\n",
       " 'abuzz',\n",
       " 'ears',\n",
       " 'banks',\n",
       " 'reconcile',\n",
       " 'prefer',\n",
       " 'navigating',\n",
       " 'dominance',\n",
       " 'crowed',\n",
       " 'autistic',\n",
       " 'audience',\n",
       " 'mt',\n",
       " 'snazzy',\n",
       " 'turn',\n",
       " 'twice',\n",
       " 'launches',\n",
       " 'protect',\n",
       " 'chan',\n",
       " 'tom',\n",
       " 'shindig',\n",
       " 'jazz',\n",
       " 'volt',\n",
       " 'gasps',\n",
       " 'lb',\n",
       " 'centers',\n",
       " 'pdparticle',\n",
       " 'emulates',\n",
       " 'imacs',\n",
       " 'plancast',\n",
       " 'caruse',\n",
       " 'hmmmm',\n",
       " 'exceeded',\n",
       " 'tweegosgoogle',\n",
       " 'flu',\n",
       " 'namely',\n",
       " 'leather',\n",
       " 'corner',\n",
       " 'streetvview',\n",
       " 'blks',\n",
       " 'dofollow',\n",
       " 'hooks',\n",
       " 'acknowledge',\n",
       " 'doucheput',\n",
       " 'visuals',\n",
       " 'pandora',\n",
       " 'fourth',\n",
       " 'mapping',\n",
       " 'destruction',\n",
       " 'coder',\n",
       " 'smoked',\n",
       " 'amount',\n",
       " 'jen',\n",
       " 'chord',\n",
       " 'hey',\n",
       " 'room',\n",
       " 'positively',\n",
       " 'um',\n",
       " 'bn',\n",
       " 'logic',\n",
       " 'shifts',\n",
       " 'checkins',\n",
       " 'tacos',\n",
       " 'impact',\n",
       " 'grabs',\n",
       " 'appbased',\n",
       " 'envisioning',\n",
       " 'policies',\n",
       " 'jealous',\n",
       " 'bursting',\n",
       " 'itinerary',\n",
       " 'imparted',\n",
       " 'thrilled',\n",
       " 'instead',\n",
       " 'shame',\n",
       " 'downer',\n",
       " 'kitkat',\n",
       " 'lunch',\n",
       " 'speakers',\n",
       " 'seriousness',\n",
       " 'loathe',\n",
       " 'rocksauce',\n",
       " 'floating',\n",
       " 'solution',\n",
       " 'ave',\n",
       " 'evo',\n",
       " 'hole',\n",
       " 'idea',\n",
       " 'otherwise',\n",
       " 'paywall',\n",
       " 'frustrated',\n",
       " 'steam',\n",
       " 'insanity',\n",
       " 'flattery',\n",
       " 'plans',\n",
       " 'found',\n",
       " 'study',\n",
       " 'brains',\n",
       " 'alamo',\n",
       " 'doesnt',\n",
       " 'priorities',\n",
       " 'survey',\n",
       " 'explorers',\n",
       " 'yeasayer',\n",
       " 'city',\n",
       " 'dynamics',\n",
       " 'want',\n",
       " 'bberry',\n",
       " 'dancinglink',\n",
       " 'gift',\n",
       " 'step',\n",
       " 'crossing',\n",
       " 'select',\n",
       " 'pi',\n",
       " 'melissa',\n",
       " 'constant',\n",
       " 'bump',\n",
       " 'enhancements',\n",
       " 'practitioners',\n",
       " 'clarity',\n",
       " 'twitgle',\n",
       " 'means',\n",
       " 'trend',\n",
       " 'draws',\n",
       " 'prob',\n",
       " 'filters',\n",
       " 'ubiquitous',\n",
       " 'figure',\n",
       " 'statuses',\n",
       " 'bings',\n",
       " 'sitter',\n",
       " 'lawn',\n",
       " 'shiny',\n",
       " 'zombies',\n",
       " 'studying',\n",
       " 'september',\n",
       " 'charles',\n",
       " 'exclusive',\n",
       " 'restaurantsrating',\n",
       " 'wil',\n",
       " 'newbies',\n",
       " 'ipadsrt',\n",
       " 'trumps',\n",
       " 'material',\n",
       " 'host',\n",
       " 'openminded',\n",
       " 'state',\n",
       " 'brand',\n",
       " 'need',\n",
       " 'jared',\n",
       " 'compared',\n",
       " 'computer',\n",
       " 'arrive',\n",
       " 'heard',\n",
       " 'stunning',\n",
       " 'starry',\n",
       " 'arcade',\n",
       " 'top',\n",
       " 'daylight',\n",
       " 'atleast',\n",
       " 'pbs',\n",
       " 'resting',\n",
       " 'penney',\n",
       " 'bizgym',\n",
       " 'backpack',\n",
       " 'que',\n",
       " 'gone',\n",
       " 'mealtime',\n",
       " 'stars',\n",
       " 'consumerists',\n",
       " 'capped',\n",
       " 'mike',\n",
       " 'owl',\n",
       " 'reality',\n",
       " 'prior',\n",
       " 'public',\n",
       " 'extolling',\n",
       " 'able',\n",
       " 'singing',\n",
       " 'startup',\n",
       " 'cabbie',\n",
       " 'foster',\n",
       " 'afteward',\n",
       " 'answers',\n",
       " 'californians',\n",
       " 'percentage',\n",
       " 'selfrespecting',\n",
       " 'election',\n",
       " 'ipaded',\n",
       " 'dropping',\n",
       " 'skepticism',\n",
       " 'interested',\n",
       " 'free',\n",
       " 'palsy',\n",
       " 'flairbuilder',\n",
       " 'mocked',\n",
       " 'unless',\n",
       " 'employed',\n",
       " 'announces',\n",
       " 'approach',\n",
       " 'spanishspeaking',\n",
       " 'cesar',\n",
       " 'recounts',\n",
       " 'porque',\n",
       " 'segment',\n",
       " 'twit',\n",
       " 'rad',\n",
       " 'ripping',\n",
       " 'golden',\n",
       " 'internets',\n",
       " 'phones',\n",
       " 'others',\n",
       " 'todaylink',\n",
       " 'signing',\n",
       " 'night',\n",
       " 'replaced',\n",
       " 'meal',\n",
       " 'trauma',\n",
       " 'signs',\n",
       " 'letter',\n",
       " 'friggen',\n",
       " 'fucker',\n",
       " 'behaviour',\n",
       " 'travel',\n",
       " 'miss',\n",
       " 'installing',\n",
       " 'doctor',\n",
       " 'clark',\n",
       " 'amid',\n",
       " 'nearing',\n",
       " 'preference',\n",
       " 'event',\n",
       " 'amigos',\n",
       " 'reporting',\n",
       " 'group',\n",
       " 'asset',\n",
       " 'conventionctr',\n",
       " 'pager',\n",
       " 'limited',\n",
       " 'surrounded',\n",
       " 'whimsical',\n",
       " 'dude',\n",
       " 'banksmoney',\n",
       " 'merely',\n",
       " 'peek',\n",
       " 'pagerank',\n",
       " 'buds',\n",
       " 'usefulness',\n",
       " 'innovative',\n",
       " 'deshi',\n",
       " 'circus',\n",
       " 'work',\n",
       " 'becomes',\n",
       " 'nfc',\n",
       " 'slightly',\n",
       " 'supposecheers',\n",
       " 'festgoers',\n",
       " 'boxing',\n",
       " 'shade',\n",
       " 'hotels',\n",
       " 'twitterstream',\n",
       " 'marathon',\n",
       " 'animation',\n",
       " 'wwwtokiicom',\n",
       " 'webmaster',\n",
       " 'coolaid',\n",
       " 'thursday',\n",
       " 'entire',\n",
       " 'posthootsuite',\n",
       " 'responses',\n",
       " 'circlestoday',\n",
       " 'david',\n",
       " 'heats',\n",
       " 'fast',\n",
       " 'dongle',\n",
       " 'across',\n",
       " 'spotting',\n",
       " 'excuse',\n",
       " 'aos',\n",
       " 'optimistic',\n",
       " 'taken',\n",
       " 'mountain',\n",
       " 'go',\n",
       " 'ask',\n",
       " 'fingerprint',\n",
       " 'hit',\n",
       " 'tessie',\n",
       " 'bikes',\n",
       " 'textbook',\n",
       " 'galleries',\n",
       " 'care',\n",
       " 'hows',\n",
       " 'usb',\n",
       " 'anoth',\n",
       " 'quibids',\n",
       " 'witty',\n",
       " 'mess',\n",
       " 'argument',\n",
       " 'fondling',\n",
       " 'k',\n",
       " 'iphonebroken',\n",
       " 'disrupt',\n",
       " 'technerds',\n",
       " 'judging',\n",
       " 'closures',\n",
       " 'passing',\n",
       " 'cream',\n",
       " 'figured',\n",
       " 'classics',\n",
       " 'neither',\n",
       " 'publicize',\n",
       " 'multichannel',\n",
       " 'uk',\n",
       " 'headed',\n",
       " 'grow',\n",
       " 'lobbying',\n",
       " 'demonstrating',\n",
       " 'coffee',\n",
       " 'flip',\n",
       " 'amthey',\n",
       " 'admob',\n",
       " 'wo',\n",
       " 'dialy',\n",
       " 'basecamp',\n",
       " 'exceeds',\n",
       " 'takeaway',\n",
       " 'mass',\n",
       " 'piping',\n",
       " 'minimaglight',\n",
       " 'exapple',\n",
       " 'fed',\n",
       " 'hang',\n",
       " 'location',\n",
       " 'wallace',\n",
       " 'times',\n",
       " 'quick',\n",
       " 'dad',\n",
       " 'screaming',\n",
       " 'enablers',\n",
       " 'watson',\n",
       " 'billion',\n",
       " 'juicing',\n",
       " 'dry',\n",
       " 'files',\n",
       " 'republic',\n",
       " 'come',\n",
       " 'rental',\n",
       " 'couple',\n",
       " 'sucks',\n",
       " 'fictitious',\n",
       " 'lame',\n",
       " 'named',\n",
       " 'ux',\n",
       " 'fires',\n",
       " 'nasts',\n",
       " 'liberty',\n",
       " 'economies',\n",
       " 'rainjacket',\n",
       " 'outside',\n",
       " 'borrowing',\n",
       " 'everybody',\n",
       " 'intrigued',\n",
       " 'hose',\n",
       " 'visa',\n",
       " 'strangers',\n",
       " 'attempt',\n",
       " 'attendance',\n",
       " 'diller',\n",
       " 'coolness',\n",
       " 'ceder',\n",
       " 'selection',\n",
       " 'yyz',\n",
       " 'millions',\n",
       " 'false',\n",
       " 'andoid',\n",
       " 'dvrs',\n",
       " 'onsulting',\n",
       " 'deep',\n",
       " 'americans',\n",
       " 'muffins',\n",
       " 'baracades',\n",
       " 'lookalike',\n",
       " 'laser',\n",
       " 'sketchy',\n",
       " 'square',\n",
       " 'snarky',\n",
       " 'c',\n",
       " 'celebrity',\n",
       " 'complement',\n",
       " 'wcaveats',\n",
       " 'john',\n",
       " 'keyboardmouse',\n",
       " 'even',\n",
       " 'dandy',\n",
       " 'travels',\n",
       " 'solves',\n",
       " 'ahhh',\n",
       " 'sick',\n",
       " 'heavenly',\n",
       " 'priceless',\n",
       " ...}"
      ]
     },
     "execution_count": 42,
     "metadata": {},
     "output_type": "execute_result"
    }
   ],
   "source": [
    "total_vocabulary_clean"
   ]
  },
  {
   "cell_type": "code",
   "execution_count": 371,
   "metadata": {},
   "outputs": [
    {
     "name": "stdout",
     "output_type": "stream",
     "text": [
      "There are 8660 unique tokens in the dataset.\n"
     ]
    }
   ],
   "source": [
    "len(total_vocabulary_clean)\n",
    "print('There are {} unique tokens in the dataset.'.format(len(total_vocabulary)))"
   ]
  },
  {
   "cell_type": "code",
   "execution_count": 377,
   "metadata": {},
   "outputs": [],
   "source": [
    "import numpy as np"
   ]
  },
  {
   "cell_type": "code",
   "execution_count": 378,
   "metadata": {},
   "outputs": [],
   "source": [
    "glove = {}\n",
    "with open('glove.6B.50d.txt', 'rb') as f:\n",
    "    for line in f:\n",
    "        parts = line.split()\n",
    "        word = parts[0].decode('utf-8')\n",
    "        if word in total_vocabulary:\n",
    "            vector = np.array(parts[1:], dtype=np.float32)\n",
    "            glove[word] = vector"
   ]
  },
  {
   "cell_type": "code",
   "execution_count": 384,
   "metadata": {},
   "outputs": [
    {
     "data": {
      "text/plain": [
       "array([-0.88499 ,  0.73486 ,  0.42771 ,  0.53152 , -0.33275 , -0.69202 ,\n",
       "       -1.3926  , -0.47548 ,  0.3105  , -0.35942 , -0.77389 , -0.088148,\n",
       "       -0.49413 , -0.24575 ,  0.27501 ,  0.0267  , -0.19364 ,  0.053011,\n",
       "       -0.19606 , -0.19697 , -0.22481 ,  0.61626 , -0.21885 ,  0.48354 ,\n",
       "       -0.31253 , -0.82742 , -0.14236 , -0.50968 ,  0.09759 , -0.20696 ,\n",
       "        1.3895  , -0.70472 , -0.17107 , -0.56504 ,  0.079604, -0.33617 ,\n",
       "       -0.30254 , -0.15911 ,  0.80456 ,  0.11455 ,  0.22747 ,  0.56209 ,\n",
       "       -0.19012 ,  0.22695 , -0.21445 ,  0.64895 ,  0.051276, -1.1333  ,\n",
       "       -1.0925  ,  1.4248  ], dtype=float32)"
      ]
     },
     "execution_count": 384,
     "metadata": {},
     "output_type": "execute_result"
    }
   ],
   "source": [
    "glove['austin']"
   ]
  },
  {
   "cell_type": "code",
   "execution_count": 385,
   "metadata": {},
   "outputs": [],
   "source": [
    "class W2vVectorizer(object):\n",
    "    \n",
    "    def __init__(self, w2v):\n",
    "        # Takes in a dictionary of words and vectors as input\n",
    "        self.w2v = w2v\n",
    "        if len(w2v) == 0:\n",
    "            self.dimensions = 0\n",
    "        else:\n",
    "            self.dimensions = len(w2v[next(iter(glove))])\n",
    "    \n",
    "    # Note: Even though it doesn't do anything, it's required that this object implement a fit method or else\n",
    "    # it can't be used in a scikit-learn pipeline  \n",
    "    def fit(self, X, y):\n",
    "        return self\n",
    "            \n",
    "    def transform(self, X):\n",
    "        return np.array([\n",
    "            np.mean([self.w2v[w] for w in words if w in self.w2v]\n",
    "                   or [np.zeros(self.dimensions)], axis=0) for words in X])"
   ]
  },
  {
   "cell_type": "code",
   "execution_count": 387,
   "metadata": {},
   "outputs": [],
   "source": [
    "from sklearn.ensemble import RandomForestClassifier\n",
    "from sklearn.svm import SVC\n",
    "from sklearn.linear_model import LogisticRegression\n",
    "from sklearn.pipeline import Pipeline\n",
    "from sklearn.model_selection import cross_val_score"
   ]
  },
  {
   "cell_type": "code",
   "execution_count": 388,
   "metadata": {},
   "outputs": [],
   "source": [
    "rf =  Pipeline([('Word2Vec Vectorizer', W2vVectorizer(glove)),\n",
    "              ('Random Forest', RandomForestClassifier(n_estimators=100, verbose=True))])\n",
    "svc = Pipeline([('Word2Vec Vectorizer', W2vVectorizer(glove)),\n",
    "                ('Support Vector Machine', SVC())])\n",
    "lr = Pipeline([('Word2Vec Vectorizer', W2vVectorizer(glove)),\n",
    "              ('Logistic Regression', LogisticRegression())])"
   ]
  },
  {
   "cell_type": "code",
   "execution_count": 389,
   "metadata": {},
   "outputs": [],
   "source": [
    "models = [('Random Forest', rf),\n",
    "          ('Support Vector Machine', svc),\n",
    "          ('Logistic Regression', lr)]"
   ]
  },
  {
   "cell_type": "code",
   "execution_count": 390,
   "metadata": {},
   "outputs": [
    {
     "name": "stdout",
     "output_type": "stream",
     "text": [
      "<class 'pandas.core.frame.DataFrame'>\n",
      "RangeIndex: 9092 entries, 0 to 9091\n",
      "Data columns (total 9 columns):\n",
      "tweet_text                                            9092 non-null object\n",
      "emotion_in_tweet_is_directed_at                       9092 non-null object\n",
      "is_there_an_emotion_directed_at_a_brand_or_product    9092 non-null object\n",
      "brand_directed_at                                     9092 non-null object\n",
      "num_brand_directed_at                                 9092 non-null int64\n",
      "type_directed_at                                      9092 non-null object\n",
      "num_type_directed_at                                  9092 non-null int64\n",
      "target                                                9092 non-null int64\n",
      "clean_text                                            9092 non-null object\n",
      "dtypes: int64(3), object(6)\n",
      "memory usage: 639.4+ KB\n"
     ]
    }
   ],
   "source": [
    "df.info()"
   ]
  },
  {
   "cell_type": "code",
   "execution_count": 391,
   "metadata": {},
   "outputs": [],
   "source": [
    "target = df['target']\n",
    "data = df['tweet_text'].map(word_tokenize).values"
   ]
  },
  {
   "cell_type": "code",
   "execution_count": 393,
   "metadata": {},
   "outputs": [
    {
     "name": "stderr",
     "output_type": "stream",
     "text": [
      "[Parallel(n_jobs=1)]: Using backend SequentialBackend with 1 concurrent workers.\n",
      "[Parallel(n_jobs=1)]: Done 100 out of 100 | elapsed:    2.1s finished\n",
      "[Parallel(n_jobs=1)]: Using backend SequentialBackend with 1 concurrent workers.\n",
      "[Parallel(n_jobs=1)]: Done 100 out of 100 | elapsed:    0.1s finished\n",
      "[Parallel(n_jobs=1)]: Using backend SequentialBackend with 1 concurrent workers.\n",
      "[Parallel(n_jobs=1)]: Done 100 out of 100 | elapsed:    2.3s finished\n",
      "[Parallel(n_jobs=1)]: Using backend SequentialBackend with 1 concurrent workers.\n",
      "[Parallel(n_jobs=1)]: Done 100 out of 100 | elapsed:    0.1s finished\n"
     ]
    }
   ],
   "source": [
    "scores = [(name, cross_val_score(model, data, target, cv=2).mean()) for name, model, in models]"
   ]
  },
  {
   "cell_type": "code",
   "execution_count": 394,
   "metadata": {},
   "outputs": [
    {
     "data": {
      "text/plain": [
       "[('Random Forest', 0.6930268367795864),\n",
       " ('Support Vector Machine', 0.6725692916849978),\n",
       " ('Logistic Regression', 0.6721293444786626)]"
      ]
     },
     "execution_count": 394,
     "metadata": {},
     "output_type": "execute_result"
    }
   ],
   "source": [
    "scores"
   ]
  },
  {
   "cell_type": "code",
   "execution_count": null,
   "metadata": {},
   "outputs": [],
   "source": []
  }
 ],
 "metadata": {
  "kernelspec": {
   "display_name": "Python 3",
   "language": "python",
   "name": "python3"
  },
  "language_info": {
   "codemirror_mode": {
    "name": "ipython",
    "version": 3
   },
   "file_extension": ".py",
   "mimetype": "text/x-python",
   "name": "python",
   "nbconvert_exporter": "python",
   "pygments_lexer": "ipython3",
   "version": "3.6.9"
  }
 },
 "nbformat": 4,
 "nbformat_minor": 4
}
